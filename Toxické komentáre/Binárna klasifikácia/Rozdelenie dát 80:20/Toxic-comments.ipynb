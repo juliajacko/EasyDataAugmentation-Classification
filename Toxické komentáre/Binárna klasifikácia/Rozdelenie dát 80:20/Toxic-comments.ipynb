{
 "cells": [
  {
   "cell_type": "code",
   "execution_count": 2,
   "metadata": {},
   "outputs": [],
   "source": [
    "import pandas  as pd\n",
    "import numpy as np\n",
    "import re\n",
    "import string\n",
    "import os\n",
    "import nltk\n",
    "import collections, numpy\n",
    "from nltk.corpus import stopwords\n",
    "from nltk.tokenize import word_tokenize\n",
    "from sklearn.model_selection import train_test_split\n",
    "from keras.preprocessing.text import Tokenizer\n",
    "from keras.preprocessing.sequence import pad_sequences\n",
    "from keras.models import Sequential\n",
    "from keras.optimizers import Adam\n",
    "from keras.layers import Embedding, LSTM,  Flatten, Input,MaxPooling1D,  GlobalMaxPooling1D,Flatten, Dense, Dropout ,Conv1D\n",
    "from sklearn.metrics import classification_report, confusion_matrix\n",
    "from keras.models import Model\n",
    "from keras.callbacks import EarlyStopping, ModelCheckpoint\n",
    "from keras.models import load_model\n",
    "from sklearn.metrics import roc_auc_score , multilabel_confusion_matrix, accuracy_score\n",
    "from nltk.corpus import wordnet \n",
    "import random"
   ]
  },
  {
   "cell_type": "code",
   "execution_count": 3,
   "metadata": {},
   "outputs": [],
   "source": [
    "df_data = pd.read_csv('data.csv')"
   ]
  },
  {
   "cell_type": "code",
   "execution_count": 4,
   "metadata": {},
   "outputs": [
    {
     "data": {
      "text/html": [
       "<div>\n",
       "<style scoped>\n",
       "    .dataframe tbody tr th:only-of-type {\n",
       "        vertical-align: middle;\n",
       "    }\n",
       "\n",
       "    .dataframe tbody tr th {\n",
       "        vertical-align: top;\n",
       "    }\n",
       "\n",
       "    .dataframe thead th {\n",
       "        text-align: right;\n",
       "    }\n",
       "</style>\n",
       "<table border=\"1\" class=\"dataframe\">\n",
       "  <thead>\n",
       "    <tr style=\"text-align: right;\">\n",
       "      <th></th>\n",
       "      <th>id</th>\n",
       "      <th>target</th>\n",
       "      <th>comment_text</th>\n",
       "      <th>severe_toxicity</th>\n",
       "      <th>obscene</th>\n",
       "      <th>identity_attack</th>\n",
       "      <th>insult</th>\n",
       "      <th>threat</th>\n",
       "      <th>asian</th>\n",
       "      <th>atheist</th>\n",
       "      <th>...</th>\n",
       "      <th>article_id</th>\n",
       "      <th>rating</th>\n",
       "      <th>funny</th>\n",
       "      <th>wow</th>\n",
       "      <th>sad</th>\n",
       "      <th>likes</th>\n",
       "      <th>disagree</th>\n",
       "      <th>sexual_explicit</th>\n",
       "      <th>identity_annotator_count</th>\n",
       "      <th>toxicity_annotator_count</th>\n",
       "    </tr>\n",
       "  </thead>\n",
       "  <tbody>\n",
       "    <tr>\n",
       "      <th>0</th>\n",
       "      <td>59848</td>\n",
       "      <td>0.000000</td>\n",
       "      <td>This is so cool. It's like, 'would you want yo...</td>\n",
       "      <td>0.000000</td>\n",
       "      <td>0.0</td>\n",
       "      <td>0.000000</td>\n",
       "      <td>0.00000</td>\n",
       "      <td>0.0</td>\n",
       "      <td>NaN</td>\n",
       "      <td>NaN</td>\n",
       "      <td>...</td>\n",
       "      <td>2006</td>\n",
       "      <td>rejected</td>\n",
       "      <td>0</td>\n",
       "      <td>0</td>\n",
       "      <td>0</td>\n",
       "      <td>0</td>\n",
       "      <td>0</td>\n",
       "      <td>0.0</td>\n",
       "      <td>0</td>\n",
       "      <td>4</td>\n",
       "    </tr>\n",
       "    <tr>\n",
       "      <th>1</th>\n",
       "      <td>59849</td>\n",
       "      <td>0.000000</td>\n",
       "      <td>Thank you!! This would make my life a lot less...</td>\n",
       "      <td>0.000000</td>\n",
       "      <td>0.0</td>\n",
       "      <td>0.000000</td>\n",
       "      <td>0.00000</td>\n",
       "      <td>0.0</td>\n",
       "      <td>NaN</td>\n",
       "      <td>NaN</td>\n",
       "      <td>...</td>\n",
       "      <td>2006</td>\n",
       "      <td>rejected</td>\n",
       "      <td>0</td>\n",
       "      <td>0</td>\n",
       "      <td>0</td>\n",
       "      <td>0</td>\n",
       "      <td>0</td>\n",
       "      <td>0.0</td>\n",
       "      <td>0</td>\n",
       "      <td>4</td>\n",
       "    </tr>\n",
       "    <tr>\n",
       "      <th>2</th>\n",
       "      <td>59852</td>\n",
       "      <td>0.000000</td>\n",
       "      <td>This is such an urgent design problem; kudos t...</td>\n",
       "      <td>0.000000</td>\n",
       "      <td>0.0</td>\n",
       "      <td>0.000000</td>\n",
       "      <td>0.00000</td>\n",
       "      <td>0.0</td>\n",
       "      <td>NaN</td>\n",
       "      <td>NaN</td>\n",
       "      <td>...</td>\n",
       "      <td>2006</td>\n",
       "      <td>rejected</td>\n",
       "      <td>0</td>\n",
       "      <td>0</td>\n",
       "      <td>0</td>\n",
       "      <td>0</td>\n",
       "      <td>0</td>\n",
       "      <td>0.0</td>\n",
       "      <td>0</td>\n",
       "      <td>4</td>\n",
       "    </tr>\n",
       "    <tr>\n",
       "      <th>3</th>\n",
       "      <td>59855</td>\n",
       "      <td>0.000000</td>\n",
       "      <td>Is this something I'll be able to install on m...</td>\n",
       "      <td>0.000000</td>\n",
       "      <td>0.0</td>\n",
       "      <td>0.000000</td>\n",
       "      <td>0.00000</td>\n",
       "      <td>0.0</td>\n",
       "      <td>NaN</td>\n",
       "      <td>NaN</td>\n",
       "      <td>...</td>\n",
       "      <td>2006</td>\n",
       "      <td>rejected</td>\n",
       "      <td>0</td>\n",
       "      <td>0</td>\n",
       "      <td>0</td>\n",
       "      <td>0</td>\n",
       "      <td>0</td>\n",
       "      <td>0.0</td>\n",
       "      <td>0</td>\n",
       "      <td>4</td>\n",
       "    </tr>\n",
       "    <tr>\n",
       "      <th>4</th>\n",
       "      <td>59856</td>\n",
       "      <td>0.893617</td>\n",
       "      <td>haha you guys are a bunch of losers.</td>\n",
       "      <td>0.021277</td>\n",
       "      <td>0.0</td>\n",
       "      <td>0.021277</td>\n",
       "      <td>0.87234</td>\n",
       "      <td>0.0</td>\n",
       "      <td>0.0</td>\n",
       "      <td>0.0</td>\n",
       "      <td>...</td>\n",
       "      <td>2006</td>\n",
       "      <td>rejected</td>\n",
       "      <td>0</td>\n",
       "      <td>0</td>\n",
       "      <td>0</td>\n",
       "      <td>1</td>\n",
       "      <td>0</td>\n",
       "      <td>0.0</td>\n",
       "      <td>4</td>\n",
       "      <td>47</td>\n",
       "    </tr>\n",
       "  </tbody>\n",
       "</table>\n",
       "<p>5 rows × 45 columns</p>\n",
       "</div>"
      ],
      "text/plain": [
       "      id    target                                       comment_text  \\\n",
       "0  59848  0.000000  This is so cool. It's like, 'would you want yo...   \n",
       "1  59849  0.000000  Thank you!! This would make my life a lot less...   \n",
       "2  59852  0.000000  This is such an urgent design problem; kudos t...   \n",
       "3  59855  0.000000  Is this something I'll be able to install on m...   \n",
       "4  59856  0.893617               haha you guys are a bunch of losers.   \n",
       "\n",
       "   severe_toxicity  obscene  identity_attack   insult  threat  asian  atheist  \\\n",
       "0         0.000000      0.0         0.000000  0.00000     0.0    NaN      NaN   \n",
       "1         0.000000      0.0         0.000000  0.00000     0.0    NaN      NaN   \n",
       "2         0.000000      0.0         0.000000  0.00000     0.0    NaN      NaN   \n",
       "3         0.000000      0.0         0.000000  0.00000     0.0    NaN      NaN   \n",
       "4         0.021277      0.0         0.021277  0.87234     0.0    0.0      0.0   \n",
       "\n",
       "   ...  article_id    rating  funny  wow  sad  likes  disagree  \\\n",
       "0  ...        2006  rejected      0    0    0      0         0   \n",
       "1  ...        2006  rejected      0    0    0      0         0   \n",
       "2  ...        2006  rejected      0    0    0      0         0   \n",
       "3  ...        2006  rejected      0    0    0      0         0   \n",
       "4  ...        2006  rejected      0    0    0      1         0   \n",
       "\n",
       "   sexual_explicit  identity_annotator_count  toxicity_annotator_count  \n",
       "0              0.0                         0                         4  \n",
       "1              0.0                         0                         4  \n",
       "2              0.0                         0                         4  \n",
       "3              0.0                         0                         4  \n",
       "4              0.0                         4                        47  \n",
       "\n",
       "[5 rows x 45 columns]"
      ]
     },
     "execution_count": 4,
     "metadata": {},
     "output_type": "execute_result"
    }
   ],
   "source": [
    "df_data.head()\n"
   ]
  },
  {
   "cell_type": "code",
   "execution_count": 5,
   "metadata": {},
   "outputs": [
    {
     "data": {
      "text/plain": [
       "Index(['id', 'target', 'comment_text', 'severe_toxicity', 'obscene',\n",
       "       'identity_attack', 'insult', 'threat', 'asian', 'atheist', 'bisexual',\n",
       "       'black', 'buddhist', 'christian', 'female', 'heterosexual', 'hindu',\n",
       "       'homosexual_gay_or_lesbian', 'intellectual_or_learning_disability',\n",
       "       'jewish', 'latino', 'male', 'muslim', 'other_disability',\n",
       "       'other_gender', 'other_race_or_ethnicity', 'other_religion',\n",
       "       'other_sexual_orientation', 'physical_disability',\n",
       "       'psychiatric_or_mental_illness', 'transgender', 'white', 'created_date',\n",
       "       'publication_id', 'parent_id', 'article_id', 'rating', 'funny', 'wow',\n",
       "       'sad', 'likes', 'disagree', 'sexual_explicit',\n",
       "       'identity_annotator_count', 'toxicity_annotator_count'],\n",
       "      dtype='object')"
      ]
     },
     "execution_count": 5,
     "metadata": {},
     "output_type": "execute_result"
    }
   ],
   "source": [
    "df_data.columns"
   ]
  },
  {
   "cell_type": "code",
   "execution_count": 6,
   "metadata": {},
   "outputs": [
    {
     "data": {
      "text/html": [
       "<div>\n",
       "<style scoped>\n",
       "    .dataframe tbody tr th:only-of-type {\n",
       "        vertical-align: middle;\n",
       "    }\n",
       "\n",
       "    .dataframe tbody tr th {\n",
       "        vertical-align: top;\n",
       "    }\n",
       "\n",
       "    .dataframe thead th {\n",
       "        text-align: right;\n",
       "    }\n",
       "</style>\n",
       "<table border=\"1\" class=\"dataframe\">\n",
       "  <thead>\n",
       "    <tr style=\"text-align: right;\">\n",
       "      <th></th>\n",
       "      <th>target</th>\n",
       "      <th>comment_text</th>\n",
       "    </tr>\n",
       "  </thead>\n",
       "  <tbody>\n",
       "    <tr>\n",
       "      <th>0</th>\n",
       "      <td>0.000000</td>\n",
       "      <td>This is so cool. It's like, 'would you want yo...</td>\n",
       "    </tr>\n",
       "    <tr>\n",
       "      <th>1</th>\n",
       "      <td>0.000000</td>\n",
       "      <td>Thank you!! This would make my life a lot less...</td>\n",
       "    </tr>\n",
       "    <tr>\n",
       "      <th>2</th>\n",
       "      <td>0.000000</td>\n",
       "      <td>This is such an urgent design problem; kudos t...</td>\n",
       "    </tr>\n",
       "    <tr>\n",
       "      <th>3</th>\n",
       "      <td>0.000000</td>\n",
       "      <td>Is this something I'll be able to install on m...</td>\n",
       "    </tr>\n",
       "    <tr>\n",
       "      <th>4</th>\n",
       "      <td>0.893617</td>\n",
       "      <td>haha you guys are a bunch of losers.</td>\n",
       "    </tr>\n",
       "  </tbody>\n",
       "</table>\n",
       "</div>"
      ],
      "text/plain": [
       "     target                                       comment_text\n",
       "0  0.000000  This is so cool. It's like, 'would you want yo...\n",
       "1  0.000000  Thank you!! This would make my life a lot less...\n",
       "2  0.000000  This is such an urgent design problem; kudos t...\n",
       "3  0.000000  Is this something I'll be able to install on m...\n",
       "4  0.893617               haha you guys are a bunch of losers."
      ]
     },
     "execution_count": 6,
     "metadata": {},
     "output_type": "execute_result"
    }
   ],
   "source": [
    "######vytvorenie mnoziny s 2 potrebnymi stlpcami\n",
    "df_data=df_data[['target', 'comment_text']]\n",
    "df_data.head(5)"
   ]
  },
  {
   "cell_type": "code",
   "execution_count": 7,
   "metadata": {},
   "outputs": [
    {
     "data": {
      "text/plain": [
       "0    1660540\n",
       "1     144334\n",
       "Name: target, dtype: int64"
      ]
     },
     "execution_count": 7,
     "metadata": {},
     "output_type": "execute_result"
    }
   ],
   "source": [
    "###vsetky tagret, ktore maju hodnotu vysiou ako 0.5 tak maju hodnotu 1 toxic a nakopak\n",
    "def assign_class(target):\n",
    "    if target >= .5:\n",
    "        return 1\n",
    "    else: \n",
    "        return 0\n",
    "df_data['target'] = df_data.apply(lambda x: assign_class(x['target']), axis= 1)\n",
    "df_data.head(5)  \n",
    "df_data.target.value_counts() ####kolko je 0 a kolko ma hodnotenie 1"
   ]
  },
  {
   "cell_type": "code",
   "execution_count": 8,
   "metadata": {},
   "outputs": [
    {
     "data": {
      "text/html": [
       "<div>\n",
       "<style scoped>\n",
       "    .dataframe tbody tr th:only-of-type {\n",
       "        vertical-align: middle;\n",
       "    }\n",
       "\n",
       "    .dataframe tbody tr th {\n",
       "        vertical-align: top;\n",
       "    }\n",
       "\n",
       "    .dataframe thead th {\n",
       "        text-align: right;\n",
       "    }\n",
       "</style>\n",
       "<table border=\"1\" class=\"dataframe\">\n",
       "  <thead>\n",
       "    <tr style=\"text-align: right;\">\n",
       "      <th></th>\n",
       "      <th>target</th>\n",
       "      <th>comment_text</th>\n",
       "    </tr>\n",
       "  </thead>\n",
       "  <tbody>\n",
       "    <tr>\n",
       "      <th>0</th>\n",
       "      <td>0</td>\n",
       "      <td>This is so cool. It's like, 'would you want yo...</td>\n",
       "    </tr>\n",
       "    <tr>\n",
       "      <th>1</th>\n",
       "      <td>0</td>\n",
       "      <td>Thank you!! This would make my life a lot less...</td>\n",
       "    </tr>\n",
       "    <tr>\n",
       "      <th>2</th>\n",
       "      <td>0</td>\n",
       "      <td>This is such an urgent design problem; kudos t...</td>\n",
       "    </tr>\n",
       "    <tr>\n",
       "      <th>3</th>\n",
       "      <td>0</td>\n",
       "      <td>Is this something I'll be able to install on m...</td>\n",
       "    </tr>\n",
       "    <tr>\n",
       "      <th>4</th>\n",
       "      <td>1</td>\n",
       "      <td>haha you guys are a bunch of losers.</td>\n",
       "    </tr>\n",
       "  </tbody>\n",
       "</table>\n",
       "</div>"
      ],
      "text/plain": [
       "   target                                       comment_text\n",
       "0       0  This is so cool. It's like, 'would you want yo...\n",
       "1       0  Thank you!! This would make my life a lot less...\n",
       "2       0  This is such an urgent design problem; kudos t...\n",
       "3       0  Is this something I'll be able to install on m...\n",
       "4       1               haha you guys are a bunch of losers."
      ]
     },
     "execution_count": 8,
     "metadata": {},
     "output_type": "execute_result"
    }
   ],
   "source": [
    "df_data.head(5)"
   ]
  },
  {
   "cell_type": "code",
   "execution_count": 9,
   "metadata": {},
   "outputs": [
    {
     "data": {
      "text/plain": [
       "target          0\n",
       "comment_text    0\n",
       "dtype: int64"
      ]
     },
     "execution_count": 9,
     "metadata": {},
     "output_type": "execute_result"
    }
   ],
   "source": [
    "###kolko je chybajucich hodnot\n",
    "df_data.isnull().sum()"
   ]
  },
  {
   "cell_type": "code",
   "execution_count": 10,
   "metadata": {},
   "outputs": [
    {
     "name": "stdout",
     "output_type": "stream",
     "text": [
      "<class 'pandas.core.frame.DataFrame'>\n",
      "RangeIndex: 1804874 entries, 0 to 1804873\n",
      "Data columns (total 2 columns):\n",
      " #   Column        Dtype \n",
      "---  ------        ----- \n",
      " 0   target        int64 \n",
      " 1   comment_text  object\n",
      "dtypes: int64(1), object(1)\n",
      "memory usage: 27.5+ MB\n",
      "<class 'pandas.core.frame.DataFrame'>\n",
      "Int64Index: 1804874 entries, 0 to 1804873\n",
      "Data columns (total 2 columns):\n",
      " #   Column        Dtype \n",
      "---  ------        ----- \n",
      " 0   target        int64 \n",
      " 1   comment_text  object\n",
      "dtypes: int64(1), object(1)\n",
      "memory usage: 41.3+ MB\n"
     ]
    }
   ],
   "source": [
    "df_data.comment_text.replace('', np.NaN, inplace=True) ###nahradenie prazdneho riadka hodnotou NAN\n",
    "df_data.info()\n",
    "np.sum(df_data.isnull().any(axis=1))\n",
    "df_data[df_data.isnull().any(axis=1)].head()\n",
    "df_data.dropna(inplace=True)  ###odstranneie riadkov NaN\n",
    "df_data.info()"
   ]
  },
  {
   "cell_type": "code",
   "execution_count": 11,
   "metadata": {},
   "outputs": [
    {
     "data": {
      "text/plain": [
       "Text(0.5, 1.0, 'Zobrazenie dlzky komentárov')"
      ]
     },
     "execution_count": 11,
     "metadata": {},
     "output_type": "execute_result"
    },
    {
     "data": {
      "image/png": "[encoded data removed]",
      "text/plain": [
       "<Figure size 864x432 with 1 Axes>"
      ]
     },
     "metadata": {
      "needs_background": "light"
     },
     "output_type": "display_data"
    }
   ],
   "source": [
    "import matplotlib.pyplot as plt\n",
    "import seaborn as sns\n",
    "########vizualizacia dlzky komnetarov\n",
    "df_data['comment_text_length'] = df_data['comment_text'].apply(lambda x : len(x))\n",
    "fig, axarr = plt.subplots(1,1,figsize=(12, 6))\n",
    "sns.kdeplot(df_data['comment_text_length']).set_title(\"Zobrazenie dlzky komentárov\", fontsize=15)\n"
   ]
  },
  {
   "cell_type": "code",
   "execution_count": 12,
   "metadata": {},
   "outputs": [
    {
     "data": {
      "image/png": "[encoded data removed]",
      "text/plain": [
       "<Figure size 720x504 with 1 Axes>"
      ]
     },
     "metadata": {
      "needs_background": "light"
     },
     "output_type": "display_data"
    }
   ],
   "source": [
    "plt.figure(figsize=(10,7))\n",
    "plot = sns.countplot(x='target', data=pd.DataFrame(df_data['target'].map({False:'Netoxicke',True:'Toxické'}), columns=['target']),palette=[\"#DAF7A6\", \"#FDFA6A\"])\n",
    "\n",
    "ax = plot.axes\n",
    "ax.set(xlabel=\"Triedy v atribúte label\", ylabel = \"Počet\")\n",
    "\n",
    "\n",
    "for p in ax.patches:\n",
    "    ax.annotate(f'{p.get_height() * 100 / df_data.shape[0]:.2f}%',\n",
    "                (p.get_x() + p.get_width() / 2., p.get_height()), \n",
    "                ha='center', \n",
    "                va='center',\n",
    "                fontsize=8, \n",
    "                color='black',\n",
    "                xytext=(0,7), \n",
    "                textcoords='offset points')\n"
   ]
  },
  {
   "cell_type": "code",
   "execution_count": 13,
   "metadata": {},
   "outputs": [
    {
     "data": {
      "text/plain": [
       "\"Thank you!! This would make my life a lot less anxiety-inducing. Keep it up, and don't let anyone get in your way!\""
      ]
     },
     "execution_count": 13,
     "metadata": {},
     "output_type": "execute_result"
    }
   ],
   "source": [
    "df_data.comment_text[1]"
   ]
  },
  {
   "cell_type": "code",
   "execution_count": 14,
   "metadata": {},
   "outputs": [],
   "source": [
    "###ulozenie dat\n",
    "df_data.to_csv('data_preprocess.csv',index=False)"
   ]
  },
  {
   "cell_type": "code",
   "execution_count": 3,
   "metadata": {},
   "outputs": [
    {
     "name": "stdout",
     "output_type": "stream",
     "text": [
      "Loading data...\n"
     ]
    }
   ],
   "source": [
    "print('Loading data...')\n",
    "data= pd.read_csv('data_preprocess.csv')"
   ]
  },
  {
   "cell_type": "code",
   "execution_count": 4,
   "metadata": {},
   "outputs": [
    {
     "name": "stdout",
     "output_type": "stream",
     "text": [
      "Celkový počet trénovacich príkladov je 1443899 z toho  92.02% je netoxických a 7.98% je toxických\n",
      "Celkový počet testovacich príkladov je 360975 z toho 91.94% je netoxických a 8.06% je toxických\n"
     ]
    }
   ],
   "source": [
    "x = data[\"comment_text\"].fillna(\"fillna\")\n",
    "y = data[\"target\"].values\n",
    "SEED = 42\n",
    "x_train,x_test, y_train ,y_test= train_test_split(x, y, test_size=0.2, random_state=SEED)\n",
    "\n",
    "print (\"Celkový počet trénovacich príkladov je {0} z toho  {1:.2f}% je netoxických a {2:.2f}% je toxických\".format(len(x_train),\n",
    "                      (len(x_train[y_train == 0]) / (len(x_train)*1.))*100,(len(x_train[y_train == 1]) / (len(x_train)*1.))*100))\n",
    "\n",
    "print (\"Celkový počet testovacich príkladov je {0} z toho {1:.2f}% je netoxických a {2:.2f}% je toxických\".format(len(x_test),\n",
    "                      (len(x_test[y_test == 0]) / (len(x_test)*1.))*100,(len(x_test[y_test == 1]) / (len(x_test)*1.))*100))\n",
    "  "
   ]
  },
  {
   "cell_type": "code",
   "execution_count": 19,
   "metadata": {},
   "outputs": [],
   "source": [
    "x_train.to_csv('train.csv',index=False)  \n",
    "np.save('train_label',y_train)  \n",
    "x_test.to_csv('test.csv',index=False)  \n",
    "np.save('test_label',y_test) \n",
    "\n"
   ]
  },
  {
   "cell_type": "code",
   "execution_count": 14,
   "metadata": {},
   "outputs": [],
   "source": [
    "x_train=pd.read_csv('train.csv',squeeze = True)\n",
    "y_train=np.load('train_label.npy') \n",
    "x_test=pd.read_csv('test.csv',squeeze = True)\n",
    "y_test=np.load('test_label.npy') "
   ]
  },
  {
   "cell_type": "code",
   "execution_count": 5,
   "metadata": {},
   "outputs": [],
   "source": [
    "EMBEDDING_DIM = 300 \n",
    "max_features = 50000 \n",
    "max_length = 200"
   ]
  },
  {
   "cell_type": "code",
   "execution_count": 6,
   "metadata": {},
   "outputs": [],
   "source": [
    "EMBEDDING_FILE = 'glove.840B.300d.txt' # nacitanie slovnika glove\n",
    "embeddings_index = {}\n",
    "f = open(os.path.join('','glove.840B.300d.txt'), encoding = \"utf-8\")\n",
    "for line in f:\n",
    "    values = line.split(' ')\n",
    "    word = values[0]\n",
    "    coefs = np.asarray(values[1:])\n",
    "    embeddings_index[word] = coefs\n",
    "f.close()"
   ]
  },
  {
   "cell_type": "code",
   "execution_count": 23,
   "metadata": {},
   "outputs": [
    {
     "name": "stdout",
     "output_type": "stream",
     "text": [
      "Tokenizacia\n"
     ]
    }
   ],
   "source": [
    "print(\"Tokenizacia\")\n",
    "tokenizer = Tokenizer(num_words=max_features)\n",
    "tokenizer.fit_on_texts(list(x_train))\n",
    "sequences_train = tokenizer.texts_to_sequences(x_train)\n",
    "sequences_test = tokenizer.texts_to_sequences(x_test)"
   ]
  },
  {
   "cell_type": "code",
   "execution_count": 24,
   "metadata": {},
   "outputs": [],
   "source": [
    "x_train_seq = pad_sequences(sequences_train, maxlen=max_length) \n",
    "x_test_seq = pad_sequences(sequences_test, maxlen=max_length)"
   ]
  },
  {
   "cell_type": "code",
   "execution_count": 25,
   "metadata": {},
   "outputs": [
    {
     "name": "stdout",
     "output_type": "stream",
     "text": [
      "Emmbedings matica...\n",
      "353110\n"
     ]
    },
    {
     "data": {
      "text/plain": [
       "(353110, 300)"
      ]
     },
     "execution_count": 25,
     "metadata": {},
     "output_type": "execute_result"
    }
   ],
   "source": [
    "word_index = tokenizer.word_index\n",
    "print(\"Emmbedings matica...\")\n",
    "num_words = len(word_index) + 1\n",
    "embedding_matrix = np.zeros((num_words, EMBEDDING_DIM))\n",
    "\n",
    "for word, i in word_index.items():\n",
    "    if i > num_words:\n",
    "        continue\n",
    "    embedding_vector = embeddings_index.get(word)\n",
    "    if embedding_vector is not None:\n",
    "        embedding_matrix[i] = embedding_vector\n",
    "print(num_words)\n",
    "embedding_matrix.shape "
   ]
  },
  {
   "cell_type": "code",
   "execution_count": null,
   "metadata": {},
   "outputs": [
    {
     "name": "stdout",
     "output_type": "stream",
     "text": [
      "Model: \"sequential\"\n",
      "_________________________________________________________________\n",
      "Layer (type)                 Output Shape              Param #   \n",
      "=================================================================\n",
      "embedding (Embedding)        (None, 200, 300)          105933000 \n",
      "_________________________________________________________________\n",
      "conv1d (Conv1D)              (None, 200, 64)           19264     \n",
      "_________________________________________________________________\n",
      "max_pooling1d (MaxPooling1D) (None, 100, 64)           0         \n",
      "_________________________________________________________________\n",
      "conv1d_1 (Conv1D)            (None, 100, 64)           4160      \n",
      "_________________________________________________________________\n",
      "max_pooling1d_1 (MaxPooling1 (None, 50, 64)            0         \n",
      "_________________________________________________________________\n",
      "flatten (Flatten)            (None, 3200)              0         \n",
      "_________________________________________________________________\n",
      "dropout (Dropout)            (None, 3200)              0         \n",
      "_________________________________________________________________\n",
      "dense (Dense)                (None, 128)               409728    \n",
      "_________________________________________________________________\n",
      "dense_1 (Dense)              (None, 1)                 129       \n",
      "=================================================================\n",
      "Total params: 106,366,281\n",
      "Trainable params: 106,366,281\n",
      "Non-trainable params: 0\n",
      "_________________________________________________________________\n",
      "Trénovanie modelu...\n",
      "Epoch 1/2\n",
      " 2310/40610 [>.............................] - ETA: 11:04:52 - loss: 0.1733 - acc: 0.9383"
     ]
    }
   ],
   "source": [
    "####MODELOVANIE \n",
    "####Zakladny model CNN\n",
    "model= Sequential()\n",
    "e = Embedding(num_words,  EMBEDDING_DIM, weights=[embedding_matrix], input_length=max_length)\n",
    "model.add(e)\n",
    "model.add(Conv1D(filters=64, kernel_size=1, padding='valid', activation='relu'))\n",
    "model.add(MaxPooling1D(2))\n",
    "model.add(Conv1D(filters=64, kernel_size=1, padding='valid', activation='relu'))\n",
    "model.add(MaxPooling1D(2))\n",
    "model.add(Flatten())\n",
    "model.add(Dropout(0.2))\n",
    "model.add(Dense(128, activation='relu'))\n",
    "model.add(Dense(1, activation='sigmoid'))\n",
    "model.compile(loss='binary_crossentropy', optimizer='adam', metrics=['acc'])\n",
    "model.summary()\n",
    "\n",
    "saved_model = \"model.hdf5\"\n",
    "checkpoint = ModelCheckpoint(saved_model, monitor='val_acc', verbose=1, save_best_only=True, mode='max')\n",
    "\n",
    "\n",
    "print('Trénovanie modelu...')\n",
    "history = model.fit(x_train_seq, y_train, batch_size=32, epochs=2, callbacks=[checkpoint], validation_split=0.1)\n"
   ]
  },
  {
   "cell_type": "code",
   "execution_count": 29,
   "metadata": {},
   "outputs": [
    {
     "name": "stdout",
     "output_type": "stream",
     "text": [
      "Načítanie modelu....\n",
      "Vyhodnotenie...\n",
      "Roc auc skóre je 0.9461014787290275\n",
      "Úspešnosť je 0.948511669783226\n",
      "              precision    recall  f1-score   support\n",
      "\n",
      "           0       0.96      0.99      0.97    331897\n",
      "           1       0.78      0.50      0.61     29078\n",
      "\n",
      "    accuracy                           0.95    360975\n",
      "   macro avg       0.87      0.74      0.79    360975\n",
      "weighted avg       0.94      0.95      0.94    360975\n",
      "\n",
      "Kontigenčná tabuľka\n",
      "[[327845   4052]\n",
      " [ 14534  14544]]\n"
     ]
    }
   ],
   "source": [
    "print(\"Načítanie modelu....\")\n",
    "model = load_model('model.hdf5')\n",
    "print(\"Vyhodnotenie...\")\n",
    "y_pred = model.predict(x_test_seq)\n",
    "# roc auc score\n",
    "print('Roc auc skóre je {}'.format(roc_auc_score(y_test,y_pred)))\n",
    "\n",
    "# CR/CM\n",
    "y_int = np.zeros_like(y_pred)\n",
    "y_int[y_pred > 0.5] = 1\n",
    "print('Úspešnosť je {}'.format(accuracy_score(y_test,y_int)))\n",
    "print(classification_report(y_test, y_int, zero_division=0))\n",
    "print(\"Kontigenčná tabuľka\")\n",
    "print(confusion_matrix(y_test, y_int))\n"
   ]
  },
  {
   "cell_type": "code",
   "execution_count": 18,
   "metadata": {},
   "outputs": [
    {
     "name": "stderr",
     "output_type": "stream",
     "text": [
      "[nltk_data] Downloading package stopwords to /home/jovyan/nltk_data...\n",
      "[nltk_data]   Package stopwords is already up-to-date!\n",
      "[nltk_data] Downloading package wordnet to /home/jovyan/nltk_data...\n",
      "[nltk_data]   Package wordnet is already up-to-date!\n"
     ]
    },
    {
     "data": {
      "text/plain": [
       "True"
      ]
     },
     "execution_count": 18,
     "metadata": {},
     "output_type": "execute_result"
    }
   ],
   "source": [
    "import nltk\n",
    "nltk.download('stopwords')\n",
    "nltk.download('wordnet')"
   ]
  },
  {
   "cell_type": "code",
   "execution_count": 19,
   "metadata": {},
   "outputs": [
    {
     "name": "stdout",
     "output_type": "stream",
     "text": [
      "Modely rozsirenia EDA\n",
      "Nahradenie synonym\n"
     ]
    }
   ],
   "source": [
    "print(\"Modely rozsirenia EDA\")\n",
    "\n",
    "print(\"Nahradenie synonym\")\n",
    "stop_words = []\n",
    "for w in stopwords.words('english'):\n",
    "    stop_words.append(w)\n",
    "\n",
    "def get_synonyms(word):\n",
    "    \n",
    "    synonyms = set()\n",
    "    \n",
    "    for syn in wordnet.synsets(word):\n",
    "        for l in syn.lemmas():\n",
    "            synonym = l.name().replace(\"_\", \" \").replace(\"-\", \" \").lower()\n",
    "            synonym = \"\".join([char for char in synonym if char in ' qwertyuiopasdfghjklzxcvbnm'])\n",
    "            synonyms.add(synonym) \n",
    "    if word in synonyms:\n",
    "        synonyms.remove(word)\n",
    "    \n",
    "    return list(synonyms)\n",
    "def synonym_replacement(words, n=4):\n",
    "    \n",
    "    words = words.split()\n",
    "    \n",
    "    new_words = words.copy()\n",
    "    random_word_list = list(set([word for word in words if word not in stop_words]))\n",
    "    random.shuffle(random_word_list)\n",
    "    num_replaced = 0\n",
    "    \n",
    "    for random_word in random_word_list:\n",
    "        synonyms = get_synonyms(random_word)\n",
    "        \n",
    "        if len(synonyms) >= 1:\n",
    "            synonym = random.choice(list(synonyms))\n",
    "            new_words = [synonym if word == random_word else word for word in new_words]\n",
    "            num_replaced += 1\n",
    "        \n",
    "        if num_replaced >= n: #only replace up to n words\n",
    "            break\n",
    "\n",
    "    sentence = ' '.join(new_words)\n",
    "    new_words = sentence.split(' ')\n",
    "\n",
    "    return sentence\n",
    "\n",
    "toxic = x_train[y_train==1]\n",
    "x_synonym = toxic.apply(synonym_replacement)\n",
    "y_synonym= np.ones(len(x_synonym))\n"
   ]
  },
  {
   "cell_type": "code",
   "execution_count": 20,
   "metadata": {},
   "outputs": [],
   "source": [
    "x_syn=pd.concat([x_train,x_synonym])\n",
    "y_syn=np.concatenate((y_train,y_synonym), axis=0)\n",
    "y_syn= y_syn.astype('int64')"
   ]
  },
  {
   "cell_type": "code",
   "execution_count": 21,
   "metadata": {},
   "outputs": [
    {
     "name": "stdout",
     "output_type": "stream",
     "text": [
      "Counter({0: 1328643, 1: 115256})\n",
      "Counter({0: 1328643, 1: 230512})\n"
     ]
    }
   ],
   "source": [
    "import collections, numpy\n",
    "print(collections.Counter(y_train))\n",
    "print(collections.Counter(y_syn))\n",
    "\n"
   ]
  },
  {
   "cell_type": "code",
   "execution_count": 22,
   "metadata": {},
   "outputs": [
    {
     "name": "stdout",
     "output_type": "stream",
     "text": [
      "Tokenizacia\n",
      "Emmbedings matrix....\n",
      "356279\n"
     ]
    },
    {
     "data": {
      "text/plain": [
       "(356279, 300)"
      ]
     },
     "execution_count": 22,
     "metadata": {},
     "output_type": "execute_result"
    }
   ],
   "source": [
    "print(\"Tokenizacia\")\n",
    "tokenizer = Tokenizer(max_features)\n",
    "tokenizer.fit_on_texts(x_syn)\n",
    "sequences_train = tokenizer.texts_to_sequences(x_syn)\n",
    "sequences_test = tokenizer.texts_to_sequences(x_test)\n",
    "\n",
    "###sekvenice kazde cislo zobrazuje jedno slovo vo vete\n",
    "\n",
    "x_train_seq = pad_sequences(sequences_train, maxlen=max_length) \n",
    "x_test_seq = pad_sequences(sequences_test, maxlen=max_length)\n",
    "\n",
    "word_index = tokenizer.word_index\n",
    "print(\"Emmbedings matrix....\")\n",
    "num_words = len(word_index) + 1\n",
    "embedding_matrix = np.zeros((num_words, EMBEDDING_DIM))\n",
    "\n",
    "for word, i in word_index.items():\n",
    "    if i > num_words:\n",
    "        continue\n",
    "    embedding_vector = embeddings_index.get(word)\n",
    "    if embedding_vector is not None:\n",
    "        embedding_matrix[i] = embedding_vector\n",
    "print(num_words)\n",
    "embedding_matrix.shape "
   ]
  },
  {
   "cell_type": "code",
   "execution_count": null,
   "metadata": {},
   "outputs": [
    {
     "name": "stdout",
     "output_type": "stream",
     "text": [
      "Model: \"sequential\"\n",
      "_________________________________________________________________\n",
      "Layer (type)                 Output Shape              Param #   \n",
      "=================================================================\n",
      "embedding (Embedding)        (None, 200, 300)          106883700 \n",
      "_________________________________________________________________\n",
      "conv1d (Conv1D)              (None, 200, 64)           19264     \n",
      "_________________________________________________________________\n",
      "max_pooling1d (MaxPooling1D) (None, 100, 64)           0         \n",
      "_________________________________________________________________\n",
      "conv1d_1 (Conv1D)            (None, 100, 64)           4160      \n",
      "_________________________________________________________________\n",
      "max_pooling1d_1 (MaxPooling1 (None, 50, 64)            0         \n",
      "_________________________________________________________________\n",
      "flatten (Flatten)            (None, 3200)              0         \n",
      "_________________________________________________________________\n",
      "dropout (Dropout)            (None, 3200)              0         \n",
      "_________________________________________________________________\n",
      "dense (Dense)                (None, 128)               409728    \n",
      "_________________________________________________________________\n",
      "dense_1 (Dense)              (None, 1)                 129       \n",
      "=================================================================\n",
      "Total params: 107,316,981\n",
      "Trainable params: 107,316,981\n",
      "Non-trainable params: 0\n",
      "_________________________________________________________________\n",
      "Trénovanie modelu...\n",
      "Epoch 1/2\n",
      " 5954/43852 [===>..........................] - ETA: 10:18:02 - loss: 0.1596 - acc: 0.9409"
     ]
    }
   ],
   "source": [
    "\n",
    "model_syn = Sequential()\n",
    "e = Embedding(num_words,  EMBEDDING_DIM, weights=[embedding_matrix], input_length=max_length)\n",
    "model_syn.add(e)\n",
    "model_syn.add(Conv1D(filters=64, kernel_size=1, padding='valid', activation='relu'))\n",
    "model_syn.add(MaxPooling1D(2))\n",
    "model_syn.add(Conv1D(filters=64, kernel_size=1, padding='valid', activation='relu'))\n",
    "model_syn.add(MaxPooling1D(2))\n",
    "model_syn.add(Flatten())\n",
    "model_syn.add(Dropout(0.2))\n",
    "model_syn.add(Dense(128, activation='relu'))\n",
    "model_syn.add(Dense(1, activation='sigmoid'))\n",
    "model_syn.compile(loss='binary_crossentropy', optimizer='adam', metrics=['acc'])\n",
    "model_syn.summary()\n",
    "\n",
    "saved_model_syn= \"model_syn.hdf5\"\n",
    "checkpoint = ModelCheckpoint(saved_model_syn, monitor='val_acc', verbose=1, save_best_only=True, mode='max')\n",
    "\n",
    "print('Trénovanie modelu...')\n",
    "history = model_syn.fit(x_train_seq, y_syn,epochs=2, batch_size=32,callbacks=[checkpoint],validation_split=0.1)"
   ]
  },
  {
   "cell_type": "code",
   "execution_count": 25,
   "metadata": {},
   "outputs": [
    {
     "name": "stdout",
     "output_type": "stream",
     "text": [
      "Načítanie modelu....\n",
      "Vyhodnotenie...\n",
      "Roc auc skore je 0.9509352081045902\n",
      "Úspešnosť je 0.9480822771660087\n",
      "              precision    recall  f1-score   support\n",
      "\n",
      "           0       0.96      0.98      0.97    331897\n",
      "           1       0.74      0.55      0.63     29078\n",
      "\n",
      "    accuracy                           0.95    360975\n",
      "   macro avg       0.85      0.76      0.80    360975\n",
      "weighted avg       0.94      0.95      0.94    360975\n",
      "\n",
      "Kontigenčná tabuľka\n",
      "[[326345   5552]\n",
      " [ 13189  15889]]\n"
     ]
    }
   ],
   "source": [
    "print(\"Načítanie modelu....\")\n",
    "model = load_model('model_syn.hdf5')\n",
    "print(\"Vyhodnotenie...\")\n",
    "y_pred = model.predict(x_test_seq)\n",
    "# roc auc score\n",
    "print('Roc auc skore je {}'.format(roc_auc_score(y_test,y_pred)))\n",
    "\n",
    "# CR/CM\n",
    "y_int = np.zeros_like(y_pred)\n",
    "y_int[y_pred > 0.5] = 1\n",
    "print('Úspešnosť je {}'.format(accuracy_score(y_test,y_int)))\n",
    "print(classification_report(y_test, y_int, zero_division=0))\n",
    "print(\"Kontigenčná tabuľka\")\n",
    "print(confusion_matrix(y_test, y_int))"
   ]
  },
  {
   "cell_type": "code",
   "execution_count": 26,
   "metadata": {},
   "outputs": [
    {
     "name": "stdout",
     "output_type": "stream",
     "text": [
      "Náhodne vloženie\n"
     ]
    }
   ],
   "source": [
    "####NAHODNE VLOZENIE\n",
    "print(\"Náhodne vloženie\")\n",
    "def random_insertion(words, n=3):\n",
    "    \n",
    "    words = words.split()\n",
    "    new_words = words.copy()\n",
    "    \n",
    "    for _ in range(n):\n",
    "        add_word(new_words)\n",
    "        \n",
    "    sentence = ' '.join(new_words)\n",
    "    return sentence\n",
    "\n",
    "def add_word(new_words):\n",
    "    \n",
    "    synonyms = []\n",
    "    counter = 0\n",
    "    \n",
    "    while len(synonyms) < 1:\n",
    "        random_word = new_words[random.randint(0, len(new_words)-1)]\n",
    "        synonyms = get_synonyms(random_word)\n",
    "        counter += 1\n",
    "        if counter >= 10:\n",
    "            return\n",
    "        \n",
    "    random_synonym = synonyms[0]\n",
    "    random_idx = random.randint(0, len(new_words)-1)\n",
    "    new_words.insert(random_idx, random_synonym)\n",
    "    \n",
    "toxic = x_train[y_train==1]\n",
    "\n",
    "\n",
    "x_insert = toxic.apply(random_insertion)\n",
    "y_insert= np.ones(len(x_insert))\n",
    "\n",
    "x_random_insert=pd.concat([x_train,x_insert])\n",
    "y_random_insert=np.concatenate((y_train,y_insert), axis=0)\n",
    "y_random_insert= y_random_insert.astype('int64')\n",
    "\n"
   ]
  },
  {
   "cell_type": "code",
   "execution_count": 30,
   "metadata": {},
   "outputs": [
    {
     "name": "stdout",
     "output_type": "stream",
     "text": [
      "1300354    Fox news is more polished than local conservat...\n",
      "368791     wow\\n\\ncan we apply that litmus test to muslim...\n",
      "745600     So everything is exactly as it appeared...Trum...\n",
      "1290210    Elect a clown, expect a circus! It's a shame t...\n",
      "412024     Where the rest of Canada, lead by our idiot PM...\n",
      "230989     Murkowski has always been a RINO.  Sullivan is...\n",
      "1637565    Republicans really have ZERO abilities to pull...\n",
      "31146      My daughter heard the shots! You, sir, are a v...\n",
      "834694     You didn't read the studies did you? Of course...\n",
      "119295     Absolutely Stupid and Degrading of this \"Counc...\n",
      "Name: comment_text, dtype: object\n"
     ]
    }
   ],
   "source": [
    "print(toxic.head(10))"
   ]
  },
  {
   "cell_type": "code",
   "execution_count": 31,
   "metadata": {},
   "outputs": [
    {
     "name": "stdout",
     "output_type": "stream",
     "text": [
      "My daughter heard upright the shots! equal You, sir, are a very lucky man that idiot didn't shoot you too. Amazing. Ignore the haters. From what I've heard, your dog was just barking, not attacking. Nail him to the cad wall.\n"
     ]
    }
   ],
   "source": [
    "print(x_insert[31146])"
   ]
  },
  {
   "cell_type": "code",
   "execution_count": 32,
   "metadata": {},
   "outputs": [
    {
     "name": "stdout",
     "output_type": "stream",
     "text": [
      "My daughter heard the shots! You, sir, are a very lucky man that idiot didn't shoot you too. Amazing. Ignore the haters. From what I've heard, your dog was just barking, not attacking. Nail him to the wall.\n"
     ]
    }
   ],
   "source": [
    "print(x_train[31146])"
   ]
  },
  {
   "cell_type": "code",
   "execution_count": 27,
   "metadata": {},
   "outputs": [
    {
     "name": "stdout",
     "output_type": "stream",
     "text": [
      "Tokenizacia\n",
      "Emmbedings matica....\n",
      "354162\n"
     ]
    },
    {
     "data": {
      "text/plain": [
       "(354162, 300)"
      ]
     },
     "execution_count": 27,
     "metadata": {},
     "output_type": "execute_result"
    }
   ],
   "source": [
    "print(\"Tokenizacia\")\n",
    "tokenizer = Tokenizer(max_features)\n",
    "tokenizer.fit_on_texts(x_random_insert)\n",
    "sequences_train = tokenizer.texts_to_sequences(x_random_insert)\n",
    "sequences_test = tokenizer.texts_to_sequences(x_test)\n",
    "\n",
    "###sekvenice kazde cislo zobrazuje jedno slovo vo vete\n",
    "\n",
    "x_train_seq = pad_sequences(sequences_train, maxlen=max_length) \n",
    "x_test_seq = pad_sequences(sequences_test, maxlen=max_length)\n",
    "\n",
    "word_index = tokenizer.word_index\n",
    "print(\"Emmbedings matica....\")\n",
    "num_words = len(word_index) + 1\n",
    "embedding_matrix = np.zeros((num_words, EMBEDDING_DIM))\n",
    "\n",
    "for word, i in word_index.items():\n",
    "    if i > num_words:\n",
    "        continue\n",
    "    embedding_vector = embeddings_index.get(word)\n",
    "    if embedding_vector is not None:\n",
    "        embedding_matrix[i] = embedding_vector\n",
    "print(num_words)\n",
    "embedding_matrix.shape"
   ]
  },
  {
   "cell_type": "code",
   "execution_count": null,
   "metadata": {},
   "outputs": [
    {
     "name": "stdout",
     "output_type": "stream",
     "text": [
      "Model: \"sequential_1\"\n",
      "_________________________________________________________________\n",
      "Layer (type)                 Output Shape              Param #   \n",
      "=================================================================\n",
      "embedding_1 (Embedding)      (None, 200, 300)          106248600 \n",
      "_________________________________________________________________\n",
      "conv1d_2 (Conv1D)            (None, 200, 64)           19264     \n",
      "_________________________________________________________________\n",
      "max_pooling1d_2 (MaxPooling1 (None, 100, 64)           0         \n",
      "_________________________________________________________________\n",
      "conv1d_3 (Conv1D)            (None, 100, 64)           4160      \n",
      "_________________________________________________________________\n",
      "max_pooling1d_3 (MaxPooling1 (None, 50, 64)            0         \n",
      "_________________________________________________________________\n",
      "flatten_1 (Flatten)          (None, 3200)              0         \n",
      "_________________________________________________________________\n",
      "dropout_1 (Dropout)          (None, 3200)              0         \n",
      "_________________________________________________________________\n",
      "dense_2 (Dense)              (None, 128)               409728    \n",
      "_________________________________________________________________\n",
      "dense_3 (Dense)              (None, 1)                 129       \n",
      "=================================================================\n",
      "Total params: 106,681,881\n",
      "Trainable params: 106,681,881\n",
      "Non-trainable params: 0\n",
      "_________________________________________________________________\n",
      "Trénovanie modelu...\n",
      "Epoch 1/2\n",
      " 9154/43852 [=====>........................] - ETA: 13:46:14 - loss: 0.1538 - acc: 0.9430"
     ]
    }
   ],
   "source": [
    "model_interest= Sequential()\n",
    "e = Embedding(num_words,  EMBEDDING_DIM, weights=[embedding_matrix], input_length=max_length)\n",
    "model_interest.add(e)\n",
    "model_interest.add(Conv1D(filters=64, kernel_size=1, padding='valid', activation='relu'))\n",
    "model_interest.add(MaxPooling1D(2))\n",
    "model_interest.add(Conv1D(filters=64, kernel_size=1, padding='valid', activation='relu'))\n",
    "model_interest.add(MaxPooling1D(2))\n",
    "model_interest.add(Flatten())\n",
    "model_interest.add(Dropout(0.2))\n",
    "model_interest.add(Dense(128, activation='relu'))\n",
    "model_interest.add(Dense(1, activation='sigmoid'))\n",
    "model_interest.compile(loss='binary_crossentropy', optimizer='adam', metrics=['acc'])\n",
    "model_interest.summary()\n",
    "\n",
    "saved_model_interest = \"model_insert.hdf5\"\n",
    "checkpoint = ModelCheckpoint(saved_model_interest, monitor='val_acc', verbose=1, save_best_only=True, mode='max')\n",
    "\n",
    "print('Trénovanie modelu...')\n",
    "history = model_interest.fit(x_train_seq, y_random_insert,epochs=2, batch_size=32,callbacks=[checkpoint],validation_split=0.1)\n",
    "model_interest.save('model_insert.hdf5')"
   ]
  },
  {
   "cell_type": "code",
   "execution_count": 33,
   "metadata": {},
   "outputs": [
    {
     "name": "stdout",
     "output_type": "stream",
     "text": [
      "Načítanie modelu....\n",
      "Vyhodnotenie...\n",
      "Roc auc skóre je 0.9507565846780237\n",
      "Úspešnosť je 0.9484313318096821\n",
      "              precision    recall  f1-score   support\n",
      "\n",
      "           0       0.96      0.98      0.97    331897\n",
      "           1       0.74      0.55      0.63     29078\n",
      "\n",
      "    accuracy                           0.95    360975\n",
      "   macro avg       0.85      0.77      0.80    360975\n",
      "weighted avg       0.94      0.95      0.94    360975\n",
      "\n",
      "Kontigenčná tabuľka\n",
      "[[326385   5512]\n",
      " [ 13103  15975]]\n",
      "Counter({0: 1328643, 1: 115256})\n",
      "Counter({0: 1328643, 1: 230512})\n"
     ]
    }
   ],
   "source": [
    "print(\"Načítanie modelu....\")\n",
    "model = load_model('model_insert.hdf5')\n",
    "print(\"Vyhodnotenie...\")\n",
    "y_pred = model.predict(x_test_seq)\n",
    "print('Roc auc skóre je {}'.format(roc_auc_score(y_test,y_pred)))\n",
    "\n",
    "\n",
    "y_int = np.zeros_like(y_pred)\n",
    "y_int[y_pred > 0.5] = 1\n",
    "print('Úspešnosť je {}'.format(accuracy_score(y_test,y_int)))\n",
    "print(classification_report(y_test, y_int, zero_division=0))\n",
    "print(\"Kontigenčná tabuľka\")\n",
    "print(confusion_matrix(y_test, y_int))\n",
    "\n",
    "\n",
    "print(collections.Counter(y_train))\n",
    "print(collections.Counter(y_random_insert))"
   ]
  },
  {
   "cell_type": "code",
   "execution_count": 7,
   "metadata": {},
   "outputs": [
    {
     "name": "stdout",
     "output_type": "stream",
     "text": [
      "Náhodná výmena\n"
     ]
    }
   ],
   "source": [
    "####nahodna vymena\n",
    "print(\"Náhodná výmena\")\n",
    "def swap_word(new_words):\n",
    "    \n",
    "    random_idx_1 = random.randint(0, len(new_words)-1)\n",
    "    random_idx_2 = random_idx_1\n",
    "    counter = 0\n",
    "    \n",
    "    while random_idx_2 == random_idx_1:\n",
    "        random_idx_2 = random.randint(0, len(new_words)-1)\n",
    "        counter += 1\n",
    "        \n",
    "        if counter > 3:\n",
    "            return new_words\n",
    "    \n",
    "    new_words[random_idx_1], new_words[random_idx_2] = new_words[random_idx_2], new_words[random_idx_1] \n",
    "    return new_words\n",
    "\n",
    "def random_swap(words, n=3):\n",
    "    \n",
    "    words = words.split()\n",
    "    new_words = words.copy()\n",
    "    \n",
    "    for _ in range(n):\n",
    "        new_words = swap_word(new_words)\n",
    "        \n",
    "    sentence = ' '.join(new_words)\n",
    "    \n",
    "    return sentence\n",
    "\n",
    "toxic = x_train[y_train==1]\n",
    "\n",
    "\n",
    "x_swap = toxic.apply(random_swap)\n",
    "y_swap= np.ones(len(x_swap))\n",
    "\n",
    "x_random_swap=pd.concat([x_train,x_swap])\n",
    "y_random_swap=np.concatenate((y_train,y_swap), axis=0)\n",
    "y_random_swap= y_random_swap.astype('int64')\n",
    "\n",
    "\n",
    "\n",
    "\n"
   ]
  },
  {
   "cell_type": "code",
   "execution_count": 8,
   "metadata": {},
   "outputs": [
    {
     "name": "stdout",
     "output_type": "stream",
     "text": [
      "My daughter heard the shots! the sir, are that too. lucky man a idiot didn't shoot you very Amazing. Ignore You, haters. From what I've heard, your dog was just barking, not attacking. Nail him to the wall.\n"
     ]
    }
   ],
   "source": [
    "print(x_swap[31146])"
   ]
  },
  {
   "cell_type": "code",
   "execution_count": 9,
   "metadata": {},
   "outputs": [
    {
     "name": "stdout",
     "output_type": "stream",
     "text": [
      "My daughter heard the shots! You, sir, are a very lucky man that idiot didn't shoot you too. Amazing. Ignore the haters. From what I've heard, your dog was just barking, not attacking. Nail him to the wall.\n"
     ]
    }
   ],
   "source": [
    "print(x_train[31146])"
   ]
  },
  {
   "cell_type": "code",
   "execution_count": 10,
   "metadata": {},
   "outputs": [
    {
     "name": "stdout",
     "output_type": "stream",
     "text": [
      "Tokenizacia\n",
      "Emmbedings matrix....\n",
      "353110\n"
     ]
    },
    {
     "data": {
      "text/plain": [
       "(353110, 300)"
      ]
     },
     "execution_count": 10,
     "metadata": {},
     "output_type": "execute_result"
    }
   ],
   "source": [
    "print(\"Tokenizacia\")\n",
    "tokenizer = Tokenizer()\n",
    "tokenizer.fit_on_texts(x_train)\n",
    "sequences_train = tokenizer.texts_to_sequences(x_random_swap)\n",
    "sequences_test = tokenizer.texts_to_sequences(x_test)\n",
    "\n",
    "###sekvenice kazde cislo zobrazuje jedno slovo vo vete\n",
    "\n",
    "x_train_seq = pad_sequences(sequences_train, maxlen=max_length) \n",
    "x_test_seq = pad_sequences(sequences_test, maxlen=max_length)\n",
    "\n",
    "word_index = tokenizer.word_index\n",
    "print(\"Emmbedings matrix....\")\n",
    "num_words = len(word_index) + 1\n",
    "embedding_matrix = np.zeros((num_words, EMBEDDING_DIM))\n",
    "\n",
    "for word, i in word_index.items():\n",
    "    if i > num_words:\n",
    "        continue\n",
    "    embedding_vector = embeddings_index.get(word)\n",
    "    if embedding_vector is not None:\n",
    "        embedding_matrix[i] = embedding_vector\n",
    "print(num_words)\n",
    "embedding_matrix.shape "
   ]
  },
  {
   "cell_type": "code",
   "execution_count": null,
   "metadata": {},
   "outputs": [
    {
     "name": "stdout",
     "output_type": "stream",
     "text": [
      "Model: \"sequential\"\n",
      "_________________________________________________________________\n",
      "Layer (type)                 Output Shape              Param #   \n",
      "=================================================================\n",
      "embedding (Embedding)        (None, 200, 300)          105933000 \n",
      "_________________________________________________________________\n",
      "conv1d (Conv1D)              (None, 200, 64)           19264     \n",
      "_________________________________________________________________\n",
      "max_pooling1d (MaxPooling1D) (None, 100, 64)           0         \n",
      "_________________________________________________________________\n",
      "conv1d_1 (Conv1D)            (None, 100, 64)           4160      \n",
      "_________________________________________________________________\n",
      "max_pooling1d_1 (MaxPooling1 (None, 50, 64)            0         \n",
      "_________________________________________________________________\n",
      "flatten (Flatten)            (None, 3200)              0         \n",
      "_________________________________________________________________\n",
      "dropout (Dropout)            (None, 3200)              0         \n",
      "_________________________________________________________________\n",
      "dense (Dense)                (None, 128)               409728    \n",
      "_________________________________________________________________\n",
      "dense_1 (Dense)              (None, 1)                 129       \n",
      "=================================================================\n",
      "Total params: 106,366,281\n",
      "Trainable params: 106,366,281\n",
      "Non-trainable params: 0\n",
      "_________________________________________________________________\n",
      "Trénovanie modelu...\n",
      "Epoch 1/2\n",
      " 3428/43852 [=>............................] - ETA: 11:50:12 - loss: 0.1703 - acc: 0.9387"
     ]
    }
   ],
   "source": [
    "####MODELOVANIE\n",
    "###Model1\n",
    "model_swap = Sequential()\n",
    "e = Embedding(num_words,  EMBEDDING_DIM, weights=[embedding_matrix], input_length=max_length)\n",
    "model_swap.add(e)\n",
    "model_swap.add(Conv1D(filters=64, kernel_size=1, padding='valid', activation='relu'))\n",
    "model_swap.add(MaxPooling1D(2))\n",
    "model_swap.add(Conv1D(filters=64, kernel_size=1, padding='valid', activation='relu'))\n",
    "model_swap.add(MaxPooling1D(2))\n",
    "model_swap.add(Flatten())\n",
    "model_swap.add(Dropout(0.2))\n",
    "model_swap.add(Dense(128, activation='relu'))\n",
    "model_swap.add(Dense(1, activation='sigmoid'))\n",
    "model_swap.compile(loss='binary_crossentropy', optimizer='adam', metrics=['acc'])\n",
    "model_swap.summary()\n",
    "\n",
    "saved_model_swap = \"model_swap.hdf5\"\n",
    "checkpoint = ModelCheckpoint(saved_model_swap, monitor='val_acc', verbose=1, save_best_only=True, mode='max')\n",
    "\n",
    "print('Trénovanie modelu...')\n",
    "history = model_swap.fit(x_train_seq, y_random_swap,epochs=2, batch_size=32,callbacks=[checkpoint],validation_split=0.1)"
   ]
  },
  {
   "cell_type": "code",
   "execution_count": 14,
   "metadata": {},
   "outputs": [
    {
     "name": "stdout",
     "output_type": "stream",
     "text": [
      "Načítanie modelu....\n",
      "Vyhodnotenie...\n",
      "Roc auc skóre je 0.9505171375519843\n",
      "Úspešnosť je 0.9482761964124939\n",
      "              precision    recall  f1-score   support\n",
      "\n",
      "           0       0.96      0.99      0.97    331897\n",
      "           1       0.76      0.52      0.62     29078\n",
      "\n",
      "    accuracy                           0.95    360975\n",
      "   macro avg       0.86      0.75      0.80    360975\n",
      "weighted avg       0.94      0.95      0.94    360975\n",
      "\n",
      "Kontigenčná tabuľka\n",
      "[[327216   4681]\n",
      " [ 13990  15088]]\n",
      "Counter({0: 1328643, 1: 115256})\n",
      "Counter({0: 1328643, 1: 230512})\n"
     ]
    }
   ],
   "source": [
    "print(\"Načítanie modelu....\")\n",
    "model = load_model('model_swap.hdf5')\n",
    "print(\"Vyhodnotenie...\")\n",
    "y_pred = model.predict(x_test_seq)\n",
    "# roc auc score\n",
    "print('Roc auc skóre je {}'.format(roc_auc_score(y_test,y_pred)))\n",
    "\n",
    "# CR/CM\n",
    "y_int = np.zeros_like(y_pred)\n",
    "y_int[y_pred > 0.5] = 1\n",
    "print('Úspešnosť je {}'.format(accuracy_score(y_test,y_int)))\n",
    "print(classification_report(y_test, y_int, zero_division=0))\n",
    "print(\"Kontigenčná tabuľka\")\n",
    "print(confusion_matrix(y_test, y_int))\n",
    "\n",
    "\n",
    "print(collections.Counter(y_train))\n",
    "print(collections.Counter(y_random_swap))\n"
   ]
  },
  {
   "cell_type": "code",
   "execution_count": 8,
   "metadata": {},
   "outputs": [
    {
     "name": "stdout",
     "output_type": "stream",
     "text": [
      "Náhodné vymazanie\n"
     ]
    }
   ],
   "source": [
    "print(\"Náhodné vymazanie\")\n",
    "def random_deletion(words, p=0.11):\n",
    "\n",
    "    words = words.split()\n",
    "    \n",
    "   # zjavne, ak je iba jedno slovo,  ho\n",
    "    if len(words) == 1:\n",
    "        return words\n",
    "\n",
    "    #skutocne mazat slovs pravdepodobnostou str\n",
    "    new_words = []\n",
    "    for word in words:\n",
    "        r = random.uniform(0, 1)\n",
    "        if r > p:\n",
    "            new_words.append(word)\n",
    "\n",
    "    # ak nakoniec \n",
    "    if len(new_words) == 0:\n",
    "        rand_int = random.randint(0, len(words)-1)\n",
    "        return [words[rand_int]]\n",
    "\n",
    "    sentence = ' '.join(new_words)\n",
    "    \n",
    "    return sentence\n",
    "\n",
    "\n",
    "toxic = x_train[y_train==1]\n",
    "x_del = toxic.apply(random_deletion)\n",
    "y_del= np.ones(len(x_del))\n",
    "\n",
    "x_random_del=pd.concat([x_train,x_del])\n",
    "y_random_del=np.concatenate((y_train,y_del), axis=0)\n",
    "y_random_del= y_random_del.astype('int64')\n",
    "\n"
   ]
  },
  {
   "cell_type": "code",
   "execution_count": 9,
   "metadata": {},
   "outputs": [
    {
     "name": "stdout",
     "output_type": "stream",
     "text": [
      "daughter heard the shots! sir, are a very lucky man that idiot didn't shoot you too. Amazing. Ignore the haters. From what I've heard, your dog just barking, not attacking. Nail him to the wall.\n"
     ]
    }
   ],
   "source": [
    "print(x_del[31146])"
   ]
  },
  {
   "cell_type": "code",
   "execution_count": 10,
   "metadata": {},
   "outputs": [
    {
     "name": "stdout",
     "output_type": "stream",
     "text": [
      "My daughter heard the shots! You, sir, are a very lucky man that idiot didn't shoot you too. Amazing. Ignore the haters. From what I've heard, your dog was just barking, not attacking. Nail him to the wall.\n"
     ]
    }
   ],
   "source": [
    "print(x_train[31146])"
   ]
  },
  {
   "cell_type": "code",
   "execution_count": 11,
   "metadata": {},
   "outputs": [
    {
     "name": "stdout",
     "output_type": "stream",
     "text": [
      "Tokenizacia\n",
      "Emmbedings matica....\n",
      "353320\n"
     ]
    },
    {
     "data": {
      "text/plain": [
       "(353320, 300)"
      ]
     },
     "execution_count": 11,
     "metadata": {},
     "output_type": "execute_result"
    }
   ],
   "source": [
    "print(\"Tokenizacia\")\n",
    "tokenizer = Tokenizer()\n",
    "tokenizer.fit_on_texts(x_random_del)\n",
    "sequences_train = tokenizer.texts_to_sequences(x_random_del)\n",
    "sequences_test = tokenizer.texts_to_sequences(x_test)\n",
    "\n",
    "x_train_seq = pad_sequences(sequences_train, maxlen=max_length) \n",
    "x_test_seq = pad_sequences(sequences_test, maxlen=max_length)\n",
    "\n",
    "word_index = tokenizer.word_index\n",
    "\n",
    "print(\"Emmbedings matica....\")\n",
    "num_words = len(word_index) + 1\n",
    "embedding_matrix = np.zeros((num_words, EMBEDDING_DIM))\n",
    "\n",
    "for word, i in word_index.items():\n",
    "    if i > num_words:\n",
    "        continue\n",
    "    embedding_vector = embeddings_index.get(word)\n",
    "    if embedding_vector is not None:\n",
    "        embedding_matrix[i] = embedding_vector\n",
    "print(num_words)\n",
    "embedding_matrix.shape "
   ]
  },
  {
   "cell_type": "code",
   "execution_count": null,
   "metadata": {},
   "outputs": [
    {
     "name": "stdout",
     "output_type": "stream",
     "text": [
      "Model: \"sequential_1\"\n",
      "_________________________________________________________________\n",
      "Layer (type)                 Output Shape              Param #   \n",
      "=================================================================\n",
      "embedding_1 (Embedding)      (None, 200, 300)          105996000 \n",
      "_________________________________________________________________\n",
      "conv1d_2 (Conv1D)            (None, 200, 64)           19264     \n",
      "_________________________________________________________________\n",
      "max_pooling1d_2 (MaxPooling1 (None, 100, 64)           0         \n",
      "_________________________________________________________________\n",
      "conv1d_3 (Conv1D)            (None, 100, 64)           4160      \n",
      "_________________________________________________________________\n",
      "max_pooling1d_3 (MaxPooling1 (None, 50, 64)            0         \n",
      "_________________________________________________________________\n",
      "flatten_1 (Flatten)          (None, 3200)              0         \n",
      "_________________________________________________________________\n",
      "dropout_1 (Dropout)          (None, 3200)              0         \n",
      "_________________________________________________________________\n",
      "dense_2 (Dense)              (None, 128)               409728    \n",
      "_________________________________________________________________\n",
      "dense_3 (Dense)              (None, 1)                 129       \n",
      "=================================================================\n",
      "Total params: 106,429,281\n",
      "Trainable params: 106,429,281\n",
      "Non-trainable params: 0\n",
      "_________________________________________________________________\n",
      "Trénovanie modelu...\n",
      "Epoch 1/2\n",
      " 3323/43852 [=>............................] - ETA: 10:28:41 - loss: 0.1767 - acc: 0.9377"
     ]
    }
   ],
   "source": [
    "model_del = Sequential()\n",
    "e = Embedding(num_words,  EMBEDDING_DIM, weights=[embedding_matrix], input_length=max_length)\n",
    "model_del.add(e)\n",
    "model_del.add(Conv1D(filters=64, kernel_size=1, padding='valid', activation='relu'))\n",
    "model_del.add(MaxPooling1D(2))\n",
    "model_del.add(Conv1D(filters=64, kernel_size=1, padding='valid', activation='relu'))\n",
    "model_del.add(MaxPooling1D(2))\n",
    "model_del.add(Flatten())\n",
    "model_del.add(Dropout(0.2))\n",
    "model_del.add(Dense(128, activation='relu'))\n",
    "model_del.add(Dense(1, activation='sigmoid'))\n",
    "model_del.compile(loss='binary_crossentropy', optimizer='adam', metrics=['acc'])\n",
    "model_del.summary()\n",
    "\n",
    "saved_model_del = \"model_del.hdf5\"\n",
    "checkpoint = ModelCheckpoint(saved_model_del, monitor='val_acc', verbose=1, save_best_only=True, mode='max')\n",
    "\n",
    "print('Trénovanie modelu...')\n",
    "history = model_del.fit(x_train_seq, y_random_del,epochs=2, batch_size=32,callbacks=[checkpoint],validation_split=0.1)"
   ]
  },
  {
   "cell_type": "code",
   "execution_count": 15,
   "metadata": {},
   "outputs": [
    {
     "name": "stdout",
     "output_type": "stream",
     "text": [
      "Načítanie modlu....\n"
     ]
    },
    {
     "ename": "KeyError",
     "evalue": "\"Unable to open object (object 'max_pooling1d_2' doesn't exist)\"",
     "output_type": "error",
     "traceback": [
      "\u001b[0;31m---------------------------------------------------------------------------\u001b[0m",
      "\u001b[0;31mKeyError\u001b[0m                                  Traceback (most recent call last)",
      "\u001b[0;32m<ipython-input-15-dcce52d28ab5>\u001b[0m in \u001b[0;36m<module>\u001b[0;34m\u001b[0m\n\u001b[1;32m      1\u001b[0m \u001b[0mprint\u001b[0m\u001b[0;34m(\u001b[0m\u001b[0;34m\"Načítanie modlu....\"\u001b[0m\u001b[0;34m)\u001b[0m\u001b[0;34m\u001b[0m\u001b[0;34m\u001b[0m\u001b[0m\n\u001b[0;32m----> 2\u001b[0;31m \u001b[0mmodel\u001b[0m \u001b[0;34m=\u001b[0m \u001b[0mload_model\u001b[0m\u001b[0;34m(\u001b[0m\u001b[0;34m'model_del.hdf5'\u001b[0m\u001b[0;34m)\u001b[0m\u001b[0;34m\u001b[0m\u001b[0;34m\u001b[0m\u001b[0m\n\u001b[0m\u001b[1;32m      3\u001b[0m \u001b[0mprint\u001b[0m\u001b[0;34m(\u001b[0m\u001b[0;34m\"Vyhodnotenie...\"\u001b[0m\u001b[0;34m)\u001b[0m\u001b[0;34m\u001b[0m\u001b[0;34m\u001b[0m\u001b[0m\n\u001b[1;32m      4\u001b[0m \u001b[0my_pred\u001b[0m \u001b[0;34m=\u001b[0m \u001b[0mmodel\u001b[0m\u001b[0;34m.\u001b[0m\u001b[0mpredict\u001b[0m\u001b[0;34m(\u001b[0m\u001b[0mx_test_seq\u001b[0m\u001b[0;34m)\u001b[0m\u001b[0;34m\u001b[0m\u001b[0;34m\u001b[0m\u001b[0m\n\u001b[1;32m      5\u001b[0m \u001b[0;31m# roc auc score\u001b[0m\u001b[0;34m\u001b[0m\u001b[0;34m\u001b[0m\u001b[0;34m\u001b[0m\u001b[0m\n",
      "\u001b[0;32m/opt/conda/lib/python3.8/site-packages/tensorflow/python/keras/saving/save.py\u001b[0m in \u001b[0;36mload_model\u001b[0;34m(filepath, custom_objects, compile, options)\u001b[0m\n\u001b[1;32m    180\u001b[0m     if (h5py is not None and (\n\u001b[1;32m    181\u001b[0m         isinstance(filepath, h5py.File) or h5py.is_hdf5(filepath))):\n\u001b[0;32m--> 182\u001b[0;31m       \u001b[0;32mreturn\u001b[0m \u001b[0mhdf5_format\u001b[0m\u001b[0;34m.\u001b[0m\u001b[0mload_model_from_hdf5\u001b[0m\u001b[0;34m(\u001b[0m\u001b[0mfilepath\u001b[0m\u001b[0;34m,\u001b[0m \u001b[0mcustom_objects\u001b[0m\u001b[0;34m,\u001b[0m \u001b[0mcompile\u001b[0m\u001b[0;34m)\u001b[0m\u001b[0;34m\u001b[0m\u001b[0;34m\u001b[0m\u001b[0m\n\u001b[0m\u001b[1;32m    183\u001b[0m \u001b[0;34m\u001b[0m\u001b[0m\n\u001b[1;32m    184\u001b[0m     \u001b[0mfilepath\u001b[0m \u001b[0;34m=\u001b[0m \u001b[0mpath_to_string\u001b[0m\u001b[0;34m(\u001b[0m\u001b[0mfilepath\u001b[0m\u001b[0;34m)\u001b[0m\u001b[0;34m\u001b[0m\u001b[0;34m\u001b[0m\u001b[0m\n",
      "\u001b[0;32m/opt/conda/lib/python3.8/site-packages/tensorflow/python/keras/saving/hdf5_format.py\u001b[0m in \u001b[0;36mload_model_from_hdf5\u001b[0;34m(filepath, custom_objects, compile)\u001b[0m\n\u001b[1;32m    179\u001b[0m \u001b[0;34m\u001b[0m\u001b[0m\n\u001b[1;32m    180\u001b[0m     \u001b[0;31m# set weights\u001b[0m\u001b[0;34m\u001b[0m\u001b[0;34m\u001b[0m\u001b[0;34m\u001b[0m\u001b[0m\n\u001b[0;32m--> 181\u001b[0;31m     \u001b[0mload_weights_from_hdf5_group\u001b[0m\u001b[0;34m(\u001b[0m\u001b[0mf\u001b[0m\u001b[0;34m[\u001b[0m\u001b[0;34m'model_weights'\u001b[0m\u001b[0;34m]\u001b[0m\u001b[0;34m,\u001b[0m \u001b[0mmodel\u001b[0m\u001b[0;34m.\u001b[0m\u001b[0mlayers\u001b[0m\u001b[0;34m)\u001b[0m\u001b[0;34m\u001b[0m\u001b[0;34m\u001b[0m\u001b[0m\n\u001b[0m\u001b[1;32m    182\u001b[0m \u001b[0;34m\u001b[0m\u001b[0m\n\u001b[1;32m    183\u001b[0m     \u001b[0;32mif\u001b[0m \u001b[0mcompile\u001b[0m\u001b[0;34m:\u001b[0m\u001b[0;34m\u001b[0m\u001b[0;34m\u001b[0m\u001b[0m\n",
      "\u001b[0;32m/opt/conda/lib/python3.8/site-packages/tensorflow/python/keras/saving/hdf5_format.py\u001b[0m in \u001b[0;36mload_weights_from_hdf5_group\u001b[0;34m(f, layers)\u001b[0m\n\u001b[1;32m    675\u001b[0m   \u001b[0mfiltered_layer_names\u001b[0m \u001b[0;34m=\u001b[0m \u001b[0;34m[\u001b[0m\u001b[0;34m]\u001b[0m\u001b[0;34m\u001b[0m\u001b[0;34m\u001b[0m\u001b[0m\n\u001b[1;32m    676\u001b[0m   \u001b[0;32mfor\u001b[0m \u001b[0mname\u001b[0m \u001b[0;32min\u001b[0m \u001b[0mlayer_names\u001b[0m\u001b[0;34m:\u001b[0m\u001b[0;34m\u001b[0m\u001b[0;34m\u001b[0m\u001b[0m\n\u001b[0;32m--> 677\u001b[0;31m     \u001b[0mg\u001b[0m \u001b[0;34m=\u001b[0m \u001b[0mf\u001b[0m\u001b[0;34m[\u001b[0m\u001b[0mname\u001b[0m\u001b[0;34m]\u001b[0m\u001b[0;34m\u001b[0m\u001b[0;34m\u001b[0m\u001b[0m\n\u001b[0m\u001b[1;32m    678\u001b[0m     \u001b[0mweight_names\u001b[0m \u001b[0;34m=\u001b[0m \u001b[0mload_attributes_from_hdf5_group\u001b[0m\u001b[0;34m(\u001b[0m\u001b[0mg\u001b[0m\u001b[0;34m,\u001b[0m \u001b[0;34m'weight_names'\u001b[0m\u001b[0;34m)\u001b[0m\u001b[0;34m\u001b[0m\u001b[0;34m\u001b[0m\u001b[0m\n\u001b[1;32m    679\u001b[0m     \u001b[0;32mif\u001b[0m \u001b[0mweight_names\u001b[0m\u001b[0;34m:\u001b[0m\u001b[0;34m\u001b[0m\u001b[0;34m\u001b[0m\u001b[0m\n",
      "\u001b[0;32mh5py/_objects.pyx\u001b[0m in \u001b[0;36mh5py._objects.with_phil.wrapper\u001b[0;34m()\u001b[0m\n",
      "\u001b[0;32mh5py/_objects.pyx\u001b[0m in \u001b[0;36mh5py._objects.with_phil.wrapper\u001b[0;34m()\u001b[0m\n",
      "\u001b[0;32m/opt/conda/lib/python3.8/site-packages/h5py/_hl/group.py\u001b[0m in \u001b[0;36m__getitem__\u001b[0;34m(self, name)\u001b[0m\n\u001b[1;32m    262\u001b[0m                 \u001b[0;32mraise\u001b[0m \u001b[0mValueError\u001b[0m\u001b[0;34m(\u001b[0m\u001b[0;34m\"Invalid HDF5 object reference\"\u001b[0m\u001b[0;34m)\u001b[0m\u001b[0;34m\u001b[0m\u001b[0;34m\u001b[0m\u001b[0m\n\u001b[1;32m    263\u001b[0m         \u001b[0;32melse\u001b[0m\u001b[0;34m:\u001b[0m\u001b[0;34m\u001b[0m\u001b[0;34m\u001b[0m\u001b[0m\n\u001b[0;32m--> 264\u001b[0;31m             \u001b[0moid\u001b[0m \u001b[0;34m=\u001b[0m \u001b[0mh5o\u001b[0m\u001b[0;34m.\u001b[0m\u001b[0mopen\u001b[0m\u001b[0;34m(\u001b[0m\u001b[0mself\u001b[0m\u001b[0;34m.\u001b[0m\u001b[0mid\u001b[0m\u001b[0;34m,\u001b[0m \u001b[0mself\u001b[0m\u001b[0;34m.\u001b[0m\u001b[0m_e\u001b[0m\u001b[0;34m(\u001b[0m\u001b[0mname\u001b[0m\u001b[0;34m)\u001b[0m\u001b[0;34m,\u001b[0m \u001b[0mlapl\u001b[0m\u001b[0;34m=\u001b[0m\u001b[0mself\u001b[0m\u001b[0;34m.\u001b[0m\u001b[0m_lapl\u001b[0m\u001b[0;34m)\u001b[0m\u001b[0;34m\u001b[0m\u001b[0;34m\u001b[0m\u001b[0m\n\u001b[0m\u001b[1;32m    265\u001b[0m \u001b[0;34m\u001b[0m\u001b[0m\n\u001b[1;32m    266\u001b[0m         \u001b[0motype\u001b[0m \u001b[0;34m=\u001b[0m \u001b[0mh5i\u001b[0m\u001b[0;34m.\u001b[0m\u001b[0mget_type\u001b[0m\u001b[0;34m(\u001b[0m\u001b[0moid\u001b[0m\u001b[0;34m)\u001b[0m\u001b[0;34m\u001b[0m\u001b[0;34m\u001b[0m\u001b[0m\n",
      "\u001b[0;32mh5py/_objects.pyx\u001b[0m in \u001b[0;36mh5py._objects.with_phil.wrapper\u001b[0;34m()\u001b[0m\n",
      "\u001b[0;32mh5py/_objects.pyx\u001b[0m in \u001b[0;36mh5py._objects.with_phil.wrapper\u001b[0;34m()\u001b[0m\n",
      "\u001b[0;32mh5py/h5o.pyx\u001b[0m in \u001b[0;36mh5py.h5o.open\u001b[0;34m()\u001b[0m\n",
      "\u001b[0;31mKeyError\u001b[0m: \"Unable to open object (object 'max_pooling1d_2' doesn't exist)\""
     ]
    }
   ],
   "source": [
    "print(\"Načítanie modelu....\")\n",
    "model = load_model('model_del.hdf5')\n",
    "print(\"Vyhodnotenie...\")\n",
    "y_pred = model.predict(x_test_seq)\n",
    "# roc auc score\n",
    "print('Roc auc skóre je {}'.format(roc_auc_score(y_test,y_pred)))\n",
    "\n",
    "# CR/CM\n",
    "y_int = np.zeros_like(y_pred)\n",
    "y_int[y_pred > 0.5] = 1\n",
    "print('Úspešnosť je{}'.format(accuracy_score(y_test,y_int)))\n",
    "print(classification_report(y_test, y_int, zero_division=0))\n",
    "print(\"Kontigenčná tabuľka\")\n",
    "print(confusion_matrix(y_test, y_int))\n",
    "\n",
    "\n",
    "print(collections.Counter(y_train))\n",
    "print(collections.Counter(y_random_swap))\n"
   ]
  },
  {
   "cell_type": "code",
   "execution_count": 23,
   "metadata": {},
   "outputs": [
    {
     "name": "stderr",
     "output_type": "stream",
     "text": [
      "<ipython-input-23-02d904dbc5fe>:4: DeprecationWarning: Numeric-style type codes are deprecated and will result in an error in the future.\n",
      "  y_eda= y_eda.astype('Int64')\n"
     ]
    },
    {
     "name": "stdout",
     "output_type": "stream",
     "text": [
      "Tokenizacia\n",
      "Najdenych 353109 jedinecnych tokenov.\n",
      "Emmbedings matrix....\n",
      "353110\n"
     ]
    },
    {
     "data": {
      "text/plain": [
       "(353110, 300)"
      ]
     },
     "execution_count": 23,
     "metadata": {},
     "output_type": "execute_result"
    }
   ],
   "source": [
    "#####Spojeniee metod eda\n",
    "x_eda=np.concatenate((x_syn,x_swap,x_insert,x_del,x_train), axis=0)\n",
    "y_eda=np.concatenate((y_syn,y_swap,y_insert,y_del,y_train), axis=0)\n",
    "y_eda= y_eda.astype('int64')\n",
    "\n"
   ]
  },
  {
   "cell_type": "code",
   "execution_count": null,
   "metadata": {},
   "outputs": [],
   "source": [
    "print(\"Tokenizacia\")\n",
    "tokenizer = Tokenizer()\n",
    "tokenizer.fit_on_texts(x_train)\n",
    "sequences_train = tokenizer.texts_to_sequences(x_eda)\n",
    "sequences_test = tokenizer.texts_to_sequences(x_test)\n",
    "\n",
    "\n",
    "\n",
    "x_train_seq = pad_sequences(sequences_train, maxlen=max_length) \n",
    "x_test_seq = pad_sequences(sequences_test, maxlen=max_length)\n",
    "\n",
    "word_index = tokenizer.word_index\n",
    "\n",
    "print(\"Emmbedings matrix....\")\n",
    "num_words = len(word_index) + 1\n",
    "embedding_matrix = np.zeros((num_words, EMBEDDING_DIM))\n",
    "\n",
    "for word, i in word_index.items():\n",
    "    if i > num_words:\n",
    "        continue\n",
    "    embedding_vector = embeddings_index.get(word)\n",
    "    if embedding_vector is not None:\n",
    "        embedding_matrix[i] = embedding_vector\n",
    "print(num_words)\n",
    "embedding_matrix.shape "
   ]
  },
  {
   "cell_type": "code",
   "execution_count": null,
   "metadata": {},
   "outputs": [
    {
     "name": "stdout",
     "output_type": "stream",
     "text": [
      "Model: \"sequential_5\"\n",
      "_________________________________________________________________\n",
      "Layer (type)                 Output Shape              Param #   \n",
      "=================================================================\n",
      "embedding_5 (Embedding)      (None, 200, 300)          105933000 \n",
      "_________________________________________________________________\n",
      "conv1d_10 (Conv1D)           (None, 200, 64)           19264     \n",
      "_________________________________________________________________\n",
      "max_pooling1d_10 (MaxPooling (None, 100, 64)           0         \n",
      "_________________________________________________________________\n",
      "conv1d_11 (Conv1D)           (None, 100, 64)           4160      \n",
      "_________________________________________________________________\n",
      "max_pooling1d_11 (MaxPooling (None, 50, 64)            0         \n",
      "_________________________________________________________________\n",
      "flatten_5 (Flatten)          (None, 3200)              0         \n",
      "_________________________________________________________________\n",
      "dropout_5 (Dropout)          (None, 3200)              0         \n",
      "_________________________________________________________________\n",
      "dense_10 (Dense)             (None, 128)               409728    \n",
      "_________________________________________________________________\n",
      "dense_11 (Dense)             (None, 1)                 129       \n",
      "=================================================================\n",
      "Total params: 106,366,281\n",
      "Trainable params: 106,366,281\n",
      "Non-trainable params: 0\n",
      "_________________________________________________________________\n",
      "Training model...\n",
      " 3792/94186 [>.............................] - ETA: 24:13:07 - loss: 0.2738 - acc: 0.8853"
     ]
    }
   ],
   "source": [
    "####MODELOVANIE\n",
    "model_eda = Sequential()\n",
    "e = Embedding(num_words,  EMBEDDING_DIM, weights=[embedding_matrix], input_length=max_length)\n",
    "model_eda.add(e)\n",
    "model_eda.add(Conv1D(filters=64, kernel_size=1, padding='valid', activation='relu'))\n",
    "model_eda.add(MaxPooling1D(2))\n",
    "model_eda.add(Conv1D(filters=64, kernel_size=1, padding='valid', activation='relu'))\n",
    "model_eda.add(MaxPooling1D(2))\n",
    "model_eda.add(Flatten())\n",
    "model_eda.add(Dropout(0.2))\n",
    "model_eda.add(Dense(128, activation='relu'))\n",
    "model_eda.add(Dense(1, activation='sigmoid'))\n",
    "model_eda.compile(loss='binary_crossentropy', optimizer='adam', metrics=['acc'])\n",
    "model_eda.summary()\n",
    "\n",
    "saved_eda = \"model_eda4_metody.hdf5\"\n",
    "checkpoint = ModelCheckpoint(saved_eda, monitor='val_acc', verbose=1, save_best_only=True, mode='max')\n",
    "\n",
    "# TrÃ©novanie modelu\n",
    "print('Trénovanie modelu..')\n",
    "history = model_eda.fit(x_train_seq, y_eda,epochs=1, batch_size=32,callbacks=[checkpoint],validation_split=0.1)\n"
   ]
  },
  {
   "cell_type": "code",
   "execution_count": null,
   "metadata": {},
   "outputs": [
    {
     "name": "stdout",
     "output_type": "stream",
     "text": [
      "Loading model....\n",
      "Vyhodnotenie...\n"
     ]
    }
   ],
   "source": [
    "print(\"Načítanie modelu....\")\n",
    "model = load_model('model_eda4_metody.hdf5')\n",
    "print(\"Vyhodnotenie...\")\n",
    "y_pred = model.predict(x_test_seq)\n",
    "# roc auc score\n",
    "print('Roc auc skóre je {}'.format(roc_auc_score(y_test,y_pred)))\n",
    "\n",
    "# CR/CM\n",
    "y_int = np.zeros_like(y_pred)\n",
    "y_int[y_pred > 0.5] = 1\n",
    "print('Úspešnosť je {}'.format(accuracy_score(y_test,y_int)))\n",
    "print(classification_report(y_test, y_int, zero_division=0))\n",
    "print(\"Kontigenčná tabuľka\")\n",
    "print(confusion_matrix(y_test, y_int))\n",
    "\n",
    "collections.Counter(y_train)\n",
    "collections.Counter(y_eda)"
   ]
  },
  {
   "cell_type": "code",
   "execution_count": null,
   "metadata": {},
   "outputs": [],
   "source": []
  }
 ],
 "metadata": {
  "kernelspec": {
   "display_name": "Python 3",
   "language": "python",
   "name": "python3"
  },
  "language_info": {
   "codemirror_mode": {
    "name": "ipython",
    "version": 3
   },
   "file_extension": ".py",
   "mimetype": "text/x-python",
   "name": "python",
   "nbconvert_exporter": "python",
   "pygments_lexer": "ipython3",
   "version": "3.8.6"
  }
 },
 "nbformat": 4,
 "nbformat_minor": 4
}
