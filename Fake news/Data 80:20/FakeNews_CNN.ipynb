{
 "cells": [
  {
   "cell_type": "markdown",
   "metadata": {},
   "source": [
    "Pred tým ako začneme  je potrebne stiahnuť potrebné knižnice a následne ich naimportovať aby sme ich mohli použiť."
   ]
  },
  {
   "cell_type": "code",
   "execution_count": null,
   "metadata": {},
   "outputs": [],
   "source": [
    "pip install nltk\n",
    "nltk.download('wordnet')\n",
    "nltk.download('stopwords')\n",
    "pip install keras\n",
    "pip install tensorflow\n",
    "pip install random"
   ]
  },
  {
   "cell_type": "code",
   "execution_count": 1,
   "metadata": {},
   "outputs": [],
   "source": [
    "import pandas  as pd\n",
    "import numpy as np\n",
    "import os\n",
    "import random\n",
    "import nltk\n",
    "import matplotlib.pyplot as plt\n",
    "import seaborn as sns\n",
    "from nltk.corpus import stopwords\n",
    "from nltk.corpus import wordnet \n",
    "from sklearn.model_selection import train_test_split\n",
    "from sklearn.metrics import roc_auc_score , accuracy_score\n",
    "from keras.preprocessing.text import Tokenizer\n",
    "from keras.preprocessing.sequence import pad_sequences\n",
    "from keras.models import Sequential\n",
    "from keras.optimizers import Adam\n",
    "from keras.layers import Embedding, Flatten, Input,MaxPooling1D,Dense, Dropout ,Conv1D\n",
    "from sklearn.metrics import classification_report, confusion_matrix\n",
    "from keras.callbacks import EarlyStopping, ModelCheckpoint\n",
    "from keras.models import load_model"
   ]
  },
  {
   "cell_type": "markdown",
   "metadata": {},
   "source": [
    "Následne načítame požadovanú dátovú množinu a zobrazíme si prvé riadky dát."
   ]
  },
  {
   "cell_type": "code",
   "execution_count": 2,
   "metadata": {},
   "outputs": [],
   "source": [
    "df_data=pd.read_csv(r'data.csv') "
   ]
  },
  {
   "cell_type": "markdown",
   "metadata": {},
   "source": [
    "Dátový súbor je tvorený z piatich atribútov. Pre našu úlohu sú potrebné len atribúty text a label. Atribút label je cieľový atribút."
   ]
  },
  {
   "cell_type": "code",
   "execution_count": 3,
   "metadata": {},
   "outputs": [
    {
     "data": {
      "text/html": [
       "<div>\n",
       "<style scoped>\n",
       "    .dataframe tbody tr th:only-of-type {\n",
       "        vertical-align: middle;\n",
       "    }\n",
       "\n",
       "    .dataframe tbody tr th {\n",
       "        vertical-align: top;\n",
       "    }\n",
       "\n",
       "    .dataframe thead th {\n",
       "        text-align: right;\n",
       "    }\n",
       "</style>\n",
       "<table border=\"1\" class=\"dataframe\">\n",
       "  <thead>\n",
       "    <tr style=\"text-align: right;\">\n",
       "      <th></th>\n",
       "      <th>id</th>\n",
       "      <th>title</th>\n",
       "      <th>author</th>\n",
       "      <th>text</th>\n",
       "      <th>label</th>\n",
       "    </tr>\n",
       "  </thead>\n",
       "  <tbody>\n",
       "    <tr>\n",
       "      <th>0</th>\n",
       "      <td>12159</td>\n",
       "      <td>Trump Has Gotten The Republican Party Sued For...</td>\n",
       "      <td>Jason Easley</td>\n",
       "      <td>The Washington Post reported : \\nThe Democrati...</td>\n",
       "      <td>1</td>\n",
       "    </tr>\n",
       "    <tr>\n",
       "      <th>1</th>\n",
       "      <td>11921</td>\n",
       "      <td>Hand-Foot-And-Mouth Disease On The Rise: What ...</td>\n",
       "      <td>Dikran Arakelian (noreply@blogger.com)</td>\n",
       "      <td>Share on Facebook Every parents worries about ...</td>\n",
       "      <td>1</td>\n",
       "    </tr>\n",
       "    <tr>\n",
       "      <th>2</th>\n",
       "      <td>17066</td>\n",
       "      <td>Show biz: Business and breakthroughs</td>\n",
       "      <td>Vanessa Frank</td>\n",
       "      <td>Show biz: Business and breakthroughs Exclusive...</td>\n",
       "      <td>1</td>\n",
       "    </tr>\n",
       "    <tr>\n",
       "      <th>3</th>\n",
       "      <td>728</td>\n",
       "      <td>How Voting Machines Are Programmed In Order To...</td>\n",
       "      <td>pcr3</td>\n",
       "      <td>How Voting Machines Are Programmed In Order To...</td>\n",
       "      <td>1</td>\n",
       "    </tr>\n",
       "    <tr>\n",
       "      <th>4</th>\n",
       "      <td>6058</td>\n",
       "      <td>Iranians arrested after celebrating ancient Pe...</td>\n",
       "      <td>Kaitlyn Stegall</td>\n",
       "      <td>November 1, 2016 Iranians arrested after celeb...</td>\n",
       "      <td>1</td>\n",
       "    </tr>\n",
       "  </tbody>\n",
       "</table>\n",
       "</div>"
      ],
      "text/plain": [
       "      id                                              title  \\\n",
       "0  12159  Trump Has Gotten The Republican Party Sued For...   \n",
       "1  11921  Hand-Foot-And-Mouth Disease On The Rise: What ...   \n",
       "2  17066               Show biz: Business and breakthroughs   \n",
       "3    728  How Voting Machines Are Programmed In Order To...   \n",
       "4   6058  Iranians arrested after celebrating ancient Pe...   \n",
       "\n",
       "                                   author  \\\n",
       "0                            Jason Easley   \n",
       "1  Dikran Arakelian (noreply@blogger.com)   \n",
       "2                           Vanessa Frank   \n",
       "3                                    pcr3   \n",
       "4                         Kaitlyn Stegall   \n",
       "\n",
       "                                                text  label  \n",
       "0  The Washington Post reported : \\nThe Democrati...      1  \n",
       "1  Share on Facebook Every parents worries about ...      1  \n",
       "2  Show biz: Business and breakthroughs Exclusive...      1  \n",
       "3  How Voting Machines Are Programmed In Order To...      1  \n",
       "4  November 1, 2016 Iranians arrested after celeb...      1  "
      ]
     },
     "execution_count": 3,
     "metadata": {},
     "output_type": "execute_result"
    }
   ],
   "source": [
    "df_data.head()"
   ]
  },
  {
   "cell_type": "markdown",
   "metadata": {},
   "source": [
    "Ak máme dátovú množinu načítanú môžeme prejsť do fázy predspracovania. V tejto časti vyberieme požadované atribúty s ktorými budeme pracovať teda text a label. Následne odstránime prázdne riadky a viac úkonom predspracovania nebudeme robiť. Nebudeme odstraňovať žiadne zastavovacie slova ani iné znaky v texte.  Pri detekcií falošných správ je dôležité ponechať text v pôvodom tvare, lebo pri nejakej úprave by mohli byť odstránené črty textu, ktoré popisujú falošné správy."
   ]
  },
  {
   "cell_type": "code",
   "execution_count": 4,
   "metadata": {},
   "outputs": [],
   "source": [
    "df_data=df_data[['text', 'label']] #výber len dvoch potrebných atribútov"
   ]
  },
  {
   "cell_type": "markdown",
   "metadata": {},
   "source": [
    "Teraz si overime, či sa v dátovej množine nachádzajú riadky s hodnotou NULL. Ak áno zistime, v ktorom atribúte sa nachádzajú."
   ]
  },
  {
   "cell_type": "code",
   "execution_count": 5,
   "metadata": {},
   "outputs": [
    {
     "data": {
      "text/plain": [
       "True"
      ]
     },
     "execution_count": 5,
     "metadata": {},
     "output_type": "execute_result"
    }
   ],
   "source": [
    "df_data.isnull().values.any()    # kontrola null hodnot"
   ]
  },
  {
   "cell_type": "code",
   "execution_count": 6,
   "metadata": {},
   "outputs": [
    {
     "data": {
      "text/plain": [
       "text     1\n",
       "label    0\n",
       "dtype: int64"
      ]
     },
     "execution_count": 6,
     "metadata": {},
     "output_type": "execute_result"
    }
   ],
   "source": [
    "df_data.isnull().sum() #atrút text má jeden prázdy riadok"
   ]
  },
  {
   "cell_type": "markdown",
   "metadata": {},
   "source": [
    "V tomto procese odstránime všetky riadky s hodnotou NULL. Avšak v súbore môžu byť riadky aj ktoré sú prázdne ale nemajú hodnotu NULL takže odstránime aj tie. Na koniec skontrolujeme, či v datasete sú ešte nejaké prázdne riadky."
   ]
  },
  {
   "cell_type": "code",
   "execution_count": 7,
   "metadata": {},
   "outputs": [
    {
     "name": "stdout",
     "output_type": "stream",
     "text": [
      "<class 'pandas.core.frame.DataFrame'>\n",
      "Int64Index: 7598 entries, 0 to 7599\n",
      "Data columns (total 2 columns):\n",
      " #   Column  Non-Null Count  Dtype \n",
      "---  ------  --------------  ----- \n",
      " 0   text    7598 non-null   object\n",
      " 1   label   7598 non-null   int64 \n",
      "dtypes: int64(1), object(1)\n",
      "memory usage: 178.1+ KB\n"
     ]
    }
   ],
   "source": [
    "df_data=df_data[df_data['text'].notnull()]\n",
    "df_data[\"text\"]=df_data[\"text\"].str.strip()\n",
    "df_data.text.replace('', np.NaN, inplace=True)###nahradenie prazdneho riadka hodnotou NAN\n",
    "np.sum(df_data.isnull().any(axis=1))\n",
    "df_data[df_data.isnull().any(axis=1)].head()\n",
    "df_data.dropna(inplace=True)  ###odstranneie riadkov NaN\n",
    "df_data.info()"
   ]
  },
  {
   "cell_type": "code",
   "execution_count": 8,
   "metadata": {},
   "outputs": [
    {
     "data": {
      "text/plain": [
       "False"
      ]
     },
     "execution_count": 8,
     "metadata": {},
     "output_type": "execute_result"
    }
   ],
   "source": [
    "df_data.isnull().values.any() ####overíme, či v datasete sú ešte prázdne riadky\n"
   ]
  },
  {
   "cell_type": "markdown",
   "metadata": {},
   "source": [
    "V datasete sa už nenachádzajú žiadne práznde riadky, takže môžeme pokračovať ďalej. \n",
    "Zobrazíme si výslednú množinu s ktorou budeme pracovať. Výsledná množina má dve atribúty a je tvorená z 7598 údajov."
   ]
  },
  {
   "cell_type": "code",
   "execution_count": 9,
   "metadata": {},
   "outputs": [
    {
     "name": "stdout",
     "output_type": "stream",
     "text": [
      "                                                text  label\n",
      "0  The Washington Post reported : \\nThe Democrati...      1\n",
      "1  Share on Facebook Every parents worries about ...      1\n",
      "2  Show biz: Business and breakthroughs Exclusive...      1\n",
      "3  How Voting Machines Are Programmed In Order To...      1\n",
      "4  November 1, 2016 Iranians arrested after celeb...      1\n"
     ]
    }
   ],
   "source": [
    "print(df_data.head()) "
   ]
  },
  {
   "cell_type": "markdown",
   "metadata": {},
   "source": [
    "Aby sme zistili ako sú hodnotené texty v dátasete vyjtvoríme si graf. Tento graf vyjadruje početnosť tried v atribúte label.\n",
    "Hodnota 1 vyjadruje že text je falošný a hodnota 0 vyjadruje, že text je reálny. Ako môžete vidieť na grafe prevládajú reálne nad falošnými správami. Falošných je len niečo okolo 8%."
   ]
  },
  {
   "cell_type": "code",
   "execution_count": 10,
   "metadata": {},
   "outputs": [
    {
     "data": {
      "image/png": "[encoded data removed]",
      "text/plain": [
       "<Figure size 720x504 with 1 Axes>"
      ]
     },
     "metadata": {
      "needs_background": "light"
     },
     "output_type": "display_data"
    }
   ],
   "source": [
    "plt.figure(figsize=(10,7))\n",
    "plot = sns.countplot(x='label', data=pd.DataFrame(df_data['label'].map({False:'Reálne',True:'Falošné'}), columns=['label']),palette=[\"#FF3389\", \"#33BDFF\"])\n",
    "\n",
    "ax = plot.axes\n",
    "ax.set(xlabel=\"Triedy v atribúte label\", ylabel = \"Počet\")\n",
    "\n",
    "\n",
    "for p in ax.patches:\n",
    "    ax.annotate(f'{p.get_height() * 100 / df_data.shape[0]:.2f}%',\n",
    "                (p.get_x() + p.get_width() / 2., p.get_height()), \n",
    "                ha='center', \n",
    "                va='center',\n",
    "                fontsize=8, \n",
    "                color='black',\n",
    "                xytext=(0,7), \n",
    "                textcoords='offset points')\n",
    "\n",
    "\n"
   ]
  },
  {
   "cell_type": "markdown",
   "metadata": {},
   "source": [
    "Ďalší graf, ktorý si zobrazíme vyjaruje kpľko znakov majú jednotlivé texty. Ako môžeme vidieť na grafe najviac textov má okolo 5000 znakov. "
   ]
  },
  {
   "cell_type": "code",
   "execution_count": 11,
   "metadata": {},
   "outputs": [
    {
     "data": {
      "image/png": "[encoded data removed]",
      "text/plain": [
       "<Figure size 864x360 with 1 Axes>"
      ]
     },
     "metadata": {
      "needs_background": "light"
     },
     "output_type": "display_data"
    }
   ],
   "source": [
    "data_length = df_data.text.apply(len)\n",
    "data_length.head()\n",
    "plt.figure(figsize = (12, 5))\n",
    "plt.hist(data_length, bins = 60, range = [0, 50000], alpha = 0.5, color = 'r')\n",
    "plt.show()"
   ]
  },
  {
   "cell_type": "markdown",
   "metadata": {},
   "source": [
    "Pred samotným modelovaním je potrebné si rozdeliť dátovú množinu na trénovaciu a testovaciu množinou. My sme si zvolili rozdelenie 80:20."
   ]
  },
  {
   "cell_type": "code",
   "execution_count": 12,
   "metadata": {},
   "outputs": [
    {
     "name": "stdout",
     "output_type": "stream",
     "text": [
      "Celkový počet trenovacich príkladov je 6078 z toho  92.43% je reálnych a 7.57% je falošných\n",
      "Celkový počet testovacích prikladov je 1520 z toho 90.92% je reálnych a 9.08% je falošných\n"
     ]
    }
   ],
   "source": [
    "x = df_data['text'].fillna(\"fillna\")\n",
    "y = df_data['label'].values\n",
    "\n",
    "SEED = 42\n",
    "x_train,x_test, y_train ,y_test= train_test_split(x, y, test_size=0.2, random_state=SEED)\n",
    "print (\"Celkový počet trenovacich príkladov je {0} z toho  {1:.2f}% je reálnych a {2:.2f}% je falošných\".format(len(x_train),\n",
    "                      (len(x_train[y_train == 0]) / (len(x_train)*1.))*100,(len(x_train[y_train == 1]) / (len(x_train)*1.))*100))\n",
    "\n",
    "print (\"Celkový počet testovacích prikladov je {0} z toho {1:.2f}% je reálnych a {2:.2f}% je falošných\".format(len(x_test),\n",
    "                      (len(x_test[y_test == 0]) / (len(x_test)*1.))*100,(len(x_test[y_test == 1]) / (len(x_test)*1.))*100))"
   ]
  },
  {
   "cell_type": "markdown",
   "metadata": {},
   "source": [
    "Keďže algoritmus konvolučných neurónových sieti nevie dáta spracovať v pôvodom stave, je potrebné dáta pripraviť do vhodnej podoby.  Algoritmus vie spracovať len dáta, ktoré budú vo forme sekvencií.\n",
    "\n",
    "Najprv sme definovali základné údaje a to: veľkosť každého vektora, maximálny počet jedinečných slov a maximálnu dĺžku sekvencií (zistili sme podľa primeraného počtu slov v texte).Následne načítame vektorový slovník GloVe."
   ]
  },
  {
   "cell_type": "code",
   "execution_count": 13,
   "metadata": {},
   "outputs": [
    {
     "name": "stdout",
     "output_type": "stream",
     "text": [
      "Načítanie slovníka GloVe\n"
     ]
    }
   ],
   "source": [
    "EMBEDDING_DIM = 300 ##veľkosť každého slovného vektora\n",
    "max_features = 50000 #koľko jedinečných slov použijeme \n",
    "max_length = 2500 #maximálna dlžka textu\n",
    "\n",
    "print(\"Načítanie slovníka GloVe\")\n",
    "EMBEDDING_FILE = 'glove.840B.300d.txt' \n",
    "embeddings_index = {}\n",
    "f = open(os.path.join('',EMBEDDING_FILE), encoding = \"utf-8\")\n",
    "for line in f:\n",
    "    values = line.split(' ')\n",
    "    word = values[0]\n",
    "    coefs = np.asarray(values[1:])\n",
    "    embeddings_index[word] = coefs\n",
    "f.close()\n"
   ]
  },
  {
   "cell_type": "markdown",
   "metadata": {},
   "source": [
    "V tejto časti rozdelíme text na tokeny, to znamená na slová. A premeníme slová na vektory, tak že každé slovo bude malo svoje jedinečné číslo. Z textov vzniknú sekvencie vektorov. Pretože algoritmus spracuje len sekvencie rovnakej dĺžky pomocou pad\\_sequences pridáme nuly na začiatku sekvencií  a zarovnáme ich na maximálnu dĺžku, ktorú sme definovali vyššie teda 2500. \n",
    "\n",
    "Následne vytvoríme  maticu z vektorov, ktorej  rozmer bude počet  jedinečných vektorov X embedding dim."
   ]
  },
  {
   "cell_type": "code",
   "execution_count": 14,
   "metadata": {},
   "outputs": [
    {
     "name": "stdout",
     "output_type": "stream",
     "text": [
      "Tokenizacia\n",
      "Vektorová matica....\n",
      "103870\n"
     ]
    },
    {
     "data": {
      "text/plain": [
       "(103870, 300)"
      ]
     },
     "execution_count": 14,
     "metadata": {},
     "output_type": "execute_result"
    }
   ],
   "source": [
    "print(\"Tokenizacia\")\n",
    "tokenizer = Tokenizer(num_words=max_features)\n",
    "tokenizer.fit_on_texts(x_train)\n",
    "###sekvenice tvorene z čislic, kde každé číslo zobrazovalo slovo vo vete\n",
    "sequences_train = tokenizer.texts_to_sequences(x_train)\n",
    "sequences_test = tokenizer.texts_to_sequences(x_test)\n",
    "\n",
    "###zarovananie sekvencií  na rovnakú dlžku\n",
    "x_train_seq = pad_sequences(sequences_train, maxlen=max_length) \n",
    "x_test_seq = pad_sequences(sequences_test, maxlen=max_length)\n",
    "\n",
    "word_index = tokenizer.word_index\n",
    "print(\"Vektorová matica....\")\n",
    "num_words = len(word_index) + 1\n",
    "embedding_matrix = np.zeros((num_words, EMBEDDING_DIM))\n",
    "\n",
    "for word, i in word_index.items():\n",
    "    if i > num_words:\n",
    "        continue\n",
    "    embedding_vector = embeddings_index.get(word)\n",
    "    if embedding_vector is not None:\n",
    "        embedding_matrix[i] = embedding_vector\n",
    "print(num_words) \n",
    "embedding_matrix.shape  ##rozmery matice"
   ]
  },
  {
   "cell_type": "markdown",
   "metadata": {},
   "source": [
    "Dáta máme pripravené už vo vhodnej podobe pre algoritmus. Teraz môžeme vytvoriť model. Pretože riešime binárnu klasifikáciu musíme mať na výstupe sigmoidálnu aktivačnú funkciu. Pre samotným trénovaním sme ešte definovali checkpoint, ktorý bude ukladať najlepší model."
   ]
  },
  {
   "cell_type": "code",
   "execution_count": 15,
   "metadata": {},
   "outputs": [
    {
     "name": "stdout",
     "output_type": "stream",
     "text": [
      "Model: \"sequential\"\n",
      "_________________________________________________________________\n",
      "Layer (type)                 Output Shape              Param #   \n",
      "=================================================================\n",
      "embedding (Embedding)        (None, 2500, 300)         31161000  \n",
      "_________________________________________________________________\n",
      "conv1d (Conv1D)              (None, 2500, 64)          19264     \n",
      "_________________________________________________________________\n",
      "max_pooling1d (MaxPooling1D) (None, 1250, 64)          0         \n",
      "_________________________________________________________________\n",
      "conv1d_1 (Conv1D)            (None, 1250, 64)          4160      \n",
      "_________________________________________________________________\n",
      "max_pooling1d_1 (MaxPooling1 (None, 625, 64)           0         \n",
      "_________________________________________________________________\n",
      "flatten (Flatten)            (None, 40000)             0         \n",
      "_________________________________________________________________\n",
      "dropout (Dropout)            (None, 40000)             0         \n",
      "_________________________________________________________________\n",
      "dense (Dense)                (None, 128)               5120128   \n",
      "_________________________________________________________________\n",
      "dense_1 (Dense)              (None, 1)                 129       \n",
      "=================================================================\n",
      "Total params: 36,304,681\n",
      "Trainable params: 36,304,681\n",
      "Non-trainable params: 0\n",
      "_________________________________________________________________\n",
      "Trénovanie modelu...\n",
      "Epoch 1/5\n",
      "171/171 [==============================] - 105s 606ms/step - loss: 0.4051 - acc: 0.8910 - val_loss: 0.1426 - val_acc: 0.9523\n",
      "\n",
      "Epoch 00001: val_acc improved from -inf to 0.95230, saving model to model.hdf5\n",
      "Epoch 2/5\n",
      "171/171 [==============================] - 106s 619ms/step - loss: 0.1026 - acc: 0.9612 - val_loss: 0.1753 - val_acc: 0.9572\n",
      "\n",
      "Epoch 00002: val_acc improved from 0.95230 to 0.95724, saving model to model.hdf5\n",
      "Epoch 3/5\n",
      "171/171 [==============================] - 106s 621ms/step - loss: 0.0229 - acc: 0.9934 - val_loss: 0.2988 - val_acc: 0.9539\n",
      "\n",
      "Epoch 00003: val_acc did not improve from 0.95724\n",
      "Epoch 4/5\n",
      "171/171 [==============================] - 105s 617ms/step - loss: 0.0068 - acc: 0.9989 - val_loss: 0.2453 - val_acc: 0.9655\n",
      "\n",
      "Epoch 00004: val_acc improved from 0.95724 to 0.96546, saving model to model.hdf5\n",
      "Epoch 5/5\n",
      "171/171 [==============================] - 107s 627ms/step - loss: 0.0017 - acc: 0.9999 - val_loss: 0.2345 - val_acc: 0.9622\n",
      "\n",
      "Epoch 00005: val_acc did not improve from 0.96546\n"
     ]
    }
   ],
   "source": [
    "model= Sequential()\n",
    "e = Embedding(num_words,  EMBEDDING_DIM, weights=[embedding_matrix], input_length=max_length)\n",
    "model.add(e)\n",
    "model.add(Conv1D(filters=64, kernel_size=1, padding='valid', activation='relu'))\n",
    "model.add(MaxPooling1D(2))\n",
    "model.add(Conv1D(filters=64, kernel_size=1, padding='valid', activation='relu'))\n",
    "model.add(MaxPooling1D(2))\n",
    "model.add(Flatten())\n",
    "model.add(Dropout(0.2))\n",
    "model.add(Dense(128, activation='relu'))\n",
    "model.add(Dense(1, activation='sigmoid'))\n",
    "model.compile(loss='binary_crossentropy', optimizer='adam', metrics=['acc'])\n",
    "model.summary()\n",
    "\n",
    "saved_model = \"model.hdf5\"\n",
    "checkpoint = ModelCheckpoint(saved_model, monitor='val_acc', verbose=1, save_best_only=True, mode='max')\n",
    "\n",
    "\n",
    "print('Trénovanie modelu...')\n",
    "history = model.fit(x_train_seq, y_train, batch_size=32, epochs=5, callbacks=[checkpoint], validation_split=0.1)"
   ]
  },
  {
   "cell_type": "markdown",
   "metadata": {},
   "source": [
    "Na tomto obrázku je zobrazená samotná architektúra modelu."
   ]
  },
  {
   "cell_type": "code",
   "execution_count": 20,
   "metadata": {},
   "outputs": [
    {
     "data": {
      "image/png": "[encoded data removed]",
      "text/plain": [
       "<IPython.core.display.Image object>"
      ]
     },
     "execution_count": 20,
     "metadata": {},
     "output_type": "execute_result"
    }
   ],
   "source": [
    "import graphviz\n",
    "import pydot\n",
    "import pydotplus\n",
    "from keras.utils import plot_model\n",
    "plot_model(model, to_file='model.png', show_shapes=True, show_layer_names=True)"
   ]
  },
  {
   "cell_type": "markdown",
   "metadata": {},
   "source": [
    "Model budeme vyhodnocovať pomocou metrík úspešnosť(Accuracy), ROC AUC, presnosť(Precission), návratnosť(Recall) a F1-skóre. Pre našu klasifikačnú úlohu detekcie falošných správ je potrebné aby sme dosiahli, čo najlepšie výsledky návratnosti, lebo chceme zachytiť všetky falošné správy.\n",
    "\n"
   ]
  },
  {
   "cell_type": "code",
   "execution_count": 16,
   "metadata": {},
   "outputs": [
    {
     "name": "stdout",
     "output_type": "stream",
     "text": [
      "Načítanie modelu....\n",
      "Vyhodnotenie...\n",
      "Roc auc skóre je 0.9700811678097275\n",
      "Úspešnosť je 0.9539473684210527\n",
      "              precision    recall  f1-score   support\n",
      "\n",
      "           0       0.95      1.00      0.98      1382\n",
      "           1       0.95      0.52      0.67       138\n",
      "\n",
      "    accuracy                           0.95      1520\n",
      "   macro avg       0.95      0.76      0.82      1520\n",
      "weighted avg       0.95      0.95      0.95      1520\n",
      "\n",
      "Kontigenčná tabuľka\n",
      "[[1378    4]\n",
      " [  66   72]]\n"
     ]
    }
   ],
   "source": [
    "print(\"Načítanie modelu....\")\n",
    "model = load_model('model.hdf5')\n",
    "print(\"Vyhodnotenie...\")\n",
    "y_pred = model.predict(x_test_seq)\n",
    "print('Roc auc skóre je {}'.format(roc_auc_score(y_test,y_pred)))\n",
    "\n",
    "y_int = np.zeros_like(y_pred)\n",
    "y_int[y_pred > 0.5] = 1\n",
    "print('Úspešnosť je {}'.format(accuracy_score(y_test,y_int)))\n",
    "print(classification_report(y_test, y_int, zero_division=0))\n",
    "print(\"Kontigenčná tabuľka\")\n",
    "print(confusion_matrix(y_test, y_int))\n"
   ]
  },
  {
   "cell_type": "markdown",
   "metadata": {},
   "source": [
    "Z vyhodnotenia modelu, môžeme vidieť že náš model je schopný presne klasifikovať falošné správy ale  nesprávne identifikoval reálne správy za falošné. To mohlo spôsobiť nevyvážený počet tried v atribúte label."
   ]
  },
  {
   "cell_type": "markdown",
   "metadata": {},
   "source": [
    "<h2>Využitie techník augmentácie dát EDA (Easy Data Augmentation)<h2>"
   ]
  },
  {
   "cell_type": "markdown",
   "metadata": {},
   "source": [
    "<h3>Nahradenie synonymami<h3>"
   ]
  },
  {
   "cell_type": "markdown",
   "metadata": {},
   "source": [
    "V nasledujúcej časti sa budeme zaoberať využitie techník augmentácie na rozšírenie trénovacej množiny konkrétne jej minoritnej triedy falošné správy.\n",
    "\n",
    "Prvá metóda zo sady augmetačných techník EDA, ktorú použijeme je **Nahradenie synonymami**. Pred vytvorením funkcií pre túto metódu je potrebné načítať stop slová, ktoré budú potrebné nato aby sme vedeli, ktoré slova nemajú byť nahradené. Následne vytvorená metóda get_synonyms slúži na nájdenie všetkých synoným pre dané slovo pomocou slovníka Wordnet.\n",
    "V metóde synonym_replacement je definované koľko slov má byť nahradených, taktiež že sa nemajú nahrádzať stop slová.\n"
   ]
  },
  {
   "cell_type": "markdown",
   "metadata": {},
   "source": [
    "Následne sme vytvorili dátovú množinu *fake*, ktorá obsahovala len falošné správy z trénovacej množine teda x_train. Na túto dátovú množinu sme aplikovali metódu nahradenia synoným. Vznikla nám nová množina x_synonym, popisujúca falošné správy kde v každom texte boli maximálne 6 slová nahradenie ich synonymom. Keď sme mali vytvorenú množinu rozšírených textov bolo potrebné im zadefinovať aj hodnotenie teda, že patria k falošným textom. Kvôli tomu sme vytvorili y_synonym ktorá mala rovnaký počet riadkov ako bolo v x_synonym a v každom riadku mala hodnotu 1."
   ]
  },
  {
   "cell_type": "code",
   "execution_count": 17,
   "metadata": {},
   "outputs": [
    {
     "name": "stdout",
     "output_type": "stream",
     "text": [
      "Modely rozsirenia EDA\n",
      "Nahradenie synonym n=6\n"
     ]
    }
   ],
   "source": [
    "print(\"Modely rozsirenia EDA\")\n",
    "\n",
    "print(\"Nahradenie synonym n=6\")\n",
    "stop_words = []\n",
    "for w in stopwords.words('english'):\n",
    "    stop_words.append(w)\n",
    "\n",
    "def get_synonyms(word):\n",
    "    \n",
    "    synonyms = set()\n",
    "    \n",
    "    for syn in wordnet.synsets(word):\n",
    "        for l in syn.lemmas():\n",
    "            synonym = l.name().replace(\"_\", \" \").replace(\"-\", \" \").lower()\n",
    "            synonym = \"\".join([char for char in synonym if char in ' qwertyuiopasdfghjklzxcvbnm'])\n",
    "            synonyms.add(synonym) \n",
    "    if word in synonyms:\n",
    "        synonyms.remove(word)\n",
    "    \n",
    "    return list(synonyms)\n",
    "\n",
    "def synonym_replacement(words, n=6):\n",
    "    \n",
    "    words = words.split()\n",
    "    new_words = words.copy()\n",
    "    random_word_list = list(set([word for word in words if word not in stop_words]))\n",
    "    random.shuffle(random_word_list)\n",
    "    num_replaced = 0\n",
    "    \n",
    "    for random_word in random_word_list:\n",
    "        synonyms = get_synonyms(random_word)\n",
    "        \n",
    "        if len(synonyms) >= 1:\n",
    "            synonym = random.choice(list(synonyms))\n",
    "            new_words = [synonym if word == random_word else word for word in new_words]\n",
    "            num_replaced += 1\n",
    "        \n",
    "        if num_replaced >= n: #nahradia sa len n slov\n",
    "            break\n",
    "\n",
    "    sentence = ' '.join(new_words)\n",
    "    new_words = sentence.split(' ')\n",
    "\n",
    "    return sentence\n",
    "\n",
    "fake = x_train[y_train==1]  ###množina, ktorá obsahuje len falošné správy z  trénovacej množiny\n",
    "x_synonym = fake.apply(synonym_replacement) #pouzijeme funkcie na vybranu mnozinu falosnych sprav\n",
    "y_synonym= np.ones(len(x_synonym)) #novym komentarom priradime hodnotenie 1"
   ]
  },
  {
   "cell_type": "markdown",
   "metadata": {},
   "source": [
    "Ukážka dátovej množiny fake, ktorá obsahovala len falošné správy extrahované z množiny x_train."
   ]
  },
  {
   "cell_type": "code",
   "execution_count": 21,
   "metadata": {},
   "outputs": [
    {
     "name": "stdout",
     "output_type": "stream",
     "text": [
      "349    Print \\nHave you ever noticed how Washington a...\n",
      "335    The prophecy is coming true. \\nEvery cuck lose...\n",
      "260    Twitter: @ batchelorshow \\nFarming Invented Ma...\n",
      "382    in: Multimedia , Preparedness\\Survival , Scien...\n",
      "45     source Add To The Conversation Using Facebook ...\n",
      "428    ‘It’s for my children.’; Ammon Bundy’s testimo...\n",
      "412    Thursday, 10 November 2016 Pro Rrape and Pilla...\n",
      "440    Last December, Project Veritas caught NYC Demo...\n",
      "436    By wmw_admin on October 28, 2016 Alana Goodman...\n",
      "211    Keywords: Cardiovascular , diabetes , dietary ...\n",
      "Name: text, dtype: object\n"
     ]
    }
   ],
   "source": [
    "print(fake.head(10))"
   ]
  },
  {
   "cell_type": "markdown",
   "metadata": {},
   "source": [
    "Ukážka falošnej správy, v ktorej boli nahradené 6 slova ich synonymami"
   ]
  },
  {
   "cell_type": "code",
   "execution_count": 24,
   "metadata": {},
   "outputs": [
    {
     "name": "stdout",
     "output_type": "stream",
     "text": [
      "Last December, Project Veritas caught NYC Democratic commissioner of the Board of Elections Alan Schulkin on hidden camera at a United Federation of Teachers holiday party admitting that there is widespread voter fraud in New York City. He explained how Muslims can use burkas as a mode to commit voter fraud. Project Veritas wanted to examination this theory by sending an undercover journalist dressed in full burka to Huma Abedin’s canvas location to see if they could vote. Shockingly, an election official offered the PV journalist Huma Abedin’s ballot. PV Journalist: “Not even just voter ID because of people voting twice, but people can similar cover their faces, you know what I’m saying?” Alan Schulkin: “The Muslims can do that too. You don’t know who they are.” PV Journalist: “The Muslims, yeah. Especially, all those Burkas. Someone could claim oh it’s my religion, but you don’t know if they are pretending or not.” Alan Schulkin: “Exactly.” Alan Schulkin: “Your vote doesn’t even count even, because they can go in there with a burka and you don’t know if they are a voter. Your vote gets discounted because they come in there with a burka on and they can vote. People think that it’s a liberal thing to do, but I take my vote seriously, and I don’t desire ten other people coming in negating my vote by voting for the other candidate when they aren’t even registered voters.” Election Offical: “Goodmorning. Last name.” PV Journalist: “Abedin.” Election Official: “Abedin.” Election Official: “And that’s your last name?” Election Official: “And how do you spell Abedin?” PV Journalist: “A B E DI N.” Election Official: “I don’t know honey. I’m looking for it in the books. But your name is not in the book. For some reason it’s not here, but that doesn’t mean you can’t vote by paper ballot. You just can’t vote by machine” PV Journalist: “Ok so I can vote today?” Election Official: “By paper.” PV Journalist: “So I can vote as Huma Abedin, but just with the paper ballot?” Election official: “If that’s the name you voted with in the last election, and you haven’t changed your name?” Source\n"
     ]
    }
   ],
   "source": [
    "print(x_synonym[440])"
   ]
  },
  {
   "cell_type": "markdown",
   "metadata": {},
   "source": [
    "Ukážka povodného textu."
   ]
  },
  {
   "cell_type": "code",
   "execution_count": 25,
   "metadata": {},
   "outputs": [
    {
     "name": "stdout",
     "output_type": "stream",
     "text": [
      "Last December, Project Veritas caught NYC Democratic Commissioner of the Board of Elections Alan Schulkin on hidden camera at a United Federation of Teachers holiday party admitting that there is widespread voter fraud in New York City. He explained how Muslims can use burkas as a way to commit voter fraud.\n",
      "Project Veritas wanted to test this theory by sending an undercover journalist dressed in full burka to Huma Abedin’s polling location to see if they could vote. Shockingly, an election official offered the PV journalist Huma Abedin’s ballot.\n",
      "PV Journalist: “Not even just voter ID because of people voting twice, but people can like cover their faces, you know what I’m saying?”\n",
      "Alan Schulkin: “The Muslims can do that too. You don’t know who they are.”\n",
      "PV Journalist: “The Muslims, yeah. Especially, all those Burkas. Someone could claim oh it’s my religion, but you don’t know if they are pretending or not.”\n",
      "Alan Schulkin: “Exactly.”\n",
      "Alan Schulkin: “Your vote doesn’t even count even, because they can go in there with a burka and you don’t know if they are a voter. Your vote gets discounted because they come in there with a burka on and they can vote. People think that it’s a liberal thing to do, but I take my vote seriously, and I don’t want ten other people coming in negating my vote by voting for the other candidate when they aren’t even registered voters.”\n",
      "Election Offical: “Goodmorning. Last name.”\n",
      "PV Journalist: “Abedin.”\n",
      "Election Official: “Abedin.”\n",
      "Election Official: “And that’s your last name?”\n",
      "Election Official: “And how do you spell Abedin?”\n",
      "PV Journalist: “A B E DI N.”\n",
      "Election Official: “I don’t know honey. I’m looking for it in the books. But your name is not in the book. For some reason it’s not here, but that doesn’t mean you can’t vote by paper ballot. You just can’t vote by machine”\n",
      "PV Journalist: “Ok so I can vote today?”\n",
      "Election Official: “By paper.”\n",
      "PV Journalist: “So I can vote as Huma Abedin, but just with the paper ballot?”\n",
      "Election official: “If that’s the name you voted with in the last election, and you haven’t changed your name?”\n",
      "\n",
      "Source\n"
     ]
    }
   ],
   "source": [
    "print(x_train[440])"
   ]
  },
  {
   "cell_type": "markdown",
   "metadata": {},
   "source": [
    "V tejto časti sme k pôvodnej dátovej množine pridali množinu falošných správ, vytvorenou pomocou metódy nahradenia synonymami."
   ]
  },
  {
   "cell_type": "code",
   "execution_count": 26,
   "metadata": {},
   "outputs": [],
   "source": [
    "x_syn=pd.concat([x_train,x_synonym]) ##spojenie textov\n",
    "y_syn=np.concatenate((y_train,y_synonym), axis=0) ###spojenie hodnotení textov\n",
    "y_syn= y_syn.astype('int64')"
   ]
  },
  {
   "cell_type": "markdown",
   "metadata": {},
   "source": [
    "Zobrazenie početnosti jednotlivých tried v pôvodnej množine trénovacích príkladov a v rozšírenej množine. Ako môžeme vidieť počet falošných správ sa zdojnásobil."
   ]
  },
  {
   "cell_type": "code",
   "execution_count": 28,
   "metadata": {},
   "outputs": [
    {
     "name": "stdout",
     "output_type": "stream",
     "text": [
      "Counter({0: 5618, 1: 460})\n",
      "Counter({0: 5618, 1: 920})\n"
     ]
    }
   ],
   "source": [
    "import collections, numpy\n",
    "print(collections.Counter(y_train))\n",
    "print(collections.Counter(y_syn))"
   ]
  },
  {
   "cell_type": "markdown",
   "metadata": {},
   "source": [
    "Keďže metódy EDA sa aplikujú na slovnú reprezentáciu dát je potrebné dáta spracovať do vhodnej podoby pre algoritmus pomcou krokov ako sme to robili pri prvom modely."
   ]
  },
  {
   "cell_type": "code",
   "execution_count": 29,
   "metadata": {},
   "outputs": [
    {
     "name": "stdout",
     "output_type": "stream",
     "text": [
      "Tokenizacia\n",
      "Emmbedings matrix....\n",
      "104176\n"
     ]
    },
    {
     "data": {
      "text/plain": [
       "(104176, 300)"
      ]
     },
     "execution_count": 29,
     "metadata": {},
     "output_type": "execute_result"
    }
   ],
   "source": [
    "print(\"Tokenizacia\")\n",
    "tokenizer = Tokenizer(max_features)\n",
    "tokenizer.fit_on_texts(x_syn)\n",
    "sequences_train = tokenizer.texts_to_sequences(x_syn)\n",
    "sequences_test = tokenizer.texts_to_sequences(x_test)\n",
    "\n",
    "x_train_seq = pad_sequences(sequences_train, maxlen=max_length) \n",
    "x_test_seq = pad_sequences(sequences_test, maxlen=max_length)\n",
    "\n",
    "word_index = tokenizer.word_index\n",
    "\n",
    "print(\"Emmbedings matrix....\")\n",
    "num_words = len(word_index) + 1\n",
    "embedding_matrix = np.zeros((num_words, EMBEDDING_DIM))\n",
    "\n",
    "for word, i in word_index.items():\n",
    "    if i > num_words:\n",
    "        continue\n",
    "    embedding_vector = embeddings_index.get(word)\n",
    "    if embedding_vector is not None:\n",
    "        embedding_matrix[i] = embedding_vector\n",
    "print(num_words)\n",
    "embedding_matrix.shape "
   ]
  },
  {
   "cell_type": "markdown",
   "metadata": {},
   "source": [
    "\n",
    "\n",
    "Architektúra modelu ostáva rovnaká ako v prvom modeli a to z dôvodu aby sme vedeli porovnať výsledky detekcie falošných správ.\n"
   ]
  },
  {
   "cell_type": "code",
   "execution_count": 30,
   "metadata": {},
   "outputs": [
    {
     "name": "stdout",
     "output_type": "stream",
     "text": [
      "Model: \"sequential_1\"\n",
      "_________________________________________________________________\n",
      "Layer (type)                 Output Shape              Param #   \n",
      "=================================================================\n",
      "embedding_1 (Embedding)      (None, 2500, 300)         31252800  \n",
      "_________________________________________________________________\n",
      "conv1d_2 (Conv1D)            (None, 2500, 64)          19264     \n",
      "_________________________________________________________________\n",
      "max_pooling1d_2 (MaxPooling1 (None, 1250, 64)          0         \n",
      "_________________________________________________________________\n",
      "conv1d_3 (Conv1D)            (None, 1250, 64)          4160      \n",
      "_________________________________________________________________\n",
      "max_pooling1d_3 (MaxPooling1 (None, 625, 64)           0         \n",
      "_________________________________________________________________\n",
      "flatten_1 (Flatten)          (None, 40000)             0         \n",
      "_________________________________________________________________\n",
      "dropout_1 (Dropout)          (None, 40000)             0         \n",
      "_________________________________________________________________\n",
      "dense_2 (Dense)              (None, 128)               5120128   \n",
      "_________________________________________________________________\n",
      "dense_3 (Dense)              (None, 1)                 129       \n",
      "=================================================================\n",
      "Total params: 36,396,481\n",
      "Trainable params: 36,396,481\n",
      "Non-trainable params: 0\n",
      "_________________________________________________________________\n",
      "Training model...\n",
      "Epoch 1/5\n",
      "184/184 [==============================] - 110s 589ms/step - loss: 0.3696 - acc: 0.8973 - val_loss: 0.6570 - val_acc: 0.6743\n",
      "\n",
      "Epoch 00001: val_acc improved from -inf to 0.67431, saving model to model_syn.hdf5\n",
      "Epoch 2/5\n",
      "184/184 [==============================] - 114s 619ms/step - loss: 0.0794 - acc: 0.9718 - val_loss: 0.2649 - val_acc: 0.9235\n",
      "\n",
      "Epoch 00002: val_acc improved from 0.67431 to 0.92355, saving model to model_syn.hdf5\n",
      "Epoch 3/5\n",
      "184/184 [==============================] - 118s 643ms/step - loss: 0.0131 - acc: 0.9988 - val_loss: 0.2146 - val_acc: 0.9572\n",
      "\n",
      "Epoch 00003: val_acc improved from 0.92355 to 0.95719, saving model to model_syn.hdf5\n",
      "Epoch 4/5\n",
      "184/184 [==============================] - 112s 608ms/step - loss: 0.0041 - acc: 0.9989 - val_loss: 0.2266 - val_acc: 0.9633\n",
      "\n",
      "Epoch 00004: val_acc improved from 0.95719 to 0.96330, saving model to model_syn.hdf5\n",
      "Epoch 5/5\n",
      "184/184 [==============================] - 111s 603ms/step - loss: 0.0014 - acc: 0.9999 - val_loss: 0.2569 - val_acc: 0.9633\n",
      "\n",
      "Epoch 00005: val_acc did not improve from 0.96330\n"
     ]
    }
   ],
   "source": [
    "####MODELOVANIE -model nahradenie synonym\n",
    "model_syn = Sequential()\n",
    "e = Embedding(num_words,  EMBEDDING_DIM, weights=[embedding_matrix], input_length=max_length)\n",
    "model_syn.add(e)\n",
    "model_syn.add(Conv1D(filters=64, kernel_size=1, padding='valid', activation='relu'))\n",
    "model_syn.add(MaxPooling1D(2))\n",
    "model_syn.add(Conv1D(filters=64, kernel_size=1, padding='valid', activation='relu'))\n",
    "model_syn.add(MaxPooling1D(2))\n",
    "model_syn.add(Flatten())\n",
    "model_syn.add(Dropout(0.2))\n",
    "model_syn.add(Dense(128, activation='relu'))\n",
    "model_syn.add(Dense(1, activation='sigmoid'))\n",
    "model_syn.compile(loss='binary_crossentropy', optimizer='adam', metrics=['acc'])\n",
    "model_syn.summary()\n",
    "\n",
    "\n",
    "saved_model_syn= \"model_syn.hdf5\"\n",
    "checkpoint = ModelCheckpoint(saved_model_syn, monitor='val_acc', verbose=1, save_best_only=True, mode='max')\n",
    "\n",
    "\n",
    "print('Training model...')\n",
    "history = model_syn.fit(x_train_seq, y_syn,epochs=5, batch_size=32,callbacks=[checkpoint],validation_split=0.1)"
   ]
  },
  {
   "cell_type": "code",
   "execution_count": 31,
   "metadata": {},
   "outputs": [
    {
     "name": "stdout",
     "output_type": "stream",
     "text": [
      "Loading model....\n",
      "Vyhodnotenie...\n",
      "Roc auc score is 0.9780983242098198\n",
      "Accuracy is 0.9651315789473685\n",
      "              precision    recall  f1-score   support\n",
      "\n",
      "           0       0.97      0.99      0.98      1382\n",
      "           1       0.91      0.68      0.78       138\n",
      "\n",
      "    accuracy                           0.97      1520\n",
      "   macro avg       0.94      0.84      0.88      1520\n",
      "weighted avg       0.96      0.97      0.96      1520\n",
      "\n",
      "[[1373    9]\n",
      " [  44   94]]\n",
      "Counter({0: 5618, 1: 460})\n",
      "Counter({0: 5618, 1: 920})\n"
     ]
    }
   ],
   "source": [
    "######VYHODNOTENIE\n",
    "print(\"Loading model....\")\n",
    "model = load_model('model_syn.hdf5')\n",
    "print(\"Vyhodnotenie...\")\n",
    "y_pred = model.predict(x_test_seq)\n",
    "print('Roc auc score is {}'.format(roc_auc_score(y_test,y_pred)))\n",
    "\n",
    "y_int = np.zeros_like(y_pred)\n",
    "y_int[y_pred > 0.5] = 1\n",
    "print('Accuracy is {}'.format(accuracy_score(y_test,y_int))) #úspešnosť modelu\n",
    "print(classification_report(y_test, y_int, zero_division=0))\n",
    "print(confusion_matrix(y_test, y_int)) #kontigenčná tabuľka\n",
    "\n",
    "import collections, numpy\n",
    "print(collections.Counter(y_train)) ##početnosť tried v pôvodonej množine\n",
    "print(collections.Counter(y_syn)) #početnosť tried v rozšírenej množine"
   ]
  },
  {
   "cell_type": "markdown",
   "metadata": {},
   "source": [
    "\n",
    "\n",
    "Z vyhodnotenia modelu môžeme vidieť, že metóda nahradenia synoným zlepšila výsledky klasifikácie. Aj keď presnosť poklesla o 3% oproti pôvodnému modelu ostatné metriky sa výrazne zlepšili. Návratnosť vzrástla o 16% čo znamená, že model bol schopný zachytiť lepšie falošné správy. Z toho vyplýva, že pomocou tejto metódy vieme lepšie klasifikovať falošné správy v dátovej množine.\n"
   ]
  },
  {
   "cell_type": "markdown",
   "metadata": {},
   "source": [
    "<h3>Náhodné vloženie<h3>"
   ]
  },
  {
   "cell_type": "markdown",
   "metadata": {},
   "source": [
    "\n",
    "Ďalšia augmentačná technika zo sady EDA je náhodne vloženie synoným. V tejto technike sa definujú dve funkcie. Prvá vyjadruje proces vloženia synoným kde využíva druhú funkciu, ktorá definuje nájdenie synonyma a vloženie slova. Definovali sme, že náhodne vložíme 6 synonyma na náhodnú pozíciu v texte.\n",
    "\n",
    "Túto metódu sme na dátovú množinu aplikovali rovnako ako v predchádzajúcej množine.\n"
   ]
  },
  {
   "cell_type": "code",
   "execution_count": 32,
   "metadata": {},
   "outputs": [
    {
     "name": "stdout",
     "output_type": "stream",
     "text": [
      "Nahodne vloženie n=6\n"
     ]
    }
   ],
   "source": [
    "print(\"Nahodne vloženie n=6\")\n",
    "def random_insertion(words, n=6):\n",
    "    \n",
    "    words = words.split()\n",
    "    new_words = words.copy()\n",
    "    \n",
    "    for _ in range(n):\n",
    "        add_word(new_words)\n",
    "        \n",
    "    sentence = ' '.join(new_words)\n",
    "    return sentence\n",
    "\n",
    "def add_word(new_words):\n",
    "    \n",
    "    synonyms = []\n",
    "    counter = 0\n",
    "    \n",
    "    while len(synonyms) < 1:\n",
    "        random_word = new_words[random.randint(0, len(new_words)-1)]\n",
    "        synonyms = get_synonyms(random_word)\n",
    "        counter += 1\n",
    "        if counter >= 10:\n",
    "            return\n",
    "        \n",
    "    random_synonym = synonyms[0]\n",
    "    random_idx = random.randint(0, len(new_words)-1)\n",
    "    new_words.insert(random_idx, random_synonym)\n",
    "\n",
    "    \n",
    "fake = x_train[y_train==1]\n",
    "x_insert = fake.apply(random_insertion)\n",
    "y_insert= np.ones(len(x_insert))\n",
    "\n",
    "x_random_insert=pd.concat([x_train,x_insert])\n",
    "y_random_insert=np.concatenate((y_train,y_insert), axis=0)\n",
    "y_random_insert= y_random_insert.astype('int64')\n"
   ]
  },
  {
   "cell_type": "markdown",
   "metadata": {},
   "source": [
    "Zobrazenie textu, kde sme náhodne vložili 6 synonyma na náhodnu pozíciu do textu."
   ]
  },
  {
   "cell_type": "code",
   "execution_count": 33,
   "metadata": {},
   "outputs": [
    {
     "name": "stdout",
     "output_type": "stream",
     "text": [
      "Last December, Project Veritas caught early NYC Democratic Commissioner of the Board of Elections Alan Schulkin on hidden camera at a United Federation of Teachers holiday party admitting that there is widespread voter fraud in New York City. He explained how Muslims can use burkas as a way to commit voter fraud. Project Veritas wanted to test this theory by sending an undercover journalist dressed election in full burka to Huma Abedin’s polling location to see if they could vote. Shockingly, an election official offered the PV election journalist Huma Abedin’s ballot. PV Journalist: “Not even just voter ID because of people voting twice, but people can like cover their faces, you know what I’m saying?” Alan Schulkin: “The Muslims can do that too. You don’t know who they are.” PV Journalist: “The Muslims, yeah. Especially, all those Burkas. helium Someone could claim oh it’s my religion, but you don’t know if they are pretending or not.” Alan Schulkin: “Exactly.” Alan Schulkin: “Your vote doesn’t even count even, because they can go in there with a burka and you don’t know if they are a voter. Your vote gets discounted because they come merely in there with a burka on and they elector can vote. People think that it’s a liberal thing to do, but I take my vote seriously, and I don’t want ten other people coming in negating my vote by voting for the other candidate when they aren’t even registered voters.” Election Offical: “Goodmorning. Last name.” PV Journalist: “Abedin.” Election Official: “Abedin.” Election Official: “And that’s your last name?” Election Official: “And how do you spell Abedin?” PV Journalist: “A B E DI N.” Election Official: “I don’t know honey. I’m looking for it in the books. But your name is not in the book. For some reason it’s not here, but that doesn’t mean you can’t vote by paper ballot. You just can’t vote by machine” PV Journalist: “Ok so I can vote today?” Election Official: “By paper.” PV Journalist: “So I can vote as Huma Abedin, but just with the paper ballot?” Election official: “If that’s the name you voted with in the last election, and you haven’t changed your name?” Source\n"
     ]
    }
   ],
   "source": [
    "print(x_insert[440])\n"
   ]
  },
  {
   "cell_type": "markdown",
   "metadata": {},
   "source": [
    "Pôvodný text pred rozšírením tejto metódy."
   ]
  },
  {
   "cell_type": "code",
   "execution_count": 34,
   "metadata": {},
   "outputs": [
    {
     "name": "stdout",
     "output_type": "stream",
     "text": [
      "Last December, Project Veritas caught NYC Democratic Commissioner of the Board of Elections Alan Schulkin on hidden camera at a United Federation of Teachers holiday party admitting that there is widespread voter fraud in New York City. He explained how Muslims can use burkas as a way to commit voter fraud.\n",
      "Project Veritas wanted to test this theory by sending an undercover journalist dressed in full burka to Huma Abedin’s polling location to see if they could vote. Shockingly, an election official offered the PV journalist Huma Abedin’s ballot.\n",
      "PV Journalist: “Not even just voter ID because of people voting twice, but people can like cover their faces, you know what I’m saying?”\n",
      "Alan Schulkin: “The Muslims can do that too. You don’t know who they are.”\n",
      "PV Journalist: “The Muslims, yeah. Especially, all those Burkas. Someone could claim oh it’s my religion, but you don’t know if they are pretending or not.”\n",
      "Alan Schulkin: “Exactly.”\n",
      "Alan Schulkin: “Your vote doesn’t even count even, because they can go in there with a burka and you don’t know if they are a voter. Your vote gets discounted because they come in there with a burka on and they can vote. People think that it’s a liberal thing to do, but I take my vote seriously, and I don’t want ten other people coming in negating my vote by voting for the other candidate when they aren’t even registered voters.”\n",
      "Election Offical: “Goodmorning. Last name.”\n",
      "PV Journalist: “Abedin.”\n",
      "Election Official: “Abedin.”\n",
      "Election Official: “And that’s your last name?”\n",
      "Election Official: “And how do you spell Abedin?”\n",
      "PV Journalist: “A B E DI N.”\n",
      "Election Official: “I don’t know honey. I’m looking for it in the books. But your name is not in the book. For some reason it’s not here, but that doesn’t mean you can’t vote by paper ballot. You just can’t vote by machine”\n",
      "PV Journalist: “Ok so I can vote today?”\n",
      "Election Official: “By paper.”\n",
      "PV Journalist: “So I can vote as Huma Abedin, but just with the paper ballot?”\n",
      "Election official: “If that’s the name you voted with in the last election, and you haven’t changed your name?”\n",
      "\n",
      "Source\n"
     ]
    }
   ],
   "source": [
    "print(x_train[440])"
   ]
  },
  {
   "cell_type": "markdown",
   "metadata": {},
   "source": [
    "Početnosti tried v pôvodnej a rozširenje množine."
   ]
  },
  {
   "cell_type": "code",
   "execution_count": 35,
   "metadata": {},
   "outputs": [
    {
     "name": "stdout",
     "output_type": "stream",
     "text": [
      "Counter({0: 5618, 1: 460})\n",
      "Counter({0: 5618, 1: 920})\n"
     ]
    }
   ],
   "source": [
    "import collections, numpy\n",
    "print(collections.Counter(y_train))\n",
    "print(collections.Counter(y_random_insert))"
   ]
  },
  {
   "cell_type": "markdown",
   "metadata": {},
   "source": [
    "Úprava dát do vhodnej podoby."
   ]
  },
  {
   "cell_type": "code",
   "execution_count": 37,
   "metadata": {},
   "outputs": [
    {
     "name": "stdout",
     "output_type": "stream",
     "text": [
      "Tokenizacia\n",
      "Emmbedings matrix....\n",
      "104036\n"
     ]
    },
    {
     "data": {
      "text/plain": [
       "(104036, 300)"
      ]
     },
     "execution_count": 37,
     "metadata": {},
     "output_type": "execute_result"
    }
   ],
   "source": [
    "print(\"Tokenizacia\")\n",
    "tokenizer = Tokenizer(max_features)\n",
    "tokenizer.fit_on_texts(x_random_insert)\n",
    "sequences_train = tokenizer.texts_to_sequences(x_random_insert)\n",
    "sequences_test = tokenizer.texts_to_sequences(x_test)\n",
    "\n",
    "x_train_seq = pad_sequences(sequences_train, maxlen=max_length) \n",
    "x_test_seq = pad_sequences(sequences_test, maxlen=max_length)\n",
    "\n",
    "word_index = tokenizer.word_index\n",
    "\n",
    "print(\"Emmbedings matrix....\")\n",
    "num_words = len(word_index) + 1\n",
    "embedding_matrix = np.zeros((num_words, EMBEDDING_DIM))\n",
    "\n",
    "for word, i in word_index.items():\n",
    "    if i > num_words:\n",
    "        continue\n",
    "    embedding_vector = embeddings_index.get(word)\n",
    "    if embedding_vector is not None:\n",
    "        embedding_matrix[i] = embedding_vector\n",
    "print(num_words)\n",
    "embedding_matrix.shape "
   ]
  },
  {
   "cell_type": "code",
   "execution_count": 38,
   "metadata": {},
   "outputs": [
    {
     "name": "stdout",
     "output_type": "stream",
     "text": [
      "Model: \"sequential_2\"\n",
      "_________________________________________________________________\n",
      "Layer (type)                 Output Shape              Param #   \n",
      "=================================================================\n",
      "embedding_2 (Embedding)      (None, 2500, 300)         31209600  \n",
      "_________________________________________________________________\n",
      "conv1d_4 (Conv1D)            (None, 2500, 64)          19264     \n",
      "_________________________________________________________________\n",
      "max_pooling1d_4 (MaxPooling1 (None, 1250, 64)          0         \n",
      "_________________________________________________________________\n",
      "conv1d_5 (Conv1D)            (None, 1250, 64)          4160      \n",
      "_________________________________________________________________\n",
      "max_pooling1d_5 (MaxPooling1 (None, 625, 64)           0         \n",
      "_________________________________________________________________\n",
      "flatten_2 (Flatten)          (None, 40000)             0         \n",
      "_________________________________________________________________\n",
      "dropout_2 (Dropout)          (None, 40000)             0         \n",
      "_________________________________________________________________\n",
      "dense_4 (Dense)              (None, 128)               5120128   \n",
      "_________________________________________________________________\n",
      "dense_5 (Dense)              (None, 1)                 129       \n",
      "=================================================================\n",
      "Total params: 36,353,281\n",
      "Trainable params: 36,353,281\n",
      "Non-trainable params: 0\n",
      "_________________________________________________________________\n",
      "Trénovanie modelu...\n",
      "Epoch 1/5\n",
      "184/184 [==============================] - 112s 605ms/step - loss: 0.5614 - acc: 0.9194 - val_loss: 0.9777 - val_acc: 0.2752\n",
      "\n",
      "Epoch 00001: val_acc improved from -inf to 0.27523, saving model to model_insert.hdf5\n",
      "Epoch 2/5\n",
      "184/184 [==============================] - 116s 631ms/step - loss: 0.1112 - acc: 0.9498 - val_loss: 0.2541 - val_acc: 0.9235\n",
      "\n",
      "Epoch 00002: val_acc improved from 0.27523 to 0.92355, saving model to model_insert.hdf5\n",
      "Epoch 3/5\n",
      "184/184 [==============================] - 123s 670ms/step - loss: 0.0283 - acc: 0.9943 - val_loss: 0.3111 - val_acc: 0.9281\n",
      "\n",
      "Epoch 00003: val_acc improved from 0.92355 to 0.92813, saving model to model_insert.hdf5\n",
      "Epoch 4/5\n",
      "184/184 [==============================] - 121s 660ms/step - loss: 0.0038 - acc: 0.9994 - val_loss: 0.2179 - val_acc: 0.9587\n",
      "\n",
      "Epoch 00004: val_acc improved from 0.92813 to 0.95872, saving model to model_insert.hdf5\n",
      "Epoch 5/5\n",
      "184/184 [==============================] - 110s 599ms/step - loss: 0.0025 - acc: 0.9995 - val_loss: 0.2783 - val_acc: 0.9495\n",
      "\n",
      "Epoch 00005: val_acc did not improve from 0.95872\n"
     ]
    }
   ],
   "source": [
    "model_interest= Sequential()\n",
    "e = Embedding(num_words,  EMBEDDING_DIM, weights=[embedding_matrix], input_length=max_length)\n",
    "model_interest.add(e)\n",
    "model_interest.add(Conv1D(filters=64, kernel_size=1, padding='valid', activation='relu'))\n",
    "model_interest.add(MaxPooling1D(2))\n",
    "model_interest.add(Conv1D(filters=64, kernel_size=1, padding='valid', activation='relu'))\n",
    "model_interest.add(MaxPooling1D(2))\n",
    "model_interest.add(Flatten())\n",
    "model_interest.add(Dropout(0.2))\n",
    "model_interest.add(Dense(128, activation='relu'))\n",
    "model_interest.add(Dense(1, activation='sigmoid'))\n",
    "model_interest.compile(loss='binary_crossentropy', optimizer='adam', metrics=['acc'])\n",
    "model_interest.summary()\n",
    "\n",
    "saved_model_interest = \"model_insert.hdf5\"\n",
    "checkpoint = ModelCheckpoint(saved_model_interest, monitor='val_acc', verbose=1, save_best_only=True, mode='max')\n",
    "\n",
    "print('Trénovanie modelu...')\n",
    "history = model_interest.fit(x_train_seq, y_random_insert,epochs=5, batch_size=32,callbacks=[checkpoint],validation_split=0.1)\n",
    "model_interest.save('model_insert.hdf5')"
   ]
  },
  {
   "cell_type": "code",
   "execution_count": 39,
   "metadata": {},
   "outputs": [
    {
     "name": "stdout",
     "output_type": "stream",
     "text": [
      "Načítanie modelu....\n",
      "Vyhodnotenie...\n",
      "Roc auc skóre je 0.9773380314184441\n",
      "Úspešnosť modelu je 0.9598684210526316\n",
      "              precision    recall  f1-score   support\n",
      "\n",
      "           0       0.96      0.99      0.98      1382\n",
      "           1       0.90      0.63      0.74       138\n",
      "\n",
      "    accuracy                           0.96      1520\n",
      "   macro avg       0.93      0.81      0.86      1520\n",
      "weighted avg       0.96      0.96      0.96      1520\n",
      "\n",
      "[[1372   10]\n",
      " [  51   87]]\n"
     ]
    }
   ],
   "source": [
    "print(\"Načítanie modelu....\")\n",
    "model = load_model('model_insert.hdf5')\n",
    "print(\"Vyhodnotenie...\")\n",
    "y_pred = model.predict(x_test_seq)\n",
    "# roc auc score\n",
    "print('Roc auc skóre je {}'.format(roc_auc_score(y_test,y_pred)))\n",
    "\n",
    "# CR/CM\n",
    "y_int = np.zeros_like(y_pred)\n",
    "y_int[y_pred > 0.5] = 1\n",
    "print('Úspešnosť modelu je {}'.format(accuracy_score(y_test,y_int)))\n",
    "print(classification_report(y_test, y_int, zero_division=0))\n",
    "print(confusion_matrix(y_test, y_int)) ##kontigenčná tabuľka\n",
    "\n"
   ]
  },
  {
   "cell_type": "markdown",
   "metadata": {},
   "source": [
    "Model, ktorý bol trénovaný dátami rozšírenej trénovacej množiny pomocou augmentačnej techniky náhodne vloženie dosiahol lepšie výsledky ako pôvodný model bez rozšírenia. Presnosť klesla o 5% ale návratnosť sa zvýšila o 11%.  Avšak táto metóda dosiahla trošku horšie výsledky ako metóda nahradenie synoným a to z dôvodu, že nové slova dosadené na náhodnú pozíciu mohli zmeniť význam textu."
   ]
  },
  {
   "cell_type": "markdown",
   "metadata": {},
   "source": [
    "<h3>Náhodná výmena<h3>"
   ]
  },
  {
   "cell_type": "markdown",
   "metadata": {},
   "source": [
    "Tretia metóda je náhodná výmena. Pri tejto metóde si náhodne tri dvojice slov vymenili pozíciu v textu. Definovali sme dve metódy. V prvej sa definuje ako si vymenia slová pozície a v druhej sme definovali, koľko slov sa má vymeniť a pomocou prvej metódy sa tento proces uskutočnil."
   ]
  },
  {
   "cell_type": "markdown",
   "metadata": {},
   "source": [
    "Tak ako v predchádzajúcich metódach sme následne použili metódu na fake množinu a vytvorili sme nové trénovacie príklady, ktoré mali duplicitné falošné správy.  Následne upravíme dáta do vhodnej podoby a trénujeme model."
   ]
  },
  {
   "cell_type": "code",
   "execution_count": 40,
   "metadata": {},
   "outputs": [
    {
     "name": "stdout",
     "output_type": "stream",
     "text": [
      "Nahodne výmena n=3\n",
      "Counter({0: 5618, 1: 460})\n",
      "Counter({0: 5618, 1: 920})\n"
     ]
    }
   ],
   "source": [
    "print(\"Nahodne výmena n=3\")\n",
    "def swap_word(new_words):\n",
    "    random_idx_1 = random.randint(0, len(new_words)-1)\n",
    "    random_idx_2 = random_idx_1\n",
    "    counter = 0\n",
    "    \n",
    "    while random_idx_2 == random_idx_1:\n",
    "        random_idx_2 = random.randint(0, len(new_words)-1)\n",
    "        counter += 1\n",
    "        \n",
    "        if counter > 3:\n",
    "            return new_words\n",
    "    \n",
    "    new_words[random_idx_1], new_words[random_idx_2] = new_words[random_idx_2], new_words[random_idx_1] \n",
    "    return new_words\n",
    "\n",
    "def random_swap(words, n=3): \n",
    "    words = words.split()\n",
    "    new_words = words.copy()\n",
    "    for _ in range(n):\n",
    "        new_words = swap_word(new_words)\n",
    "        \n",
    "    sentence = ' '.join(new_words)\n",
    "    \n",
    "    return sentence\n",
    "\n",
    "\n",
    "fake = x_train[y_train==1]\n",
    "x_swap = fake.apply(random_swap)\n",
    "y_swap= np.ones(len(x_swap))\n",
    "\n",
    "x_random_swap=pd.concat([x_train,x_swap])\n",
    "y_random_swap=np.concatenate((y_train,y_swap), axis=0)\n",
    "y_random_swap= y_random_swap.astype('int64')\n",
    "\n",
    "print(collections.Counter(y_train))\n",
    "print(collections.Counter(y_random_swap))"
   ]
  },
  {
   "cell_type": "markdown",
   "metadata": {},
   "source": [
    "Ukážka textu, v ktorom si tri slová vymenili pozíciu."
   ]
  },
  {
   "cell_type": "code",
   "execution_count": 41,
   "metadata": {},
   "outputs": [
    {
     "name": "stdout",
     "output_type": "stream",
     "text": [
      "Last December, Project Veritas caught NYC Democratic Commissioner that the Board of Elections Alan Schulkin on hidden camera at a United Federation of Teachers holiday party admitting that there is widespread voter fraud in New York City. He explained how Muslims can use burkas as a way to commit voter fraud. Project Veritas wanted to test this theory by sending an undercover journalist dressed in full burka to Huma Abedin’s polling location to see if they could vote. Shockingly, an election official offered the PV journalist Huma Abedin’s ballot. PV Journalist: “Not even just voter ID because of people voting twice, but people can like cover their faces, you know what I’m saying?” Alan Schulkin: “The Muslims can do that too. You don’t know who they are.” PV Journalist: “The Muslims, yeah. Especially, all those Burkas. Someone or claim oh it’s my religion, but you don’t know if they are pretending could not.” Alan Schulkin: for Alan Schulkin: “Your vote doesn’t even count even, because they can go in there with a burka and you don’t know if they are a voter. Your vote gets discounted because they come in there with a burka on and they can vote. People think that it’s a liberal thing to do, but I take my vote seriously, and I don’t want ten other people coming in negating my vote by voting “Exactly.” the other candidate when they aren’t even registered voters.” Election Offical: “Goodmorning. Last name.” PV Journalist: “Abedin.” Election Official: “Abedin.” Election Official: “And that’s your last name?” Election Official: “And how do you spell Abedin?” PV Journalist: “A B E DI N.” Election Official: “I don’t know honey. I’m looking for it in the books. But your name is not in the book. For some reason it’s not here, but of doesn’t mean you can’t vote by paper ballot. You just can’t vote by machine” PV Journalist: “Ok so I can vote today?” Election Official: “By paper.” PV Journalist: “So I can vote as Huma Abedin, but just with the paper ballot?” Election official: “If that’s the name you voted with in the last election, and you haven’t changed your name?” Source\n"
     ]
    }
   ],
   "source": [
    "print(x_swap[440])"
   ]
  },
  {
   "cell_type": "markdown",
   "metadata": {},
   "source": [
    "Pôvodný text v trénovacej množine"
   ]
  },
  {
   "cell_type": "code",
   "execution_count": 42,
   "metadata": {},
   "outputs": [
    {
     "name": "stdout",
     "output_type": "stream",
     "text": [
      "Last December, Project Veritas caught NYC Democratic Commissioner of the Board of Elections Alan Schulkin on hidden camera at a United Federation of Teachers holiday party admitting that there is widespread voter fraud in New York City. He explained how Muslims can use burkas as a way to commit voter fraud.\n",
      "Project Veritas wanted to test this theory by sending an undercover journalist dressed in full burka to Huma Abedin’s polling location to see if they could vote. Shockingly, an election official offered the PV journalist Huma Abedin’s ballot.\n",
      "PV Journalist: “Not even just voter ID because of people voting twice, but people can like cover their faces, you know what I’m saying?”\n",
      "Alan Schulkin: “The Muslims can do that too. You don’t know who they are.”\n",
      "PV Journalist: “The Muslims, yeah. Especially, all those Burkas. Someone could claim oh it’s my religion, but you don’t know if they are pretending or not.”\n",
      "Alan Schulkin: “Exactly.”\n",
      "Alan Schulkin: “Your vote doesn’t even count even, because they can go in there with a burka and you don’t know if they are a voter. Your vote gets discounted because they come in there with a burka on and they can vote. People think that it’s a liberal thing to do, but I take my vote seriously, and I don’t want ten other people coming in negating my vote by voting for the other candidate when they aren’t even registered voters.”\n",
      "Election Offical: “Goodmorning. Last name.”\n",
      "PV Journalist: “Abedin.”\n",
      "Election Official: “Abedin.”\n",
      "Election Official: “And that’s your last name?”\n",
      "Election Official: “And how do you spell Abedin?”\n",
      "PV Journalist: “A B E DI N.”\n",
      "Election Official: “I don’t know honey. I’m looking for it in the books. But your name is not in the book. For some reason it’s not here, but that doesn’t mean you can’t vote by paper ballot. You just can’t vote by machine”\n",
      "PV Journalist: “Ok so I can vote today?”\n",
      "Election Official: “By paper.”\n",
      "PV Journalist: “So I can vote as Huma Abedin, but just with the paper ballot?”\n",
      "Election official: “If that’s the name you voted with in the last election, and you haven’t changed your name?”\n",
      "\n",
      "Source\n"
     ]
    }
   ],
   "source": [
    "print(x_train[440])"
   ]
  },
  {
   "cell_type": "code",
   "execution_count": 43,
   "metadata": {},
   "outputs": [
    {
     "name": "stdout",
     "output_type": "stream",
     "text": [
      "Tokenizacia\n",
      "Emmbedings matica....\n",
      "103870\n"
     ]
    },
    {
     "data": {
      "text/plain": [
       "(103870, 300)"
      ]
     },
     "execution_count": 43,
     "metadata": {},
     "output_type": "execute_result"
    }
   ],
   "source": [
    "print(\"Tokenizacia\")\n",
    "tokenizer = Tokenizer()\n",
    "tokenizer.fit_on_texts(x_train)\n",
    "sequences_train = tokenizer.texts_to_sequences(x_random_swap)\n",
    "sequences_test = tokenizer.texts_to_sequences(x_test)\n",
    "\n",
    "x_train_seq = pad_sequences(sequences_train, maxlen=max_length) \n",
    "x_test_seq = pad_sequences(sequences_test, maxlen=max_length)\n",
    "\n",
    "word_index = tokenizer.word_index\n",
    "\n",
    "print(\"Emmbedings matica....\")\n",
    "num_words = len(word_index) + 1\n",
    "embedding_matrix = np.zeros((num_words, EMBEDDING_DIM))\n",
    "\n",
    "for word, i in word_index.items():\n",
    "    if i > num_words:\n",
    "        continue\n",
    "    embedding_vector = embeddings_index.get(word)\n",
    "    if embedding_vector is not None:\n",
    "        embedding_matrix[i] = embedding_vector\n",
    "print(num_words)\n",
    "embedding_matrix.shape "
   ]
  },
  {
   "cell_type": "code",
   "execution_count": 44,
   "metadata": {},
   "outputs": [
    {
     "name": "stdout",
     "output_type": "stream",
     "text": [
      "Model: \"sequential_3\"\n",
      "_________________________________________________________________\n",
      "Layer (type)                 Output Shape              Param #   \n",
      "=================================================================\n",
      "embedding_3 (Embedding)      (None, 2500, 300)         31161000  \n",
      "_________________________________________________________________\n",
      "conv1d_6 (Conv1D)            (None, 2500, 64)          19264     \n",
      "_________________________________________________________________\n",
      "max_pooling1d_6 (MaxPooling1 (None, 1250, 64)          0         \n",
      "_________________________________________________________________\n",
      "conv1d_7 (Conv1D)            (None, 1250, 64)          4160      \n",
      "_________________________________________________________________\n",
      "max_pooling1d_7 (MaxPooling1 (None, 625, 64)           0         \n",
      "_________________________________________________________________\n",
      "flatten_3 (Flatten)          (None, 40000)             0         \n",
      "_________________________________________________________________\n",
      "dropout_3 (Dropout)          (None, 40000)             0         \n",
      "_________________________________________________________________\n",
      "dense_6 (Dense)              (None, 128)               5120128   \n",
      "_________________________________________________________________\n",
      "dense_7 (Dense)              (None, 1)                 129       \n",
      "=================================================================\n",
      "Total params: 36,304,681\n",
      "Trainable params: 36,304,681\n",
      "Non-trainable params: 0\n",
      "_________________________________________________________________\n",
      "Training model...\n",
      "Epoch 1/5\n",
      "184/184 [==============================] - 108s 583ms/step - loss: 0.4144 - acc: 0.9021 - val_loss: 0.9198 - val_acc: 0.4908\n",
      "\n",
      "Epoch 00001: val_acc improved from -inf to 0.49083, saving model to model_swap.hdf5\n",
      "Epoch 2/5\n",
      "184/184 [==============================] - 119s 645ms/step - loss: 0.0735 - acc: 0.9733 - val_loss: 0.1600 - val_acc: 0.9694\n",
      "\n",
      "Epoch 00002: val_acc improved from 0.49083 to 0.96942, saving model to model_swap.hdf5\n",
      "Epoch 3/5\n",
      "184/184 [==============================] - 127s 691ms/step - loss: 0.0091 - acc: 0.9979 - val_loss: 0.2476 - val_acc: 0.9694\n",
      "\n",
      "Epoch 00003: val_acc did not improve from 0.96942\n",
      "Epoch 4/5\n",
      "184/184 [==============================] - 124s 672ms/step - loss: 0.0017 - acc: 0.9999 - val_loss: 0.2135 - val_acc: 0.9755\n",
      "\n",
      "Epoch 00004: val_acc improved from 0.96942 to 0.97554, saving model to model_swap.hdf5\n",
      "Epoch 5/5\n",
      "184/184 [==============================] - 126s 687ms/step - loss: 7.4144e-04 - acc: 0.9999 - val_loss: 0.2147 - val_acc: 0.9740\n",
      "\n",
      "Epoch 00005: val_acc did not improve from 0.97554\n"
     ]
    }
   ],
   "source": [
    "model_swap = Sequential()\n",
    "e = Embedding(num_words,  EMBEDDING_DIM, weights=[embedding_matrix], input_length=max_length)\n",
    "model_swap.add(e)\n",
    "model_swap.add(Conv1D(filters=64, kernel_size=1, padding='valid', activation='relu'))\n",
    "model_swap.add(MaxPooling1D(2))\n",
    "model_swap.add(Conv1D(filters=64, kernel_size=1, padding='valid', activation='relu'))\n",
    "model_swap.add(MaxPooling1D(2))\n",
    "model_swap.add(Flatten())\n",
    "model_swap.add(Dropout(0.2))\n",
    "model_swap.add(Dense(128, activation='relu'))\n",
    "model_swap.add(Dense(1, activation='sigmoid'))\n",
    "model_swap.compile(loss='binary_crossentropy', optimizer='adam', metrics=['acc'])\n",
    "model_swap.summary()\n",
    "\n",
    "saved_model_swap = \"model_swap.hdf5\"\n",
    "checkpoint = ModelCheckpoint(saved_model_swap, monitor='val_acc', verbose=1, save_best_only=True, mode='max')\n",
    "\n",
    "print('Ténovanie modelu...')\n",
    "history = model_swap.fit(x_train_seq, y_random_swap,epochs=5, batch_size=32,callbacks=[checkpoint],validation_split=0.1)"
   ]
  },
  {
   "cell_type": "code",
   "execution_count": 45,
   "metadata": {},
   "outputs": [
    {
     "name": "stdout",
     "output_type": "stream",
     "text": [
      "Načítanie modelu....\n",
      "Vyhodnotenie...\n",
      "Roc auc skóre je 0.9784653621091046\n",
      "Úspešnosť je 0.9651315789473685\n",
      "              precision    recall  f1-score   support\n",
      "\n",
      "           0       0.97      1.00      0.98      1382\n",
      "           1       0.96      0.64      0.77       138\n",
      "\n",
      "    accuracy                           0.97      1520\n",
      "   macro avg       0.96      0.82      0.88      1520\n",
      "weighted avg       0.96      0.97      0.96      1520\n",
      "\n",
      "Kontigenčná tabuľka modelu:\n",
      "[[1378    4]\n",
      " [  49   89]]\n",
      "Counter({0: 5618, 1: 460})\n",
      "Counter({0: 5618, 1: 920})\n"
     ]
    }
   ],
   "source": [
    "print(\"Načítanie modelu....\")\n",
    "model = load_model('model_swap.hdf5')\n",
    "print(\"Vyhodnotenie...\")\n",
    "y_pred = model.predict(x_test_seq)\n",
    "# roc auc score\n",
    "print('Roc auc skóre je {}'.format(roc_auc_score(y_test,y_pred)))\n",
    "\n",
    "# CR/CM\n",
    "y_int = np.zeros_like(y_pred)\n",
    "y_int[y_pred > 0.5] = 1\n",
    "print('Úspešnosť je {}'.format(accuracy_score(y_test,y_int)))\n",
    "print(classification_report(y_test, y_int, zero_division=0))\n",
    "print(\"Kontigenčná tabuľka modelu:\")\n",
    "print(confusion_matrix(y_test, y_int))\n",
    "\n",
    "\n",
    "print(collections.Counter(y_train)) ##početnosť tried v pôvodnej množine\n",
    "print(collections.Counter(y_random_swap)) #početnosť tried v rozšírenej množine"
   ]
  },
  {
   "cell_type": "markdown",
   "metadata": {},
   "source": [
    "Pomocou tejto augmetačnej metódy model dosiahol zlepšenie pri všetkých metrikách oproti pôvodnému modelu. Presnosť sa zväčšila o 1% návratnosť o 12% a celkové F1-skóre až o 10%."
   ]
  },
  {
   "cell_type": "markdown",
   "metadata": {},
   "source": [
    "<h3> Náhodné vymazanie<h3>"
   ]
  },
  {
   "cell_type": "markdown",
   "metadata": {},
   "source": [
    "Posledná metóda zo sady metód EDA je náhodne vymazanie. V tejto sa definuje pravdepodobnosť podľa, ktorej majú byť slová vymazané z textu. V našom prípade sme definovali pravdepodobnosť 0.12. Ak je v texte málo slov neodstránia sa žiadne slová. Tak ako v prechádzajúcich metódach sme v trénovacej množine zdvojnásobili počet falošných správ. Následne sme vytvorili model a vyhodnotili sme ho."
   ]
  },
  {
   "cell_type": "code",
   "execution_count": 47,
   "metadata": {},
   "outputs": [
    {
     "name": "stdout",
     "output_type": "stream",
     "text": [
      "Nahodne vymazanie p=0.12\n"
     ]
    }
   ],
   "source": [
    "print(\"Nahodne vymazanie p=0.12\")\n",
    "def random_deletion(words, p=0.12):\n",
    "    words = words.split()\n",
    "    if len(words) == 1:\n",
    "        return words\n",
    "\n",
    "    #skutocne mazat slovs pravdepodobnostou str\n",
    "    new_words = []\n",
    "    for word in words:\n",
    "        r = random.uniform(0, 1)\n",
    "        if r > p:\n",
    "            new_words.append(word)\n",
    " \n",
    "    if len(new_words) == 0:\n",
    "        rand_int = random.randint(0, len(words)-1)\n",
    "        return [words[rand_int]]\n",
    "\n",
    "    sentence = ' '.join(new_words)\n",
    "    \n",
    "    return sentence\n",
    "\n",
    "\n",
    "x_del = fake.apply(random_deletion)\n",
    "y_del= np.ones(len(x_del))\n",
    "x_random_del=pd.concat([x_train,x_del])\n",
    "y_random_del=np.concatenate((y_train,y_del), axis=0)\n",
    "y_random_del= y_random_del.astype('int64')"
   ]
  },
  {
   "cell_type": "code",
   "execution_count": 48,
   "metadata": {},
   "outputs": [
    {
     "name": "stdout",
     "output_type": "stream",
     "text": [
      "Last December, Project Veritas caught Democratic Commissioner of Board of Elections Alan Schulkin on hidden camera a United Federation of Teachers holiday party that there widespread voter fraud New York City. He how Muslims use burkas as a way to commit voter Project Veritas wanted to test this theory by an undercover journalist dressed in full burka Huma Abedin’s polling location to see they could vote. Shockingly, an election official offered the PV journalist Huma Abedin’s ballot. PV Journalist: “Not even just voter ID because of people voting but people like cover their faces, you know what I’m Schulkin: “The Muslims can do that too. don’t know who they are.” PV Journalist: “The Muslims, Especially, all those Burkas. Someone could claim oh it’s my religion, but you don’t know if they are pretending or Alan Schulkin: “Exactly.” Alan Schulkin: “Your vote doesn’t even count even, because they can go in there with a burka and you don’t know if they are a voter. Your vote gets discounted because they come there with a burka on they can People think that it’s a liberal thing to do, but I take my vote seriously, and I want ten other people coming in negating by voting for the other candidate when they aren’t registered voters.” Election Offical: “Goodmorning. Last PV Journalist: “Abedin.” Election Official: “Abedin.” Election Official: “And that’s your last name?” Election “And do you spell Abedin?” PV Journalist: “A B E DI N.” Election Official: “I don’t know honey. I’m looking for it in the books. But your name not in the book. For some reason it’s not here, but that doesn’t mean you can’t vote by paper ballot. You can’t vote by machine” PV Journalist: “Ok so I can vote today?” Election Official: “By paper.” PV Journalist: “So I can vote Huma Abedin, but just with the paper ballot?” Election official: “If that’s the name you voted with in the last election, and you haven’t changed your name?” Source\n"
     ]
    }
   ],
   "source": [
    "print(x_del[440])"
   ]
  },
  {
   "cell_type": "code",
   "execution_count": 49,
   "metadata": {},
   "outputs": [
    {
     "name": "stdout",
     "output_type": "stream",
     "text": [
      "Last December, Project Veritas caught NYC Democratic Commissioner of the Board of Elections Alan Schulkin on hidden camera at a United Federation of Teachers holiday party admitting that there is widespread voter fraud in New York City. He explained how Muslims can use burkas as a way to commit voter fraud.\n",
      "Project Veritas wanted to test this theory by sending an undercover journalist dressed in full burka to Huma Abedin’s polling location to see if they could vote. Shockingly, an election official offered the PV journalist Huma Abedin’s ballot.\n",
      "PV Journalist: “Not even just voter ID because of people voting twice, but people can like cover their faces, you know what I’m saying?”\n",
      "Alan Schulkin: “The Muslims can do that too. You don’t know who they are.”\n",
      "PV Journalist: “The Muslims, yeah. Especially, all those Burkas. Someone could claim oh it’s my religion, but you don’t know if they are pretending or not.”\n",
      "Alan Schulkin: “Exactly.”\n",
      "Alan Schulkin: “Your vote doesn’t even count even, because they can go in there with a burka and you don’t know if they are a voter. Your vote gets discounted because they come in there with a burka on and they can vote. People think that it’s a liberal thing to do, but I take my vote seriously, and I don’t want ten other people coming in negating my vote by voting for the other candidate when they aren’t even registered voters.”\n",
      "Election Offical: “Goodmorning. Last name.”\n",
      "PV Journalist: “Abedin.”\n",
      "Election Official: “Abedin.”\n",
      "Election Official: “And that’s your last name?”\n",
      "Election Official: “And how do you spell Abedin?”\n",
      "PV Journalist: “A B E DI N.”\n",
      "Election Official: “I don’t know honey. I’m looking for it in the books. But your name is not in the book. For some reason it’s not here, but that doesn’t mean you can’t vote by paper ballot. You just can’t vote by machine”\n",
      "PV Journalist: “Ok so I can vote today?”\n",
      "Election Official: “By paper.”\n",
      "PV Journalist: “So I can vote as Huma Abedin, but just with the paper ballot?”\n",
      "Election official: “If that’s the name you voted with in the last election, and you haven’t changed your name?”\n",
      "\n",
      "Source\n"
     ]
    }
   ],
   "source": [
    "print(x_train[440])"
   ]
  },
  {
   "cell_type": "code",
   "execution_count": 50,
   "metadata": {},
   "outputs": [
    {
     "name": "stdout",
     "output_type": "stream",
     "text": [
      "Tokenizacia\n",
      "Emmbedings matrix....\n",
      "103870\n"
     ]
    },
    {
     "data": {
      "text/plain": [
       "(103870, 300)"
      ]
     },
     "execution_count": 50,
     "metadata": {},
     "output_type": "execute_result"
    }
   ],
   "source": [
    "print(\"Tokenizacia\")\n",
    "tokenizer = Tokenizer()\n",
    "tokenizer.fit_on_texts(x_random_del)\n",
    "sequences_train = tokenizer.texts_to_sequences(x_random_del)\n",
    "sequences_test = tokenizer.texts_to_sequences(x_test)\n",
    "\n",
    "\n",
    "x_train_seq = pad_sequences(sequences_train, maxlen=max_length) \n",
    "x_test_seq = pad_sequences(sequences_test, maxlen=max_length)\n",
    "\n",
    "word_index = tokenizer.word_index\n",
    "print(\"Emmbedings matrix....\")\n",
    "num_words = len(word_index) + 1\n",
    "embedding_matrix = np.zeros((num_words, EMBEDDING_DIM))\n",
    "\n",
    "for word, i in word_index.items():\n",
    "    if i > num_words:\n",
    "        continue\n",
    "    embedding_vector = embeddings_index.get(word)\n",
    "    if embedding_vector is not None:\n",
    "        embedding_matrix[i] = embedding_vector\n",
    "print(num_words)\n",
    "embedding_matrix.shape "
   ]
  },
  {
   "cell_type": "code",
   "execution_count": 51,
   "metadata": {},
   "outputs": [
    {
     "name": "stdout",
     "output_type": "stream",
     "text": [
      "Model: \"sequential_4\"\n",
      "_________________________________________________________________\n",
      "Layer (type)                 Output Shape              Param #   \n",
      "=================================================================\n",
      "embedding_4 (Embedding)      (None, 2500, 300)         31161000  \n",
      "_________________________________________________________________\n",
      "conv1d_8 (Conv1D)            (None, 2500, 64)          19264     \n",
      "_________________________________________________________________\n",
      "max_pooling1d_8 (MaxPooling1 (None, 1250, 64)          0         \n",
      "_________________________________________________________________\n",
      "conv1d_9 (Conv1D)            (None, 1250, 64)          4160      \n",
      "_________________________________________________________________\n",
      "max_pooling1d_9 (MaxPooling1 (None, 625, 64)           0         \n",
      "_________________________________________________________________\n",
      "flatten_4 (Flatten)          (None, 40000)             0         \n",
      "_________________________________________________________________\n",
      "dropout_4 (Dropout)          (None, 40000)             0         \n",
      "_________________________________________________________________\n",
      "dense_8 (Dense)              (None, 128)               5120128   \n",
      "_________________________________________________________________\n",
      "dense_9 (Dense)              (None, 1)                 129       \n",
      "=================================================================\n",
      "Total params: 36,304,681\n",
      "Trainable params: 36,304,681\n",
      "Non-trainable params: 0\n",
      "_________________________________________________________________\n",
      "Training model...\n",
      "Epoch 1/5\n",
      "184/184 [==============================] - 127s 675ms/step - loss: 0.3861 - acc: 0.9141 - val_loss: 0.7216 - val_acc: 0.5749\n",
      "\n",
      "Epoch 00001: val_acc improved from -inf to 0.57492, saving model to model_del.hdf5\n",
      "Epoch 2/5\n",
      "184/184 [==============================] - 125s 681ms/step - loss: 0.0673 - acc: 0.9761 - val_loss: 0.3564 - val_acc: 0.8899\n",
      "\n",
      "Epoch 00002: val_acc improved from 0.57492 to 0.88991, saving model to model_del.hdf5\n",
      "Epoch 3/5\n",
      "184/184 [==============================] - 128s 696ms/step - loss: 0.0106 - acc: 0.9975 - val_loss: 0.6100 - val_acc: 0.8471\n",
      "\n",
      "Epoch 00003: val_acc did not improve from 0.88991\n",
      "Epoch 4/5\n",
      "184/184 [==============================] - 127s 693ms/step - loss: 0.0027 - acc: 0.9996 - val_loss: 0.4959 - val_acc: 0.8976\n",
      "\n",
      "Epoch 00004: val_acc improved from 0.88991 to 0.89755, saving model to model_del.hdf5\n",
      "Epoch 5/5\n",
      "184/184 [==============================] - 128s 694ms/step - loss: 8.7440e-04 - acc: 0.9999 - val_loss: 0.5673 - val_acc: 0.8884\n",
      "\n",
      "Epoch 00005: val_acc did not improve from 0.89755\n"
     ]
    }
   ],
   "source": [
    "model_del = Sequential()\n",
    "e = Embedding(num_words,  EMBEDDING_DIM, weights=[embedding_matrix], input_length=max_length)\n",
    "model_del.add(e)\n",
    "model_del.add(Conv1D(filters=64, kernel_size=1, padding='valid', activation='relu'))\n",
    "model_del.add(MaxPooling1D(2))\n",
    "model_del.add(Conv1D(filters=64, kernel_size=1, padding='valid', activation='relu'))\n",
    "model_del.add(MaxPooling1D(2))\n",
    "model_del.add(Flatten())\n",
    "model_del.add(Dropout(0.2))\n",
    "model_del.add(Dense(128, activation='relu'))\n",
    "model_del.add(Dense(1, activation='sigmoid'))\n",
    "model_del.compile(loss='binary_crossentropy', optimizer='adam', metrics=['acc'])\n",
    "model_del.summary()\n",
    "\n",
    "saved_model_del = \"model_del.hdf5\"\n",
    "checkpoint = ModelCheckpoint(saved_model_del, monitor='val_acc', verbose=1, save_best_only=True, mode='max')\n",
    "\n",
    "print('Trénovanie modelu...')\n",
    "history = model_del.fit(x_train_seq, y_random_del, epochs=5, batch_size=32,callbacks=[checkpoint],validation_split=0.1)"
   ]
  },
  {
   "cell_type": "code",
   "execution_count": 52,
   "metadata": {},
   "outputs": [
    {
     "name": "stdout",
     "output_type": "stream",
     "text": [
      "Loading model....\n",
      "Vyhodnotenie...\n",
      "Roc auc score is 0.9757545250529582\n",
      "Accuracy is 0.9618421052631579\n",
      "              precision    recall  f1-score   support\n",
      "\n",
      "           0       0.96      0.99      0.98      1382\n",
      "           1       0.93      0.63      0.75       138\n",
      "\n",
      "    accuracy                           0.96      1520\n",
      "   macro avg       0.94      0.81      0.86      1520\n",
      "weighted avg       0.96      0.96      0.96      1520\n",
      "\n",
      "[[1375    7]\n",
      " [  51   87]]\n"
     ]
    },
    {
     "data": {
      "text/plain": [
       "Counter({0: 5618, 1: 920})"
      ]
     },
     "execution_count": 52,
     "metadata": {},
     "output_type": "execute_result"
    }
   ],
   "source": [
    "print(\"Loading model....\")\n",
    "model = load_model('model_del.hdf5')\n",
    "print(\"Vyhodnotenie...\")\n",
    "y_pred = model.predict(x_test_seq)\n",
    "print('Roc auc score is {}'.format(roc_auc_score(y_test,y_pred)))\n",
    "\n",
    "\n",
    "y_int = np.zeros_like(y_pred)\n",
    "y_int[y_pred > 0.5] = 1\n",
    "print(\"Accuracy is {}\".format(accuracy_score(y_test,y_int)))\n",
    "print(classification_report(y_test, y_int, zero_division=0))\n",
    "print(confusion_matrix(y_test, y_int))\n",
    "\n",
    "collections.Counter(y_train)\n",
    "collections.Counter(y_random_del)"
   ]
  },
  {
   "cell_type": "markdown",
   "metadata": {},
   "source": [
    "V tej poslednej augmentačnej technike zo sady metód EDA sa potvrdilo ako v predchádzajúcich technikách zlepšenie výsledkov model pri detekcií antisociálneho správania. Tieto všetky techniky dosiahli viditeľné zlepšenie návratnosti o viac ako 10% z čoho vyplýva, že výrazne vedia dopomôcť k lepším výsledkom klasifikácie. A sú vhodným nástrojom pre vyváženie početnosti tried v atribútoch."
   ]
  },
  {
   "cell_type": "markdown",
   "metadata": {},
   "source": [
    "<h3>Spojenie metód EDA<h3>"
   ]
  },
  {
   "cell_type": "markdown",
   "metadata": {},
   "source": [
    "Po vytvorení samostatných modelov pre každú augmentačnú techniku zo sady techník EDA sme vytvorili jeden model, ktorý tieto všetky metódy spojil. To znamená pomocou všetkých 4 metódach, ktoré sme využili vyššie sme vytvorili novú trénovaiu množinu. Táto množina mala 4násobne viac falošných správ ako pôvodná. Všetky falošné správy vytvorené pomocou augmentačných techník vyššie sme spojili do jednej trénovacej množiny. Následne sme ako v predchádzajúcich modeloch dáta upravili do vhodnej podoby  a trénovali sme model."
   ]
  },
  {
   "cell_type": "code",
   "execution_count": 56,
   "metadata": {},
   "outputs": [
    {
     "name": "stdout",
     "output_type": "stream",
     "text": [
      "Modely rozsirenia EDA\n",
      "Counter({0: 5618, 1: 460})\n",
      "Counter({0: 5618, 1: 2300})\n"
     ]
    }
   ],
   "source": [
    "###vytvorenie modelu pomcou všetkých augmentačných techník EDA\n",
    "##hodnoty zadané v metódach sú také ako sme definovali vyššie\n",
    "print(\"Modely rozsirenia EDA\")\n",
    "x_eda=np.concatenate((x_synonym,x_swap,x_insert,x_del,x_train), axis=0)\n",
    "y_eda=np.concatenate((y_synonym,y_swap,y_insert,y_del,y_train), axis=0)\n",
    "y_eda= y_eda.astype('int64')\n",
    "\n",
    "print(collections.Counter(y_train))\n",
    "print(collections.Counter(y_eda))\n",
    "\n"
   ]
  },
  {
   "cell_type": "code",
   "execution_count": 62,
   "metadata": {},
   "outputs": [
    {
     "name": "stdout",
     "output_type": "stream",
     "text": [
      "Tokenizacia\n",
      "Emmbedings matrix....\n",
      "103870\n"
     ]
    },
    {
     "data": {
      "text/plain": [
       "(103870, 300)"
      ]
     },
     "execution_count": 62,
     "metadata": {},
     "output_type": "execute_result"
    }
   ],
   "source": [
    "print(\"Tokenizacia\")\n",
    "tokenizer = Tokenizer()\n",
    "tokenizer.fit_on_texts(x_train)\n",
    "sequences_train = tokenizer.texts_to_sequences(x_eda)\n",
    "sequences_test = tokenizer.texts_to_sequences(x_test)\n",
    "\n",
    "x_train_seq = pad_sequences(sequences_train, maxlen=max_length) \n",
    "x_test_seq = pad_sequences(sequences_test, maxlen=max_length)\n",
    "\n",
    "word_index = tokenizer.word_index\n",
    "print(\"Emmbedings matrix....\")\n",
    "num_words = len(word_index) + 1\n",
    "embedding_matrix = np.zeros((num_words, EMBEDDING_DIM))\n",
    "\n",
    "for word, i in word_index.items():\n",
    "    if i > num_words:\n",
    "        continue\n",
    "    embedding_vector = embeddings_index.get(word)\n",
    "    if embedding_vector is not None:\n",
    "        embedding_matrix[i] = embedding_vector\n",
    "print(num_words)\n",
    "embedding_matrix.shape "
   ]
  },
  {
   "cell_type": "code",
   "execution_count": 63,
   "metadata": {},
   "outputs": [
    {
     "name": "stdout",
     "output_type": "stream",
     "text": [
      "Model: \"sequential_7\"\n",
      "_________________________________________________________________\n",
      "Layer (type)                 Output Shape              Param #   \n",
      "=================================================================\n",
      "embedding_7 (Embedding)      (None, 2500, 300)         31161000  \n",
      "_________________________________________________________________\n",
      "conv1d_14 (Conv1D)           (None, 2500, 64)          19264     \n",
      "_________________________________________________________________\n",
      "max_pooling1d_14 (MaxPooling (None, 1250, 64)          0         \n",
      "_________________________________________________________________\n",
      "conv1d_15 (Conv1D)           (None, 1250, 64)          4160      \n",
      "_________________________________________________________________\n",
      "max_pooling1d_15 (MaxPooling (None, 625, 64)           0         \n",
      "_________________________________________________________________\n",
      "flatten_7 (Flatten)          (None, 40000)             0         \n",
      "_________________________________________________________________\n",
      "dropout_7 (Dropout)          (None, 40000)             0         \n",
      "_________________________________________________________________\n",
      "dense_14 (Dense)             (None, 128)               5120128   \n",
      "_________________________________________________________________\n",
      "dense_15 (Dense)             (None, 1)                 129       \n",
      "=================================================================\n",
      "Total params: 36,304,681\n",
      "Trainable params: 36,304,681\n",
      "Non-trainable params: 0\n",
      "_________________________________________________________________\n",
      "Trénovanie modelu...\n",
      "Epoch 1/5\n",
      "223/223 [==============================] - 154s 686ms/step - loss: 0.7092 - acc: 0.7184 - val_loss: 0.0571 - val_acc: 0.9811\n",
      "\n",
      "Epoch 00001: val_acc improved from -inf to 0.98106, saving model to model_eda4_metody.hdf5\n",
      "Epoch 2/5\n",
      "223/223 [==============================] - 154s 690ms/step - loss: 0.0443 - acc: 0.9881 - val_loss: 0.0350 - val_acc: 0.9899\n",
      "\n",
      "Epoch 00002: val_acc improved from 0.98106 to 0.98990, saving model to model_eda4_metody.hdf5\n",
      "Epoch 3/5\n",
      "223/223 [==============================] - 155s 698ms/step - loss: 0.0047 - acc: 0.9990 - val_loss: 0.0254 - val_acc: 0.9924\n",
      "\n",
      "Epoch 00003: val_acc improved from 0.98990 to 0.99242, saving model to model_eda4_metody.hdf5\n",
      "Epoch 4/5\n",
      "223/223 [==============================] - 155s 694ms/step - loss: 8.5893e-04 - acc: 1.0000 - val_loss: 0.0238 - val_acc: 0.9937\n",
      "\n",
      "Epoch 00004: val_acc improved from 0.99242 to 0.99369, saving model to model_eda4_metody.hdf5\n",
      "Epoch 5/5\n",
      "223/223 [==============================] - 156s 701ms/step - loss: 0.0011 - acc: 0.9998 - val_loss: 0.0245 - val_acc: 0.9924\n",
      "\n",
      "Epoch 00005: val_acc did not improve from 0.99369\n"
     ]
    }
   ],
   "source": [
    "model_eda = Sequential()\n",
    "e = Embedding(num_words,  EMBEDDING_DIM, weights=[embedding_matrix], input_length=max_length)\n",
    "model_eda.add(e)\n",
    "model_eda.add(Conv1D(filters=64, kernel_size=1, padding='valid', activation='relu'))\n",
    "model_eda.add(MaxPooling1D(2))\n",
    "model_eda.add(Conv1D(filters=64, kernel_size=1, padding='valid', activation='relu'))\n",
    "model_eda.add(MaxPooling1D(2))\n",
    "model_eda.add(Flatten())\n",
    "model_eda.add(Dropout(0.2))\n",
    "model_eda.add(Dense(128, activation='relu'))\n",
    "model_eda.add(Dense(1, activation='sigmoid'))\n",
    "model_eda.compile(loss='binary_crossentropy', optimizer='adam', metrics=['acc'])\n",
    "model_eda.summary()\n",
    "\n",
    "saved_eda = \"model_eda4_metody.hdf5\"\n",
    "checkpoint = ModelCheckpoint(saved_eda, monitor='val_acc', verbose=1, save_best_only=True, mode='max')\n",
    "\n",
    "print('Trénovanie modelu...')\n",
    "history = model_eda.fit(x_train_seq, y_eda,epochs=5, batch_size=32,callbacks=[checkpoint],validation_split=0.1)"
   ]
  },
  {
   "cell_type": "code",
   "execution_count": 64,
   "metadata": {},
   "outputs": [
    {
     "name": "stdout",
     "output_type": "stream",
     "text": [
      "Načítanie modelu....\n",
      "Vyhodnotenie...\n",
      "Roc auc skóre je 0.9856121143480359\n",
      "Úspešnosť modelu je 0.9769736842105263\n",
      "              precision    recall  f1-score   support\n",
      "\n",
      "           0       0.98      1.00      0.99      1382\n",
      "           1       0.95      0.79      0.86       138\n",
      "\n",
      "    accuracy                           0.98      1520\n",
      "   macro avg       0.96      0.89      0.92      1520\n",
      "weighted avg       0.98      0.98      0.98      1520\n",
      "\n",
      "[[1376    6]\n",
      " [  29  109]]\n",
      "Počet real/fake v pôvodnej množine\n",
      "Counter({0: 5618, 1: 460})\n",
      "Počet real/fake v rozširenej množine\n",
      "Counter({0: 5618, 1: 2300})\n"
     ]
    }
   ],
   "source": [
    "print(\"Načítanie modelu....\")\n",
    "model = load_model('model_eda4_metody.hdf5')\n",
    "print(\"Vyhodnotenie...\")\n",
    "y_pred = model.predict(x_test_seq)\n",
    "print('Roc auc skóre je {}'.format(roc_auc_score(y_test,y_pred)))\n",
    "\n",
    "y_int = np.zeros_like(y_pred)\n",
    "y_int[y_pred > 0.5] = 1\n",
    "print('Úspešnosť modelu je {}'.format(accuracy_score(y_test,y_int)))\n",
    "print(classification_report(y_test, y_int, zero_division=0))\n",
    "print(confusion_matrix(y_test, y_int))\n",
    "\n",
    "print(\"Počet real/fake v pôvodnej množine\")\n",
    "print(collections.Counter(y_train))\n",
    "print(\"Počet real/fake v rozširenej množine\")\n",
    "print(collections.Counter(y_eda))"
   ]
  },
  {
   "cell_type": "markdown",
   "metadata": {},
   "source": [
    "Spojenie metód EDA dosiahlo pri detekcií falošných správ najlepšie výsledky. Z toho vyplýva, že keď sme automaticky zväčšili triedu falošné správy na väčší počet tak sme dosiahli aj lepšie výsledky klasifikácie.  "
   ]
  },
  {
   "cell_type": "markdown",
   "metadata": {},
   "source": [
    "<h4>Spojenie troch metód, ktoré dosiahli najlepšie výsledky<h4>"
   ]
  },
  {
   "cell_type": "markdown",
   "metadata": {},
   "source": [
    "V tomto poslednom modeli sme využili augmetačné techniky, ktoré dosiahli najlepšie výsledky. Teda sme nepoužili rozšírenie pomocou metódy náhodne vloženie, lebo dosiahla najnižšie zlepšenie. V tomto modely sme postupovali ako v predchádzajúcom. Rozdiel bol len taký, že falošné správy sme strojnásobili."
   ]
  },
  {
   "cell_type": "code",
   "execution_count": 65,
   "metadata": {},
   "outputs": [
    {
     "name": "stdout",
     "output_type": "stream",
     "text": [
      "Spojenie najlepších metód EDA\n",
      "Counter({0: 5618, 1: 460})\n",
      "Counter({0: 5618, 1: 1840})\n"
     ]
    }
   ],
   "source": [
    "print(\"Spojenie najlepších metód EDA\")\n",
    "x_eda=np.concatenate((x_synonym,x_swap,x_del,x_train), axis=0)\n",
    "y_eda=np.concatenate((y_synonym,y_swap,y_del,y_train), axis=0)\n",
    "y_eda= y_eda.astype('int64')\n",
    "\n",
    "print(collections.Counter(y_train))\n",
    "print(collections.Counter(y_eda))"
   ]
  },
  {
   "cell_type": "code",
   "execution_count": 66,
   "metadata": {},
   "outputs": [
    {
     "name": "stdout",
     "output_type": "stream",
     "text": [
      "Tokenizacia\n",
      "Emmbedings matrix....\n",
      "103870\n"
     ]
    },
    {
     "data": {
      "text/plain": [
       "(103870, 300)"
      ]
     },
     "execution_count": 66,
     "metadata": {},
     "output_type": "execute_result"
    }
   ],
   "source": [
    "print(\"Tokenizacia\")\n",
    "tokenizer = Tokenizer()\n",
    "tokenizer.fit_on_texts(x_train)\n",
    "sequences_train = tokenizer.texts_to_sequences(x_eda)\n",
    "sequences_test = tokenizer.texts_to_sequences(x_test)\n",
    "\n",
    "x_train_seq = pad_sequences(sequences_train, maxlen=max_length) \n",
    "x_test_seq = pad_sequences(sequences_test, maxlen=max_length)\n",
    "\n",
    "word_index = tokenizer.word_index\n",
    "print(\"Emmbedings matrix....\")\n",
    "num_words = len(word_index) + 1\n",
    "embedding_matrix = np.zeros((num_words, EMBEDDING_DIM))\n",
    "\n",
    "for word, i in word_index.items():\n",
    "    if i > num_words:\n",
    "        continue\n",
    "    embedding_vector = embeddings_index.get(word)\n",
    "    if embedding_vector is not None:\n",
    "        embedding_matrix[i] = embedding_vector\n",
    "print(num_words)\n",
    "embedding_matrix.shape "
   ]
  },
  {
   "cell_type": "code",
   "execution_count": 67,
   "metadata": {},
   "outputs": [
    {
     "name": "stdout",
     "output_type": "stream",
     "text": [
      "Model: \"sequential_8\"\n",
      "_________________________________________________________________\n",
      "Layer (type)                 Output Shape              Param #   \n",
      "=================================================================\n",
      "embedding_8 (Embedding)      (None, 2500, 300)         31161000  \n",
      "_________________________________________________________________\n",
      "conv1d_16 (Conv1D)           (None, 2500, 64)          19264     \n",
      "_________________________________________________________________\n",
      "max_pooling1d_16 (MaxPooling (None, 1250, 64)          0         \n",
      "_________________________________________________________________\n",
      "conv1d_17 (Conv1D)           (None, 1250, 64)          4160      \n",
      "_________________________________________________________________\n",
      "max_pooling1d_17 (MaxPooling (None, 625, 64)           0         \n",
      "_________________________________________________________________\n",
      "flatten_8 (Flatten)          (None, 40000)             0         \n",
      "_________________________________________________________________\n",
      "dropout_8 (Dropout)          (None, 40000)             0         \n",
      "_________________________________________________________________\n",
      "dense_16 (Dense)             (None, 128)               5120128   \n",
      "_________________________________________________________________\n",
      "dense_17 (Dense)             (None, 1)                 129       \n",
      "=================================================================\n",
      "Total params: 36,304,681\n",
      "Trainable params: 36,304,681\n",
      "Non-trainable params: 0\n",
      "_________________________________________________________________\n",
      "Trénovanie modelu...\n",
      "Epoch 1/5\n",
      "210/210 [==============================] - 137s 646ms/step - loss: 0.5787 - acc: 0.7667 - val_loss: 0.0730 - val_acc: 0.9665\n",
      "\n",
      "Epoch 00001: val_acc improved from -inf to 0.96649, saving model to model_eda3_metody.hdf5\n",
      "Epoch 2/5\n",
      "210/210 [==============================] - 142s 677ms/step - loss: 0.0328 - acc: 0.9905 - val_loss: 0.0504 - val_acc: 0.9893\n",
      "\n",
      "Epoch 00002: val_acc improved from 0.96649 to 0.98928, saving model to model_eda3_metody.hdf5\n",
      "Epoch 3/5\n",
      "210/210 [==============================] - 138s 657ms/step - loss: 0.0078 - acc: 0.9983 - val_loss: 0.0157 - val_acc: 0.9946\n",
      "\n",
      "Epoch 00003: val_acc improved from 0.98928 to 0.99464, saving model to model_eda3_metody.hdf5\n",
      "Epoch 4/5\n",
      "210/210 [==============================] - 141s 671ms/step - loss: 0.0013 - acc: 0.9998 - val_loss: 0.0302 - val_acc: 0.9946\n",
      "\n",
      "Epoch 00004: val_acc did not improve from 0.99464\n",
      "Epoch 5/5\n",
      "210/210 [==============================] - 139s 661ms/step - loss: 7.0388e-04 - acc: 0.9999 - val_loss: 0.0338 - val_acc: 0.9933\n",
      "\n",
      "Epoch 00005: val_acc did not improve from 0.99464\n"
     ]
    }
   ],
   "source": [
    "model_eda = Sequential()\n",
    "e = Embedding(num_words,  EMBEDDING_DIM, weights=[embedding_matrix], input_length=max_length)\n",
    "model_eda.add(e)\n",
    "model_eda.add(Conv1D(filters=64, kernel_size=1, padding='valid', activation='relu'))\n",
    "model_eda.add(MaxPooling1D(2))\n",
    "model_eda.add(Conv1D(filters=64, kernel_size=1, padding='valid', activation='relu'))\n",
    "model_eda.add(MaxPooling1D(2))\n",
    "model_eda.add(Flatten())\n",
    "model_eda.add(Dropout(0.2))\n",
    "model_eda.add(Dense(128, activation='relu'))\n",
    "model_eda.add(Dense(1, activation='sigmoid'))\n",
    "model_eda.compile(loss='binary_crossentropy', optimizer='adam', metrics=['acc'])\n",
    "model_eda.summary()\n",
    "\n",
    "saved_eda = \"model_eda3_metody.hdf5\"\n",
    "checkpoint = ModelCheckpoint(saved_eda, monitor='val_acc', verbose=1, save_best_only=True, mode='max')\n",
    "\n",
    "print('Trénovanie modelu...')\n",
    "history = model_eda.fit(x_train_seq, y_eda,epochs=5, batch_size=32,callbacks=[checkpoint],validation_split=0.1)"
   ]
  },
  {
   "cell_type": "code",
   "execution_count": 68,
   "metadata": {},
   "outputs": [
    {
     "name": "stdout",
     "output_type": "stream",
     "text": [
      "Loading model....\n",
      "Vyhodnotenie...\n",
      "Roc auc skóre je 0.9878038549466222\n",
      "Úspešnosť modelu je 0.9730263157894737\n",
      "              precision    recall  f1-score   support\n",
      "\n",
      "           0       0.98      0.99      0.99      1382\n",
      "           1       0.93      0.76      0.84       138\n",
      "\n",
      "    accuracy                           0.97      1520\n",
      "   macro avg       0.95      0.88      0.91      1520\n",
      "weighted avg       0.97      0.97      0.97      1520\n",
      "\n",
      "[[1374    8]\n",
      " [  33  105]]\n",
      "Počet real/fake v pôvodnej množine\n",
      "Counter({0: 5618, 1: 460})\n",
      "Počet real/fake v rozširenej množine\n",
      "Counter({0: 5618, 1: 1840})\n"
     ]
    }
   ],
   "source": [
    "print(\"Loading model....\")\n",
    "model = load_model('model_eda3_metody.hdf5')\n",
    "print(\"Vyhodnotenie...\")\n",
    "y_pred = model.predict(x_test_seq)\n",
    "print('Roc auc skóre je {}'.format(roc_auc_score(y_test,y_pred)))\n",
    "\n",
    "y_int = np.zeros_like(y_pred)\n",
    "y_int[y_pred > 0.5] = 1\n",
    "print('Úspešnosť modelu je {}'.format(accuracy_score(y_test,y_int)))\n",
    "print(classification_report(y_test, y_int, zero_division=0))\n",
    "print(confusion_matrix(y_test, y_int))\n",
    "\n",
    "print(\"Počet real/fake v pôvodnej množine\")\n",
    "print(collections.Counter(y_train))\n",
    "print(\"Počet real/fake v rozširenej množine\")\n",
    "print(collections.Counter(y_eda))"
   ]
  },
  {
   "cell_type": "markdown",
   "metadata": {},
   "source": [
    "Model dosiahol oproti pôvodnému modelu zlepšenie. Avšak nezlepšil výsledky klasifikácie, až tak ako model vytvorený zo všetkých augmetačncýh metód EDA. Čo môže znamenať, že čím viac rozširujeme triedu falošné správy tým lepšie dostávame výsledky klasifikácie"
   ]
  },
  {
   "cell_type": "code",
   "execution_count": null,
   "metadata": {},
   "outputs": [],
   "source": []
  }
 ],
 "metadata": {
  "kernelspec": {
   "display_name": "Python 3",
   "language": "python",
   "name": "python3"
  },
  "language_info": {
   "codemirror_mode": {
    "name": "ipython",
    "version": 3
   },
   "file_extension": ".py",
   "mimetype": "text/x-python",
   "name": "python",
   "nbconvert_exporter": "python",
   "pygments_lexer": "ipython3",
   "version": "3.8.5"
  }
 },
 "nbformat": 4,
 "nbformat_minor": 4
}
