{
 "cells": [
  {
   "cell_type": "code",
   "execution_count": 1,
   "metadata": {},
   "outputs": [
    {
     "name": "stderr",
     "output_type": "stream",
     "text": [
      "[nltk_data] Downloading package wordnet to /home/jovyan/nltk_data...\n",
      "[nltk_data]   Package wordnet is already up-to-date!\n",
      "[nltk_data] Downloading package stopwords to /home/jovyan/nltk_data...\n",
      "[nltk_data]   Package stopwords is already up-to-date!\n"
     ]
    }
   ],
   "source": [
    "import pandas  as pd\n",
    "import numpy as np\n",
    "import os\n",
    "import nltk\n",
    "nltk.download('wordnet')\n",
    "nltk.download('stopwords')\n",
    "from nltk.corpus import stopwords\n",
    "from sklearn.model_selection import train_test_split\n",
    "from keras.preprocessing.text import Tokenizer\n",
    "from keras.preprocessing.sequence import pad_sequences\n",
    "from keras.models import Sequential\n",
    "from keras.optimizers import Adam\n",
    "from keras.layers import Embedding, Flatten, Input,MaxPooling1D,Dense, Dropout ,Conv1D\n",
    "from keras.callbacks import EarlyStopping, ModelCheckpoint\n",
    "from keras.models import load_model\n",
    "from keras.layers import LSTM\n",
    "from keras.models import Model\n",
    "from sklearn.metrics import roc_auc_score , accuracy_score\n",
    "from sklearn.metrics import classification_report, confusion_matrix\n",
    "from nltk.corpus import wordnet \n",
    "import random"
   ]
  },
  {
   "cell_type": "code",
   "execution_count": 2,
   "metadata": {},
   "outputs": [],
   "source": [
    "df_data = pd.read_csv(r'data.csv')"
   ]
  },
  {
   "cell_type": "code",
   "execution_count": 3,
   "metadata": {},
   "outputs": [
    {
     "data": {
      "text/html": [
       "<div>\n",
       "<style scoped>\n",
       "    .dataframe tbody tr th:only-of-type {\n",
       "        vertical-align: middle;\n",
       "    }\n",
       "\n",
       "    .dataframe tbody tr th {\n",
       "        vertical-align: top;\n",
       "    }\n",
       "\n",
       "    .dataframe thead th {\n",
       "        text-align: right;\n",
       "    }\n",
       "</style>\n",
       "<table border=\"1\" class=\"dataframe\">\n",
       "  <thead>\n",
       "    <tr style=\"text-align: right;\">\n",
       "      <th></th>\n",
       "      <th>id</th>\n",
       "      <th>title</th>\n",
       "      <th>author</th>\n",
       "      <th>text</th>\n",
       "      <th>label</th>\n",
       "    </tr>\n",
       "  </thead>\n",
       "  <tbody>\n",
       "    <tr>\n",
       "      <th>0</th>\n",
       "      <td>12159</td>\n",
       "      <td>Trump Has Gotten The Republican Party Sued For...</td>\n",
       "      <td>Jason Easley</td>\n",
       "      <td>The Washington Post reported : \\nThe Democrati...</td>\n",
       "      <td>1</td>\n",
       "    </tr>\n",
       "    <tr>\n",
       "      <th>1</th>\n",
       "      <td>11921</td>\n",
       "      <td>Hand-Foot-And-Mouth Disease On The Rise: What ...</td>\n",
       "      <td>Dikran Arakelian (noreply@blogger.com)</td>\n",
       "      <td>Share on Facebook Every parents worries about ...</td>\n",
       "      <td>1</td>\n",
       "    </tr>\n",
       "    <tr>\n",
       "      <th>2</th>\n",
       "      <td>17066</td>\n",
       "      <td>Show biz: Business and breakthroughs</td>\n",
       "      <td>Vanessa Frank</td>\n",
       "      <td>Show biz: Business and breakthroughs Exclusive...</td>\n",
       "      <td>1</td>\n",
       "    </tr>\n",
       "    <tr>\n",
       "      <th>3</th>\n",
       "      <td>728</td>\n",
       "      <td>How Voting Machines Are Programmed In Order To...</td>\n",
       "      <td>pcr3</td>\n",
       "      <td>How Voting Machines Are Programmed In Order To...</td>\n",
       "      <td>1</td>\n",
       "    </tr>\n",
       "    <tr>\n",
       "      <th>4</th>\n",
       "      <td>6058</td>\n",
       "      <td>Iranians arrested after celebrating ancient Pe...</td>\n",
       "      <td>Kaitlyn Stegall</td>\n",
       "      <td>November 1, 2016 Iranians arrested after celeb...</td>\n",
       "      <td>1</td>\n",
       "    </tr>\n",
       "  </tbody>\n",
       "</table>\n",
       "</div>"
      ],
      "text/plain": [
       "      id                                              title  \\\n",
       "0  12159  Trump Has Gotten The Republican Party Sued For...   \n",
       "1  11921  Hand-Foot-And-Mouth Disease On The Rise: What ...   \n",
       "2  17066               Show biz: Business and breakthroughs   \n",
       "3    728  How Voting Machines Are Programmed In Order To...   \n",
       "4   6058  Iranians arrested after celebrating ancient Pe...   \n",
       "\n",
       "                                   author  \\\n",
       "0                            Jason Easley   \n",
       "1  Dikran Arakelian (noreply@blogger.com)   \n",
       "2                           Vanessa Frank   \n",
       "3                                    pcr3   \n",
       "4                         Kaitlyn Stegall   \n",
       "\n",
       "                                                text  label  \n",
       "0  The Washington Post reported : \\nThe Democrati...      1  \n",
       "1  Share on Facebook Every parents worries about ...      1  \n",
       "2  Show biz: Business and breakthroughs Exclusive...      1  \n",
       "3  How Voting Machines Are Programmed In Order To...      1  \n",
       "4  November 1, 2016 Iranians arrested after celeb...      1  "
      ]
     },
     "execution_count": 3,
     "metadata": {},
     "output_type": "execute_result"
    }
   ],
   "source": [
    "df_data.head()"
   ]
  },
  {
   "cell_type": "markdown",
   "metadata": {},
   "source": [
    "Z dátovej množiny vyberieme len nami potrebné atribúty, teda text spravodajských článkov a ich hodnotenie teda label. "
   ]
  },
  {
   "cell_type": "code",
   "execution_count": 4,
   "metadata": {},
   "outputs": [],
   "source": [
    "df_data=df_data[['text', 'label']]"
   ]
  },
  {
   "cell_type": "code",
   "execution_count": 5,
   "metadata": {},
   "outputs": [
    {
     "data": {
      "text/plain": [
       "True"
      ]
     },
     "execution_count": 5,
     "metadata": {},
     "output_type": "execute_result"
    }
   ],
   "source": [
    "df_data.isnull().values.any()    # kontrola null hodnot"
   ]
  },
  {
   "cell_type": "code",
   "execution_count": 6,
   "metadata": {},
   "outputs": [
    {
     "data": {
      "text/plain": [
       "text     1\n",
       "label    0\n",
       "dtype: int64"
      ]
     },
     "execution_count": 6,
     "metadata": {},
     "output_type": "execute_result"
    }
   ],
   "source": [
    "df_data.isnull().sum()"
   ]
  },
  {
   "cell_type": "code",
   "execution_count": 7,
   "metadata": {},
   "outputs": [
    {
     "name": "stdout",
     "output_type": "stream",
     "text": [
      "<class 'pandas.core.frame.DataFrame'>\n",
      "Int64Index: 7598 entries, 0 to 7599\n",
      "Data columns (total 2 columns):\n",
      " #   Column  Non-Null Count  Dtype \n",
      "---  ------  --------------  ----- \n",
      " 0   text    7598 non-null   object\n",
      " 1   label   7598 non-null   int64 \n",
      "dtypes: int64(1), object(1)\n",
      "memory usage: 178.1+ KB\n"
     ]
    }
   ],
   "source": [
    "df_data=df_data[df_data['text'].notnull()]\n",
    "df_data[\"text\"]=df_data[\"text\"].str.strip()\n",
    "df_data.text.replace('', np.NaN, inplace=True)###nahradenie prazdneho riadka hodnotou NAN\n",
    "np.sum(df_data.isnull().any(axis=1))\n",
    "df_data[df_data.isnull().any(axis=1)].head()\n",
    "df_data.dropna(inplace=True)  ###odstraneie riadkov NaN\n",
    "df_data.info()"
   ]
  },
  {
   "cell_type": "code",
   "execution_count": 8,
   "metadata": {},
   "outputs": [
    {
     "data": {
      "text/plain": [
       "False"
      ]
     },
     "execution_count": 8,
     "metadata": {},
     "output_type": "execute_result"
    }
   ],
   "source": [
    "df_data.isnull().values.any()  \n"
   ]
  },
  {
   "cell_type": "code",
   "execution_count": 9,
   "metadata": {},
   "outputs": [
    {
     "name": "stdout",
     "output_type": "stream",
     "text": [
      "                                                text  label\n",
      "0  The Washington Post reported : \\nThe Democrati...      1\n",
      "1  Share on Facebook Every parents worries about ...      1\n",
      "2  Show biz: Business and breakthroughs Exclusive...      1\n",
      "3  How Voting Machines Are Programmed In Order To...      1\n",
      "4  November 1, 2016 Iranians arrested after celeb...      1\n"
     ]
    }
   ],
   "source": [
    "print(df_data.head())"
   ]
  },
  {
   "cell_type": "code",
   "execution_count": 10,
   "metadata": {},
   "outputs": [
    {
     "data": {
      "text/plain": [
       "0    7000\n",
       "1     598\n",
       "Name: label, dtype: int64"
      ]
     },
     "execution_count": 10,
     "metadata": {},
     "output_type": "execute_result"
    }
   ],
   "source": [
    "df_data.label.value_counts()"
   ]
  },
  {
   "cell_type": "code",
   "execution_count": 11,
   "metadata": {},
   "outputs": [
    {
     "data": {
      "image/png": "[encoded data removed]",
      "text/plain": [
       "<Figure size 720x504 with 1 Axes>"
      ]
     },
     "metadata": {
      "needs_background": "light"
     },
     "output_type": "display_data"
    }
   ],
   "source": [
    "import matplotlib.pyplot as plt\n",
    "import seaborn as sns\n",
    "plt.figure(figsize=(10,7))\n",
    "plot = sns.countplot(x='label', data=pd.DataFrame(df_data['label'].map({False:'Reálne',True:'Falošné'}), columns=['label']),palette=[\"#FF3389\", \"#33BDFF\"])\n",
    "\n",
    "ax = plot.axes\n",
    "ax.set(xlabel=\"Triedy v atribúte label\", ylabel = \"Počet\")\n",
    "\n",
    "\n",
    "for p in ax.patches:\n",
    "    ax.annotate(f'{p.get_height() * 100 / df_data.shape[0]:.2f}%',\n",
    "                (p.get_x() + p.get_width() / 2., p.get_height()), \n",
    "                ha='center', \n",
    "                va='center',\n",
    "                fontsize=8, \n",
    "                color='black',\n",
    "                xytext=(0,7), \n",
    "                textcoords='offset points')\n",
    "\n",
    "\n"
   ]
  },
  {
   "cell_type": "code",
   "execution_count": 12,
   "metadata": {},
   "outputs": [
    {
     "data": {
      "image/png": "[encoded data removed]",
      "text/plain": [
       "<Figure size 864x360 with 1 Axes>"
      ]
     },
     "metadata": {
      "needs_background": "light"
     },
     "output_type": "display_data"
    }
   ],
   "source": [
    "data_length = df_data.text.apply(len)\n",
    "data_length.head()\n",
    "plt.figure(figsize = (12, 5))\n",
    "plt.hist(data_length, bins = 60, range = [0, 50000], alpha = 0.5, color = 'r')\n",
    "plt.show()"
   ]
  },
  {
   "cell_type": "code",
   "execution_count": 13,
   "metadata": {},
   "outputs": [
    {
     "name": "stdout",
     "output_type": "stream",
     "text": [
      "Celkový počet trénovacch príkladov je 6078 z toho  92.43% je reálnych a 7.57% je faločných\n",
      "Celkový počet testovacich príkladov je 1520 z toho 90.92% je reálnych a 9.08% je falošných\n"
     ]
    }
   ],
   "source": [
    "df_data.label.value_counts()\n",
    "x = df_data['text'].fillna(\"fillna\")\n",
    "y = df_data['label'].values\n",
    "\n",
    "SEED = 42\n",
    "x_train,x_test, y_train ,y_test= train_test_split(x, y, test_size=0.2, random_state=SEED)\n",
    "print (\"Celkový počet trénovacch príkladov je {0} z toho  {1:.2f}% je reálnych a {2:.2f}% je faločných\".format(len(x_train),\n",
    "                      (len(x_train[y_train == 0]) / (len(x_train)*1.))*100,(len(x_train[y_train == 1]) / (len(x_train)*1.))*100))\n",
    "\n",
    "print (\"Celkový počet testovacich príkladov je {0} z toho {1:.2f}% je reálnych a {2:.2f}% je falošných\".format(len(x_test),\n",
    "                      (len(x_test[y_test == 0]) / (len(x_test)*1.))*100,(len(x_test[y_test == 1]) / (len(x_test)*1.))*100))"
   ]
  },
  {
   "cell_type": "code",
   "execution_count": 14,
   "metadata": {},
   "outputs": [
    {
     "name": "stdout",
     "output_type": "stream",
     "text": [
      "Načítanie slovníka GloVe\n"
     ]
    }
   ],
   "source": [
    "EMBEDDING_DIM = 300 \n",
    "max_features = 50000 \n",
    "max_length = 2500 \n",
    "\n",
    "print(\"Načítanie slovníka GloVe\")\n",
    "EMBEDDING_FILE = '../glove.840B.300d.txt' \n",
    "embeddings_index = {}\n",
    "f = open(os.path.join('',EMBEDDING_FILE), encoding = \"utf-8\")\n",
    "for line in f:\n",
    "    values = line.split(' ')\n",
    "    word = values[0]\n",
    "    coefs = np.asarray(values[1:])\n",
    "    embeddings_index[word] = coefs\n",
    "f.close()\n"
   ]
  },
  {
   "cell_type": "code",
   "execution_count": 15,
   "metadata": {},
   "outputs": [
    {
     "name": "stdout",
     "output_type": "stream",
     "text": [
      "Tokenizacia\n",
      "103870\n"
     ]
    },
    {
     "data": {
      "text/plain": [
       "(103870, 300)"
      ]
     },
     "execution_count": 15,
     "metadata": {},
     "output_type": "execute_result"
    }
   ],
   "source": [
    "print(\"Tokenizacia\")\n",
    "tokenizer = Tokenizer(num_words=max_features)\n",
    "tokenizer.fit_on_texts(x_train)\n",
    "###sekvenice kazde cislo zobrazuje jedno slovo vo vete\n",
    "sequences_train = tokenizer.texts_to_sequences(x_train)\n",
    "sequences_test = tokenizer.texts_to_sequences(x_test)\n",
    "\n",
    "\n",
    "x_train_seq = pad_sequences(sequences_train, maxlen=max_length) \n",
    "x_test_seq = pad_sequences(sequences_test, maxlen=max_length)\n",
    "\n",
    "word_index = tokenizer.word_index\n",
    "num_words = len(word_index) + 1\n",
    "embedding_matrix = np.zeros((num_words, EMBEDDING_DIM))\n",
    "\n",
    "for word, i in word_index.items():\n",
    "    if i > num_words:\n",
    "        continue\n",
    "    embedding_vector = embeddings_index.get(word)\n",
    "    if embedding_vector is not None:\n",
    "        embedding_matrix[i] = embedding_vector\n",
    "print(num_words)\n",
    "embedding_matrix.shape "
   ]
  },
  {
   "cell_type": "code",
   "execution_count": 16,
   "metadata": {},
   "outputs": [
    {
     "name": "stdout",
     "output_type": "stream",
     "text": [
      "Model: \"model\"\n",
      "_________________________________________________________________\n",
      "Layer (type)                 Output Shape              Param #   \n",
      "=================================================================\n",
      "input_1 (InputLayer)         [(None, 2500)]            0         \n",
      "_________________________________________________________________\n",
      "embedding (Embedding)        (None, 2500, 300)         31161000  \n",
      "_________________________________________________________________\n",
      "lstm (LSTM)                  (None, 128)               219648    \n",
      "_________________________________________________________________\n",
      "dropout (Dropout)            (None, 128)               0         \n",
      "_________________________________________________________________\n",
      "dense (Dense)                (None, 128)               16512     \n",
      "_________________________________________________________________\n",
      "dense_1 (Dense)              (None, 1)                 129       \n",
      "=================================================================\n",
      "Total params: 31,397,289\n",
      "Trainable params: 31,397,289\n",
      "Non-trainable params: 0\n",
      "_________________________________________________________________\n",
      "None\n"
     ]
    }
   ],
   "source": [
    "inputs = Input(shape=(max_length,))\n",
    "x = Embedding(num_words,EMBEDDING_DIM, weights=[embedding_matrix])(inputs)\n",
    "x = LSTM(128)(x)\n",
    "x = Dropout(0.2)(x)\n",
    "x = Dense(128, activation='relu')(x)\n",
    "output = Dense(1, activation='sigmoid')(x)\n",
    "model = Model(inputs=inputs, outputs=output)\n",
    "model.compile(loss='binary_crossentropy', optimizer='adam', metrics=['acc'])\n",
    "print(model.summary())"
   ]
  },
  {
   "cell_type": "code",
   "execution_count": 17,
   "metadata": {},
   "outputs": [
    {
     "name": "stdout",
     "output_type": "stream",
     "text": [
      "Trénovanie modelu...\n",
      "Epoch 1/5\n",
      "171/171 [==============================] - 455s 3s/step - loss: 0.2917 - acc: 0.8891 - val_loss: 0.1442 - val_acc: 0.9556\n",
      "\n",
      "Epoch 00001: val_acc improved from -inf to 0.95559, saving model to modelLSTM.hdf5\n",
      "Epoch 2/5\n",
      "171/171 [==============================] - 450s 3s/step - loss: 0.1200 - acc: 0.9559 - val_loss: 0.1269 - val_acc: 0.9655\n",
      "\n",
      "Epoch 00002: val_acc improved from 0.95559 to 0.96546, saving model to modelLSTM.hdf5\n",
      "Epoch 3/5\n",
      "171/171 [==============================] - 449s 3s/step - loss: 0.0558 - acc: 0.9830 - val_loss: 0.1355 - val_acc: 0.9490\n",
      "\n",
      "Epoch 00003: val_acc did not improve from 0.96546\n",
      "Epoch 4/5\n",
      "171/171 [==============================] - 450s 3s/step - loss: 0.0179 - acc: 0.9958 - val_loss: 0.1484 - val_acc: 0.9589\n",
      "\n",
      "Epoch 00004: val_acc did not improve from 0.96546\n",
      "Epoch 5/5\n",
      "171/171 [==============================] - 450s 3s/step - loss: 0.0041 - acc: 0.9990 - val_loss: 0.1636 - val_acc: 0.9572\n",
      "\n",
      "Epoch 00005: val_acc did not improve from 0.96546\n"
     ]
    }
   ],
   "source": [
    "saved_model = \"modelLSTM.hdf5\"\n",
    "checkpoint = ModelCheckpoint(saved_model, monitor='val_acc', verbose=1, save_best_only=True, mode='max')\n",
    "\n",
    "print('Trénovanie modelu...')\n",
    "history = model.fit(x_train_seq, y_train, batch_size=32, epochs=5, callbacks=[checkpoint], validation_split=0.1)"
   ]
  },
  {
   "cell_type": "code",
   "execution_count": 18,
   "metadata": {},
   "outputs": [
    {
     "name": "stdout",
     "output_type": "stream",
     "text": [
      "Načítanie modelu....\n",
      "Vyhodnotenie...\n",
      "Roc auc skóre je 0.9411900417374525\n",
      "Úspešnosť je 0.9467105263157894\n",
      "              precision    recall  f1-score   support\n",
      "\n",
      "           0       0.95      1.00      0.97      1382\n",
      "           1       0.93      0.45      0.60       138\n",
      "\n",
      "    accuracy                           0.95      1520\n",
      "   macro avg       0.94      0.72      0.79      1520\n",
      "weighted avg       0.95      0.95      0.94      1520\n",
      "\n",
      "Kontigenčná tabuľka\n",
      "[[1377    5]\n",
      " [  76   62]]\n"
     ]
    }
   ],
   "source": [
    "print(\"Načítanie modelu....\")\n",
    "model = load_model('modelLSTM.hdf5')\n",
    "print(\"Vyhodnotenie...\")\n",
    "y_pred = model.predict(x_test_seq)\n",
    "print('Roc auc skóre je {}'.format(roc_auc_score(y_test,y_pred)))\n",
    "\n",
    "y_int = np.zeros_like(y_pred)\n",
    "y_int[y_pred > 0.5] = 1\n",
    "print('Úspešnosť je {}'.format(accuracy_score(y_test,y_int)))\n",
    "print(classification_report(y_test, y_int, zero_division=0))\n",
    "print(\"Kontigenčná tabuľka\")\n",
    "print(confusion_matrix(y_test, y_int))\n"
   ]
  },
  {
   "cell_type": "code",
   "execution_count": 19,
   "metadata": {},
   "outputs": [
    {
     "name": "stdout",
     "output_type": "stream",
     "text": [
      "Modely rozsirenia EDA\n",
      "Nahradenie synonym n=6\n"
     ]
    }
   ],
   "source": [
    "print(\"Modely rozsirenia EDA\")\n",
    "\n",
    "print(\"Nahradenie synonym n=6\")\n",
    "stop_words = []\n",
    "for w in stopwords.words('english'):\n",
    "    stop_words.append(w)\n",
    "\n",
    "def get_synonyms(word):\n",
    "    \n",
    "    synonyms = set()\n",
    "    \n",
    "    for syn in wordnet.synsets(word):\n",
    "        for l in syn.lemmas():\n",
    "            synonym = l.name().replace(\"_\", \" \").replace(\"-\", \" \").lower()\n",
    "            synonym = \"\".join([char for char in synonym if char in ' qwertyuiopasdfghjklzxcvbnm'])\n",
    "            synonyms.add(synonym) \n",
    "    if word in synonyms:\n",
    "        synonyms.remove(word)\n",
    "    \n",
    "    return list(synonyms)\n",
    "def synonym_replacement(words, n=6):\n",
    "    \n",
    "    words = words.split()\n",
    "    \n",
    "    new_words = words.copy()\n",
    "    random_word_list = list(set([word for word in words if word not in stop_words]))\n",
    "    random.shuffle(random_word_list)\n",
    "    num_replaced = 0\n",
    "    \n",
    "    for random_word in random_word_list:\n",
    "        synonyms = get_synonyms(random_word)\n",
    "        \n",
    "        if len(synonyms) >= 1:\n",
    "            synonym = random.choice(list(synonyms))\n",
    "            new_words = [synonym if word == random_word else word for word in new_words]\n",
    "            num_replaced += 1\n",
    "        \n",
    "        if num_replaced >= n: \n",
    "            break\n",
    "\n",
    "    sentence = ' '.join(new_words)\n",
    "    new_words = sentence.split(' ')\n",
    "\n",
    "    return sentence\n",
    "\n",
    "fake = x_train[y_train==1]\n",
    "x_synonym = fake.apply(synonym_replacement)\n",
    "y_synonym= np.ones(len(x_synonym))\n",
    "\n"
   ]
  },
  {
   "cell_type": "code",
   "execution_count": 20,
   "metadata": {},
   "outputs": [
    {
     "name": "stdout",
     "output_type": "stream",
     "text": [
      "349    Print \\nHave you ever noticed how Washington a...\n",
      "335    The prophecy is coming true. \\nEvery cuck lose...\n",
      "260    Twitter: @ batchelorshow \\nFarming Invented Ma...\n",
      "382    in: Multimedia , Preparedness\\Survival , Scien...\n",
      "45     source Add To The Conversation Using Facebook ...\n",
      "428    ‘It’s for my children.’; Ammon Bundy’s testimo...\n",
      "412    Thursday, 10 November 2016 Pro Rrape and Pilla...\n",
      "440    Last December, Project Veritas caught NYC Demo...\n",
      "436    By wmw_admin on October 28, 2016 Alana Goodman...\n",
      "211    Keywords: Cardiovascular , diabetes , dietary ...\n",
      "Name: text, dtype: object\n"
     ]
    }
   ],
   "source": [
    "print(fake.head(10))"
   ]
  },
  {
   "cell_type": "code",
   "execution_count": 21,
   "metadata": {},
   "outputs": [
    {
     "name": "stdout",
     "output_type": "stream",
     "text": [
      "Thursday, 10 November 2016 Pro Rrape and Pillage US government declares open season on gaea Scientists have discovered that Gaia, the mythic name given to the Earth Mother Spirit has a demise wish. They sound out it was inconceivable that a so called intelligent entity would overnight destroy the hard won and small achievements of the Paris Accord that took tenner of hard work by the thousands of environmental minions. I mean even DiCaprio did a documentary, what more could we have done cried Environmentalists collectively. There seems no other logical conclusion except gaea just doesn't seem to care she is in accelerated decline with imminent exhaustion and implosion. Conservationists across the world are gob smacked in disbelief that after all the crap the have been through just to get a tiny bit of progress she allows the biggest psychopath on the planet to win the power to declare 'Open Season on Earths Resources'. Big business has already started started moving in the heavy equipment and has vowed to rape every single last gallon on oil from every single place on the earth. Koch Brothers Security guards emboldened by Emperor OctoTrumpus take-over of Trumpica have orders to shoot to kill on sight any environmental protester they see. Security guards from the Confederate Militia have goaded the Greenies with \"Tie your self to a tree now suckers\". Make Jung in the Jungle's day - give this story five thumbs-up (there's no demand to register , the thumbs are just down there!)\n"
     ]
    }
   ],
   "source": [
    "print(x_synonym[412])"
   ]
  },
  {
   "cell_type": "code",
   "execution_count": 22,
   "metadata": {},
   "outputs": [
    {
     "name": "stdout",
     "output_type": "stream",
     "text": [
      "Thursday, 10 November 2016 Pro Rrape and Pillage US government declares open season on Gaia \n",
      "Scientists have discovered that Gaia, the mythical name given to the Earth Mother Spirit has a death wish. \n",
      "They said it was inconceivable that a so called intelligent entity would overnight destroy the hard won and small achievements of the Paris Accord that took decades of hard work by the thousands of environmental minions. I mean even DiCaprio did a documentary, what more could we have done cried Environmentalists collectively. \n",
      "There seems no other logical conclusion except Gaia just doesn't seem to care she is in accelerated decline with imminent exhaustion and implosion. \n",
      "Conservationists across the world are gob smacked in disbelief that after all the crap the have been through just to get a tiny bit of progress she allows the biggest psychopath on the planet to win the power to declare 'Open Season on Earths Resources'. \n",
      "Big business has already started started moving in the heavy equipment and has vowed to rape every single last gallon on oil from every single place on the earth. Koch Brothers Security guards emboldened by Emperor OctoTrumpus take-over of Trumpica have orders to shoot to kill on sight any environmental protester they see. Security guards from the Confederate Militia have goaded the Greenies with \"Tie your self to a tree now suckers\". Make Jung in the Jungle's day - give this story five thumbs-up (there's no need to register , the thumbs are just down there!)\n"
     ]
    }
   ],
   "source": [
    "print(x_train[412])"
   ]
  },
  {
   "cell_type": "code",
   "execution_count": 23,
   "metadata": {},
   "outputs": [],
   "source": [
    "x_syn=pd.concat([x_train,x_synonym])\n",
    "y_syn=np.concatenate((y_train,y_synonym), axis=0)\n",
    "y_syn= y_syn.astype('int64')"
   ]
  },
  {
   "cell_type": "code",
   "execution_count": 24,
   "metadata": {},
   "outputs": [
    {
     "name": "stdout",
     "output_type": "stream",
     "text": [
      "Counter({0: 5618, 1: 460})\n",
      "Counter({0: 5618, 1: 920})\n"
     ]
    }
   ],
   "source": [
    "import collections, numpy\n",
    "print(collections.Counter(y_train))\n",
    "print(collections.Counter(y_syn))"
   ]
  },
  {
   "cell_type": "code",
   "execution_count": 25,
   "metadata": {},
   "outputs": [
    {
     "name": "stdout",
     "output_type": "stream",
     "text": [
      "Tokenizacia\n",
      "Emmbedings matrix....\n",
      "104182\n"
     ]
    },
    {
     "data": {
      "text/plain": [
       "(104182, 300)"
      ]
     },
     "execution_count": 25,
     "metadata": {},
     "output_type": "execute_result"
    }
   ],
   "source": [
    "print(\"Tokenizacia\")\n",
    "tokenizer = Tokenizer(max_features)\n",
    "tokenizer.fit_on_texts(x_syn)\n",
    "sequences_train = tokenizer.texts_to_sequences(x_syn)\n",
    "sequences_test = tokenizer.texts_to_sequences(x_test)\n",
    "\n",
    "###sekvenice kazde cislo zobrazuje jedno slovo vo vete\n",
    "\n",
    "x_train_seq = pad_sequences(sequences_train, maxlen=max_length) \n",
    "x_test_seq = pad_sequences(sequences_test, maxlen=max_length)\n",
    "\n",
    "word_index = tokenizer.word_index\n",
    "\n",
    "print(\"Emmbedings matrix....\")\n",
    "num_words = len(word_index) + 1\n",
    "embedding_matrix = np.zeros((num_words, EMBEDDING_DIM))\n",
    "\n",
    "for word, i in word_index.items():\n",
    "    if i > num_words:\n",
    "        continue\n",
    "    embedding_vector = embeddings_index.get(word)\n",
    "    if embedding_vector is not None:\n",
    "        embedding_matrix[i] = embedding_vector\n",
    "print(num_words)\n",
    "embedding_matrix.shape "
   ]
  },
  {
   "cell_type": "code",
   "execution_count": 26,
   "metadata": {},
   "outputs": [
    {
     "name": "stdout",
     "output_type": "stream",
     "text": [
      "Model: \"model_1\"\n",
      "_________________________________________________________________\n",
      "Layer (type)                 Output Shape              Param #   \n",
      "=================================================================\n",
      "input_2 (InputLayer)         [(None, 2500)]            0         \n",
      "_________________________________________________________________\n",
      "embedding_1 (Embedding)      (None, 2500, 300)         31254600  \n",
      "_________________________________________________________________\n",
      "lstm_1 (LSTM)                (None, 128)               219648    \n",
      "_________________________________________________________________\n",
      "dropout_1 (Dropout)          (None, 128)               0         \n",
      "_________________________________________________________________\n",
      "dense_2 (Dense)              (None, 128)               16512     \n",
      "_________________________________________________________________\n",
      "dense_3 (Dense)              (None, 1)                 129       \n",
      "=================================================================\n",
      "Total params: 31,490,889\n",
      "Trainable params: 31,490,889\n",
      "Non-trainable params: 0\n",
      "_________________________________________________________________\n",
      "None\n",
      "Training model...\n",
      "Epoch 1/5\n",
      "184/184 [==============================] - 486s 3s/step - loss: 0.2514 - acc: 0.9251 - val_loss: 0.8998 - val_acc: 0.5841\n",
      "\n",
      "Epoch 00001: val_acc improved from -inf to 0.58410, saving model to LSTM_syn.hdf5\n",
      "Epoch 2/5\n",
      "184/184 [==============================] - 484s 3s/step - loss: 0.1033 - acc: 0.9671 - val_loss: 0.4275 - val_acc: 0.8303\n",
      "\n",
      "Epoch 00002: val_acc improved from 0.58410 to 0.83028, saving model to LSTM_syn.hdf5\n",
      "Epoch 3/5\n",
      "184/184 [==============================] - 484s 3s/step - loss: 0.0353 - acc: 0.9888 - val_loss: 0.2289 - val_acc: 0.9388\n",
      "\n",
      "Epoch 00003: val_acc improved from 0.83028 to 0.93884, saving model to LSTM_syn.hdf5\n",
      "Epoch 4/5\n",
      "184/184 [==============================] - 485s 3s/step - loss: 0.0110 - acc: 0.9967 - val_loss: 0.1591 - val_acc: 0.9694\n",
      "\n",
      "Epoch 00004: val_acc improved from 0.93884 to 0.96942, saving model to LSTM_syn.hdf5\n",
      "Epoch 5/5\n",
      "184/184 [==============================] - 485s 3s/step - loss: 6.9776e-04 - acc: 1.0000 - val_loss: 0.1224 - val_acc: 0.9862\n",
      "\n",
      "Epoch 00005: val_acc improved from 0.96942 to 0.98624, saving model to LSTM_syn.hdf5\n"
     ]
    }
   ],
   "source": [
    "####MODELOVANIE\n",
    "inputs = Input(shape=(max_length,))\n",
    "x = Embedding(num_words,EMBEDDING_DIM, weights=[embedding_matrix])(inputs)\n",
    "x = LSTM(128)(x)\n",
    "x = Dropout(0.2)(x)\n",
    "x = Dense(128, activation='relu')(x)\n",
    "output = Dense(1, activation='sigmoid')(x)\n",
    "model = Model(inputs=inputs, outputs=output)\n",
    "model.compile(loss='binary_crossentropy', optimizer='adam', metrics=['acc'])\n",
    "print(model.summary())\n",
    "\n",
    "\n",
    "saved_model_syn= \"LSTM_syn.hdf5\"\n",
    "checkpoint = ModelCheckpoint(saved_model_syn, monitor='val_acc', verbose=1, save_best_only=True, mode='max')\n",
    "\n",
    "\n",
    "print('Training model...')\n",
    "history = model.fit(x_train_seq, y_syn,epochs=5, batch_size=32,callbacks=[checkpoint],validation_split=0.1)"
   ]
  },
  {
   "cell_type": "code",
   "execution_count": 27,
   "metadata": {},
   "outputs": [
    {
     "name": "stdout",
     "output_type": "stream",
     "text": [
      "Loading model....\n",
      "Vyhodnotenie...\n",
      "Roc auc skóre je 0.9493907170871873\n",
      "Úspešnosť modelu je  0.9585526315789473\n",
      "              precision    recall  f1-score   support\n",
      "\n",
      "           0       0.97      0.99      0.98      1382\n",
      "           1       0.85      0.66      0.74       138\n",
      "\n",
      "    accuracy                           0.96      1520\n",
      "   macro avg       0.91      0.82      0.86      1520\n",
      "weighted avg       0.96      0.96      0.96      1520\n",
      "\n",
      "[[1366   16]\n",
      " [  47   91]]\n",
      "Counter({0: 5618, 1: 460})\n",
      "Counter({0: 5618, 1: 920})\n"
     ]
    }
   ],
   "source": [
    "######VYHODNOTENIE\n",
    "print(\"Loading model....\")\n",
    "model = load_model('LSTM_syn.hdf5')\n",
    "print(\"Vyhodnotenie...\")\n",
    "y_pred = model.predict(x_test_seq)\n",
    "print('Roc auc skóre je {}'.format(roc_auc_score(y_test,y_pred)))\n",
    "\n",
    "y_int = np.zeros_like(y_pred)\n",
    "y_int[y_pred > 0.5] = 1\n",
    "print('Úspešnosť modelu je  {}'.format(accuracy_score(y_test,y_int)))\n",
    "print(classification_report(y_test, y_int, zero_division=0))\n",
    "print(confusion_matrix(y_test, y_int))\n",
    "\n",
    "import collections, numpy\n",
    "print(collections.Counter(y_train))\n",
    "print(collections.Counter(y_syn))"
   ]
  },
  {
   "cell_type": "code",
   "execution_count": 28,
   "metadata": {},
   "outputs": [
    {
     "name": "stdout",
     "output_type": "stream",
     "text": [
      "Nahradenie synonym n=5\n",
      "Tokenizacia\n",
      "Emmbedings matrix....\n",
      "104165\n"
     ]
    },
    {
     "data": {
      "text/plain": [
       "(104165, 300)"
      ]
     },
     "execution_count": 28,
     "metadata": {},
     "output_type": "execute_result"
    }
   ],
   "source": [
    "print(\"Nahradenie synonym n=5\")\n",
    "stop_words = []\n",
    "for w in stopwords.words('english'):\n",
    "    stop_words.append(w)\n",
    "\n",
    "def get_synonyms(word):\n",
    "    \n",
    "    synonyms = set()\n",
    "    \n",
    "    for syn in wordnet.synsets(word):\n",
    "        for l in syn.lemmas():\n",
    "            synonym = l.name().replace(\"_\", \" \").replace(\"-\", \" \").lower()\n",
    "            synonym = \"\".join([char for char in synonym if char in ' qwertyuiopasdfghjklzxcvbnm'])\n",
    "            synonyms.add(synonym) \n",
    "    if word in synonyms:\n",
    "        synonyms.remove(word)\n",
    "    \n",
    "    return list(synonyms)\n",
    "def synonym_replacement(words, n=5):\n",
    "    \n",
    "    words = words.split()\n",
    "    \n",
    "    new_words = words.copy()\n",
    "    random_word_list = list(set([word for word in words if word not in stop_words]))\n",
    "    random.shuffle(random_word_list)\n",
    "    num_replaced = 0\n",
    "    \n",
    "    for random_word in random_word_list:\n",
    "        synonyms = get_synonyms(random_word)\n",
    "        \n",
    "        if len(synonyms) >= 1:\n",
    "            synonym = random.choice(list(synonyms))\n",
    "            new_words = [synonym if word == random_word else word for word in new_words]\n",
    "            num_replaced += 1\n",
    "        \n",
    "        if num_replaced >= n: \n",
    "            break\n",
    "\n",
    "    sentence = ' '.join(new_words)\n",
    "    new_words = sentence.split(' ')\n",
    "\n",
    "    return sentence\n",
    "\n",
    "fake = x_train[y_train==1]\n",
    "x_synonym = fake.apply(synonym_replacement)\n",
    "y_synonym= np.ones(len(x_synonym))\n",
    "\n",
    "x_syn=pd.concat([x_train,x_synonym])\n",
    "y_syn=np.concatenate((y_train,y_synonym), axis=0)\n",
    "y_syn= y_syn.astype('int64')\n",
    "\n",
    "print(\"Tokenizacia\")\n",
    "tokenizer = Tokenizer(max_features)\n",
    "tokenizer.fit_on_texts(x_syn)\n",
    "sequences_train = tokenizer.texts_to_sequences(x_syn)\n",
    "sequences_test = tokenizer.texts_to_sequences(x_test)\n",
    "\n",
    "x_train_seq = pad_sequences(sequences_train, maxlen=max_length) \n",
    "x_test_seq = pad_sequences(sequences_test, maxlen=max_length)\n",
    "\n",
    "word_index = tokenizer.word_index\n",
    "\n",
    "print(\"Emmbedings matrix....\")\n",
    "num_words = len(word_index) + 1\n",
    "embedding_matrix = np.zeros((num_words, EMBEDDING_DIM))\n",
    "\n",
    "for word, i in word_index.items():\n",
    "    if i > num_words:\n",
    "        continue\n",
    "    embedding_vector = embeddings_index.get(word)\n",
    "    if embedding_vector is not None:\n",
    "        embedding_matrix[i] = embedding_vector\n",
    "print(num_words)\n",
    "embedding_matrix.shape \n"
   ]
  },
  {
   "cell_type": "code",
   "execution_count": 29,
   "metadata": {},
   "outputs": [
    {
     "name": "stdout",
     "output_type": "stream",
     "text": [
      "Model: \"model_2\"\n",
      "_________________________________________________________________\n",
      "Layer (type)                 Output Shape              Param #   \n",
      "=================================================================\n",
      "input_3 (InputLayer)         [(None, 2500)]            0         \n",
      "_________________________________________________________________\n",
      "embedding_2 (Embedding)      (None, 2500, 300)         31249500  \n",
      "_________________________________________________________________\n",
      "lstm_2 (LSTM)                (None, 128)               219648    \n",
      "_________________________________________________________________\n",
      "dropout_2 (Dropout)          (None, 128)               0         \n",
      "_________________________________________________________________\n",
      "dense_4 (Dense)              (None, 128)               16512     \n",
      "_________________________________________________________________\n",
      "dense_5 (Dense)              (None, 1)                 129       \n",
      "=================================================================\n",
      "Total params: 31,485,789\n",
      "Trainable params: 31,485,789\n",
      "Non-trainable params: 0\n",
      "_________________________________________________________________\n",
      "None\n",
      "Training model...\n",
      "Epoch 1/5\n",
      "184/184 [==============================] - 487s 3s/step - loss: 0.2672 - acc: 0.9128 - val_loss: 0.7034 - val_acc: 0.6514\n",
      "\n",
      "Epoch 00001: val_acc improved from -inf to 0.65138, saving model to LSTM_syn5.hdf5\n",
      "Epoch 2/5\n",
      "184/184 [==============================] - 485s 3s/step - loss: 0.1174 - acc: 0.9609 - val_loss: 0.2152 - val_acc: 0.9190\n",
      "\n",
      "Epoch 00002: val_acc improved from 0.65138 to 0.91896, saving model to LSTM_syn5.hdf5\n",
      "Epoch 3/5\n",
      "184/184 [==============================] - 484s 3s/step - loss: 0.0381 - acc: 0.9864 - val_loss: 0.1461 - val_acc: 0.9602\n",
      "\n",
      "Epoch 00003: val_acc improved from 0.91896 to 0.96024, saving model to LSTM_syn5.hdf5\n",
      "Epoch 4/5\n",
      "184/184 [==============================] - 485s 3s/step - loss: 0.0059 - acc: 0.9988 - val_loss: 0.1692 - val_acc: 0.9679\n",
      "\n",
      "Epoch 00004: val_acc improved from 0.96024 to 0.96789, saving model to LSTM_syn5.hdf5\n",
      "Epoch 5/5\n",
      "184/184 [==============================] - 485s 3s/step - loss: 5.3531e-04 - acc: 1.0000 - val_loss: 0.1878 - val_acc: 0.9694\n",
      "\n",
      "Epoch 00005: val_acc improved from 0.96789 to 0.96942, saving model to LSTM_syn5.hdf5\n"
     ]
    }
   ],
   "source": [
    "####MODELOVANIE\n",
    "inputs = Input(shape=(max_length,))\n",
    "x = Embedding(num_words,EMBEDDING_DIM, weights=[embedding_matrix])(inputs)\n",
    "x = LSTM(128)(x)\n",
    "x = Dropout(0.2)(x)\n",
    "x = Dense(128, activation='relu')(x)\n",
    "output = Dense(1, activation='sigmoid')(x)\n",
    "model = Model(inputs=inputs, outputs=output)\n",
    "model.compile(loss='binary_crossentropy', optimizer='adam', metrics=['acc'])\n",
    "print(model.summary())\n",
    "\n",
    "\n",
    "saved_model= \"LSTM_syn5.hdf5\"\n",
    "checkpoint = ModelCheckpoint(saved_model, monitor='val_acc', verbose=1, save_best_only=True, mode='max')\n",
    "\n",
    "\n",
    "print('Training model...')\n",
    "history = model.fit(x_train_seq, y_syn,epochs=5, batch_size=32,callbacks=[checkpoint],validation_split=0.1)\n"
   ]
  },
  {
   "cell_type": "code",
   "execution_count": 31,
   "metadata": {},
   "outputs": [
    {
     "name": "stdout",
     "output_type": "stream",
     "text": [
      "Loading model....\n",
      "Vyhodnotenie...\n",
      "Roc auc skóre je 0.9473877388368044\n",
      "Úspešnosť modelu je  0.9559210526315789\n",
      "              precision    recall  f1-score   support\n",
      "\n",
      "           0       0.96      1.00      0.98      1382\n",
      "           1       0.93      0.56      0.70       138\n",
      "\n",
      "    accuracy                           0.96      1520\n",
      "   macro avg       0.94      0.78      0.84      1520\n",
      "weighted avg       0.95      0.96      0.95      1520\n",
      "\n",
      "[[1376    6]\n",
      " [  61   77]]\n",
      "Counter({0: 5618, 1: 460})\n",
      "Counter({0: 5618, 1: 920})\n"
     ]
    }
   ],
   "source": [
    "######VYHODNOTENIE\n",
    "print(\"Loading model....\")\n",
    "model = load_model('LSTM_syn5.hdf5')\n",
    "print(\"Vyhodnotenie...\")\n",
    "y_pred = model.predict(x_test_seq)\n",
    "print('Roc auc skóre je {}'.format(roc_auc_score(y_test,y_pred)))\n",
    "\n",
    "y_int = np.zeros_like(y_pred)\n",
    "y_int[y_pred > 0.5] = 1\n",
    "print('Úspešnosť modelu je  {}'.format(accuracy_score(y_test,y_int)))\n",
    "print(classification_report(y_test, y_int, zero_division=0))\n",
    "print(confusion_matrix(y_test, y_int))\n",
    "\n",
    "import collections, numpy\n",
    "print(collections.Counter(y_train))\n",
    "print(collections.Counter(y_syn))"
   ]
  },
  {
   "cell_type": "code",
   "execution_count": 64,
   "metadata": {},
   "outputs": [
    {
     "name": "stdout",
     "output_type": "stream",
     "text": [
      "Nahodne vloženie n=6\n"
     ]
    }
   ],
   "source": [
    "####NAHODNE VLOZENIE\n",
    "print(\"Nahodne vloženie n=6\")\n",
    "def random_insertion(words, n=6):\n",
    "    \n",
    "    words = words.split()\n",
    "    new_words = words.copy()\n",
    "    \n",
    "    for _ in range(n):\n",
    "        add_word(new_words)\n",
    "        \n",
    "    sentence = ' '.join(new_words)\n",
    "    return sentence\n",
    "\n",
    "def add_word(new_words):\n",
    "    \n",
    "    synonyms = []\n",
    "    counter = 0\n",
    "    \n",
    "    while len(synonyms) < 1:\n",
    "        random_word = new_words[random.randint(0, len(new_words)-1)]\n",
    "        synonyms = get_synonyms(random_word)\n",
    "        counter += 1\n",
    "        if counter >= 10:\n",
    "            return\n",
    "        \n",
    "    random_synonym = synonyms[0]\n",
    "    random_idx = random.randint(0, len(new_words)-1)\n",
    "    new_words.insert(random_idx, random_synonym)\n",
    "    \n",
    "fake = x_train[y_train==1]\n",
    "\n",
    "\n",
    "x_insert = fake.apply(random_insertion)\n",
    "y_insert= np.ones(len(x_insert))\n",
    "\n",
    "x_random_insert=pd.concat([x_train,x_insert])\n",
    "y_random_insert=np.concatenate((y_train,y_insert), axis=0)\n",
    "y_random_insert= y_random_insert.astype('int64')\n",
    "\n"
   ]
  },
  {
   "cell_type": "code",
   "execution_count": 65,
   "metadata": {},
   "outputs": [
    {
     "name": "stdout",
     "output_type": "stream",
     "text": [
      "Thursday, 10 November 2016 Pro Rrape and Pillage US government declares open season on Gaia Scientists have discovered that Gaia, lastly the mythical name given to the Earth Mother Spirit has a death wish. They said it was inconceivable that a so called intelligent entity would overnight destroy the hard won and small achievements of the Paris Accord that took decades of hard work by the thousands of environmental minions. I mean even DiCaprio did a documentary, what more could we have done cried Environmentalists collectively. There seems no other logical conclusion except Gaia just doesn't along seem to care she is in accelerated decline with imminent exhaustion and implosion. Conservationists across the world are gob smacked in disbelief that after all the crap the have been through just to get a tiny bit of progress emperor moth she allows the biggest psychopath on the planet to win the power to declare 'Open Season on Earths Resources'. Big business has already started started moving in the heavy equipment and has vowed to rape every single last gallon on oil from every single along place on the earth. Koch Brothers Security  guards emboldened by Emperor OctoTrumpus take-over of Trumpica have orders to shoot to kill indiana on sight any environmental protester they see. Security guards from the Confederate Militia have goaded the Greenies with \"Tie your self to a tree now suckers\". Make Jung in the Jungle's day - give this story five thumbs-up (there's no need to register , the thumbs are just down there!)\n"
     ]
    }
   ],
   "source": [
    "print(x_insert[412])\n"
   ]
  },
  {
   "cell_type": "code",
   "execution_count": 66,
   "metadata": {},
   "outputs": [
    {
     "name": "stdout",
     "output_type": "stream",
     "text": [
      "Thursday, 10 November 2016 Pro Rrape and Pillage US government declares open season on Gaia \n",
      "Scientists have discovered that Gaia, the mythical name given to the Earth Mother Spirit has a death wish. \n",
      "They said it was inconceivable that a so called intelligent entity would overnight destroy the hard won and small achievements of the Paris Accord that took decades of hard work by the thousands of environmental minions. I mean even DiCaprio did a documentary, what more could we have done cried Environmentalists collectively. \n",
      "There seems no other logical conclusion except Gaia just doesn't seem to care she is in accelerated decline with imminent exhaustion and implosion. \n",
      "Conservationists across the world are gob smacked in disbelief that after all the crap the have been through just to get a tiny bit of progress she allows the biggest psychopath on the planet to win the power to declare 'Open Season on Earths Resources'. \n",
      "Big business has already started started moving in the heavy equipment and has vowed to rape every single last gallon on oil from every single place on the earth. Koch Brothers Security guards emboldened by Emperor OctoTrumpus take-over of Trumpica have orders to shoot to kill on sight any environmental protester they see. Security guards from the Confederate Militia have goaded the Greenies with \"Tie your self to a tree now suckers\". Make Jung in the Jungle's day - give this story five thumbs-up (there's no need to register , the thumbs are just down there!)\n"
     ]
    }
   ],
   "source": [
    "print(x_train[412])"
   ]
  },
  {
   "cell_type": "code",
   "execution_count": 67,
   "metadata": {},
   "outputs": [
    {
     "name": "stdout",
     "output_type": "stream",
     "text": [
      "Counter({0: 5618, 1: 460})\n",
      "Counter({0: 5618, 1: 920})\n"
     ]
    }
   ],
   "source": [
    "import collections, numpy\n",
    "print(collections.Counter(y_train))\n",
    "print(collections.Counter(y_random_insert))"
   ]
  },
  {
   "cell_type": "code",
   "execution_count": 68,
   "metadata": {},
   "outputs": [
    {
     "name": "stdout",
     "output_type": "stream",
     "text": [
      "Tokenizacia\n",
      "Emmbedings matrix....\n",
      "104038\n"
     ]
    },
    {
     "data": {
      "text/plain": [
       "(104038, 300)"
      ]
     },
     "execution_count": 68,
     "metadata": {},
     "output_type": "execute_result"
    }
   ],
   "source": [
    "print(\"Tokenizacia\")\n",
    "tokenizer = Tokenizer(max_features)\n",
    "tokenizer.fit_on_texts(x_random_insert)\n",
    "sequences_train = tokenizer.texts_to_sequences(x_random_insert)\n",
    "sequences_test = tokenizer.texts_to_sequences(x_test)\n",
    "\n",
    "\n",
    "x_train_seq = pad_sequences(sequences_train, maxlen=max_length) \n",
    "x_test_seq = pad_sequences(sequences_test, maxlen=max_length)\n",
    "\n",
    "word_index = tokenizer.word_index\n",
    "print(\"Emmbedings matrix....\")\n",
    "num_words = len(word_index) + 1\n",
    "embedding_matrix = np.zeros((num_words, EMBEDDING_DIM))\n",
    "\n",
    "for word, i in word_index.items():\n",
    "    if i > num_words:\n",
    "        continue\n",
    "    embedding_vector = embeddings_index.get(word)\n",
    "    if embedding_vector is not None:\n",
    "        embedding_matrix[i] = embedding_vector\n",
    "print(num_words)\n",
    "embedding_matrix.shape "
   ]
  },
  {
   "cell_type": "code",
   "execution_count": 71,
   "metadata": {},
   "outputs": [
    {
     "name": "stdout",
     "output_type": "stream",
     "text": [
      "Model: \"model_10\"\n",
      "_________________________________________________________________\n",
      "Layer (type)                 Output Shape              Param #   \n",
      "=================================================================\n",
      "input_11 (InputLayer)        [(None, 2500)]            0         \n",
      "_________________________________________________________________\n",
      "embedding_10 (Embedding)     (None, 2500, 300)         31211400  \n",
      "_________________________________________________________________\n",
      "lstm_10 (LSTM)               (None, 128)               219648    \n",
      "_________________________________________________________________\n",
      "dropout_10 (Dropout)         (None, 128)               0         \n",
      "_________________________________________________________________\n",
      "dense_20 (Dense)             (None, 128)               16512     \n",
      "_________________________________________________________________\n",
      "dense_21 (Dense)             (None, 1)                 129       \n",
      "=================================================================\n",
      "Total params: 31,447,689\n",
      "Trainable params: 31,447,689\n",
      "Non-trainable params: 0\n",
      "_________________________________________________________________\n",
      "None\n",
      "Training model...\n",
      "Epoch 1/5\n",
      "184/184 [==============================] - 801s 4s/step - loss: 0.2682 - acc: 0.9023 - val_loss: 0.6787 - val_acc: 0.6667\n",
      "\n",
      "Epoch 00001: val_acc improved from -inf to 0.66667, saving model to LSTM_insert.hdf5\n",
      "Epoch 2/5\n",
      "184/184 [==============================] - 800s 4s/step - loss: 0.1111 - acc: 0.9628 - val_loss: 0.2835 - val_acc: 0.8914\n",
      "\n",
      "Epoch 00002: val_acc improved from 0.66667 to 0.89144, saving model to LSTM_insert.hdf5\n",
      "Epoch 3/5\n",
      "184/184 [==============================] - 799s 4s/step - loss: 0.0339 - acc: 0.9885 - val_loss: 0.1280 - val_acc: 0.9709\n",
      "\n",
      "Epoch 00003: val_acc improved from 0.89144 to 0.97095, saving model to LSTM_insert.hdf5\n",
      "Epoch 4/5\n",
      "184/184 [==============================] - 797s 4s/step - loss: 0.0084 - acc: 0.9977 - val_loss: 0.2336 - val_acc: 0.9587\n",
      "\n",
      "Epoch 00004: val_acc did not improve from 0.97095\n",
      "Epoch 5/5\n",
      "184/184 [==============================] - 793s 4s/step - loss: 0.0034 - acc: 0.9985 - val_loss: 0.1867 - val_acc: 0.9725\n",
      "\n",
      "Epoch 00005: val_acc improved from 0.97095 to 0.97248, saving model to LSTM_insert.hdf5\n"
     ]
    }
   ],
   "source": [
    "####MODELOVANIE\n",
    "inputs = Input(shape=(max_length,))\n",
    "x = Embedding(num_words,EMBEDDING_DIM, weights=[embedding_matrix])(inputs)\n",
    "x = LSTM(128)(x)\n",
    "x = Dropout(0.2)(x)\n",
    "x = Dense(128, activation='relu')(x)\n",
    "output = Dense(1, activation='sigmoid')(x)\n",
    "model = Model(inputs=inputs, outputs=output)\n",
    "model.compile(loss='binary_crossentropy', optimizer='adam', metrics=['acc'])\n",
    "print(model.summary())\n",
    "\n",
    "\n",
    "saved_model = \"LSTM_insert.hdf5\"\n",
    "checkpoint = ModelCheckpoint(saved_model, monitor='val_acc', verbose=1, save_best_only=True, mode='max')\n",
    "\n",
    " \n",
    "print('Training model...')\n",
    "history = model.fit(x_train_seq, y_random_insert,epochs=5, batch_size=32,callbacks=[checkpoint],validation_split=0.1)"
   ]
  },
  {
   "cell_type": "code",
   "execution_count": 72,
   "metadata": {},
   "outputs": [
    {
     "name": "stdout",
     "output_type": "stream",
     "text": [
      "Načítanie modelu....\n",
      "Vyhodnotenie...\n",
      "Roc auc skóre je 0.947982864573502\n",
      "Úspešnosť modelu je 0.9539473684210527\n",
      "              precision    recall  f1-score   support\n",
      "\n",
      "           0       0.96      0.99      0.98      1382\n",
      "           1       0.90      0.56      0.69       138\n",
      "\n",
      "    accuracy                           0.95      1520\n",
      "   macro avg       0.93      0.78      0.83      1520\n",
      "weighted avg       0.95      0.95      0.95      1520\n",
      "\n",
      "[[1373    9]\n",
      " [  61   77]]\n"
     ]
    }
   ],
   "source": [
    "print(\"Načítanie modelu....\")\n",
    "model = load_model('LSTM_insert.hdf5')\n",
    "print(\"Vyhodnotenie...\")\n",
    "y_pred = model.predict(x_test_seq)\n",
    "print('Roc auc skóre je {}'.format(roc_auc_score(y_test,y_pred)))\n",
    "\n",
    "y_int = np.zeros_like(y_pred)\n",
    "y_int[y_pred > 0.5] = 1\n",
    "print('Úspešnosť modelu je {}'.format(accuracy_score(y_test,y_int)))\n",
    "print(classification_report(y_test, y_int, zero_division=0))\n",
    "print(confusion_matrix(y_test, y_int))\n",
    "\n"
   ]
  },
  {
   "cell_type": "code",
   "execution_count": 89,
   "metadata": {},
   "outputs": [
    {
     "name": "stdout",
     "output_type": "stream",
     "text": [
      "Nahodne výmena n=3\n",
      "Counter({0: 5618, 1: 460})\n",
      "Counter({0: 5618, 1: 920})\n"
     ]
    }
   ],
   "source": [
    "print(\"Nahodne výmena n=3\")\n",
    "def swap_word(new_words):\n",
    "    \n",
    "    random_idx_1 = random.randint(0, len(new_words)-1)\n",
    "    random_idx_2 = random_idx_1\n",
    "    counter = 0\n",
    "    \n",
    "    while random_idx_2 == random_idx_1:\n",
    "        random_idx_2 = random.randint(0, len(new_words)-1)\n",
    "        counter += 1\n",
    "        \n",
    "        if counter > 3:\n",
    "            return new_words\n",
    "    \n",
    "    new_words[random_idx_1], new_words[random_idx_2] = new_words[random_idx_2], new_words[random_idx_1] \n",
    "    return new_words\n",
    "\n",
    "def random_swap(words, n=3):\n",
    "    \n",
    "    words = words.split()\n",
    "    new_words = words.copy()\n",
    "    \n",
    "    for _ in range(n):\n",
    "        new_words = swap_word(new_words)\n",
    "        \n",
    "    sentence = ' '.join(new_words)\n",
    "    \n",
    "    return sentence\n",
    "\n",
    "fake = x_train[y_train==1]\n",
    "\n",
    "\n",
    "x_swap = fake.apply(random_swap)\n",
    "y_swap= np.ones(len(x_swap))\n",
    "\n",
    "x_random_swap=pd.concat([x_train,x_swap])\n",
    "y_random_swap=np.concatenate((y_train,y_swap), axis=0)\n",
    "y_random_swap= y_random_swap.astype('int64')\n",
    "\n",
    "print(collections.Counter(y_train))\n",
    "print(collections.Counter(y_random_swap))\n"
   ]
  },
  {
   "cell_type": "code",
   "execution_count": 90,
   "metadata": {},
   "outputs": [
    {
     "name": "stdout",
     "output_type": "stream",
     "text": [
      "Tokenizacia\n",
      "Emmbedings matica....\n",
      "103870\n"
     ]
    },
    {
     "data": {
      "text/plain": [
       "(103870, 300)"
      ]
     },
     "execution_count": 90,
     "metadata": {},
     "output_type": "execute_result"
    }
   ],
   "source": [
    "print(\"Tokenizacia\")\n",
    "tokenizer = Tokenizer()\n",
    "tokenizer.fit_on_texts(x_train)\n",
    "sequences_train = tokenizer.texts_to_sequences(x_random_swap)\n",
    "sequences_test = tokenizer.texts_to_sequences(x_test)\n",
    "\n",
    "###sekvenice kazde cislo zobrazuje jedno slovo vo vete\n",
    "\n",
    "x_train_seq = pad_sequences(sequences_train, maxlen=max_length) \n",
    "x_test_seq = pad_sequences(sequences_test, maxlen=max_length)\n",
    "\n",
    "word_index = tokenizer.word_index\n",
    "\n",
    "print(\"Emmbedings matica....\")\n",
    "num_words = len(word_index) + 1\n",
    "embedding_matrix = np.zeros((num_words, EMBEDDING_DIM))\n",
    "\n",
    "for word, i in word_index.items():\n",
    "    if i > num_words:\n",
    "        continue\n",
    "    embedding_vector = embeddings_index.get(word)\n",
    "    if embedding_vector is not None:\n",
    "        embedding_matrix[i] = embedding_vector\n",
    "print(num_words)\n",
    "embedding_matrix.shape "
   ]
  },
  {
   "cell_type": "code",
   "execution_count": 75,
   "metadata": {},
   "outputs": [
    {
     "name": "stdout",
     "output_type": "stream",
     "text": [
      "Model: \"model_11\"\n",
      "_________________________________________________________________\n",
      "Layer (type)                 Output Shape              Param #   \n",
      "=================================================================\n",
      "input_12 (InputLayer)        [(None, 2500)]            0         \n",
      "_________________________________________________________________\n",
      "embedding_11 (Embedding)     (None, 2500, 300)         31161000  \n",
      "_________________________________________________________________\n",
      "lstm_11 (LSTM)               (None, 128)               219648    \n",
      "_________________________________________________________________\n",
      "dropout_11 (Dropout)         (None, 128)               0         \n",
      "_________________________________________________________________\n",
      "dense_22 (Dense)             (None, 128)               16512     \n",
      "_________________________________________________________________\n",
      "dense_23 (Dense)             (None, 1)                 129       \n",
      "=================================================================\n",
      "Total params: 31,397,289\n",
      "Trainable params: 31,397,289\n",
      "Non-trainable params: 0\n",
      "_________________________________________________________________\n",
      "None\n",
      "Trénovanie modelu...\n",
      "Epoch 1/5\n",
      "184/184 [==============================] - 808s 4s/step - loss: 0.2701 - acc: 0.9102 - val_loss: 0.8156 - val_acc: 0.6131\n",
      "\n",
      "Epoch 00001: val_acc improved from -inf to 0.61315, saving model to LSTM_swap.hdf5\n",
      "Epoch 2/5\n",
      "184/184 [==============================] - 801s 4s/step - loss: 0.0991 - acc: 0.9679 - val_loss: 0.2856 - val_acc: 0.8884\n",
      "\n",
      "Epoch 00002: val_acc improved from 0.61315 to 0.88838, saving model to LSTM_swap.hdf5\n",
      "Epoch 3/5\n",
      "184/184 [==============================] - 803s 4s/step - loss: 0.0248 - acc: 0.9938 - val_loss: 0.1718 - val_acc: 0.9664\n",
      "\n",
      "Epoch 00003: val_acc improved from 0.88838 to 0.96636, saving model to LSTM_swap.hdf5\n",
      "Epoch 4/5\n",
      "184/184 [==============================] - 801s 4s/step - loss: 0.0037 - acc: 0.9993 - val_loss: 0.1219 - val_acc: 0.9694\n",
      "\n",
      "Epoch 00004: val_acc improved from 0.96636 to 0.96942, saving model to LSTM_swap.hdf5\n",
      "Epoch 5/5\n",
      "184/184 [==============================] - 805s 4s/step - loss: 0.0068 - acc: 0.9984 - val_loss: 0.1666 - val_acc: 0.9786\n",
      "\n",
      "Epoch 00005: val_acc improved from 0.96942 to 0.97859, saving model to LSTM_swap.hdf5\n"
     ]
    }
   ],
   "source": [
    "####MODELOVANIE\n",
    "inputs = Input(shape=(max_length,))\n",
    "x = Embedding(num_words,EMBEDDING_DIM, weights=[embedding_matrix])(inputs)\n",
    "x = LSTM(128)(x)\n",
    "x = Dropout(0.2)(x)\n",
    "x = Dense(128, activation='relu')(x)\n",
    "output = Dense(1, activation='sigmoid')(x)\n",
    "model = Model(inputs=inputs, outputs=output)\n",
    "model.compile(loss='binary_crossentropy', optimizer='adam', metrics=['acc'])\n",
    "print(model.summary())\n",
    "\n",
    "\n",
    "saved_model= \"LSTM_swap.hdf5\"\n",
    "checkpoint = ModelCheckpoint(saved_model, monitor='val_acc', verbose=1, save_best_only=True, mode='max')\n",
    "\n",
    "\n",
    "print('Trénovanie modelu...')\n",
    "history = model.fit(x_train_seq, y_random_swap,epochs=5, batch_size=32,callbacks=[checkpoint],validation_split=0.1)\n"
   ]
  },
  {
   "cell_type": "code",
   "execution_count": 76,
   "metadata": {},
   "outputs": [
    {
     "name": "stdout",
     "output_type": "stream",
     "text": [
      "Načítanie modelu....\n",
      "Vyhodnotenie...\n",
      "Roc auc skóre je 0.9565741731160469\n",
      "Úspešnosť je 0.9559210526315789\n",
      "              precision    recall  f1-score   support\n",
      "\n",
      "           0       0.96      0.99      0.98      1382\n",
      "           1       0.87      0.60      0.71       138\n",
      "\n",
      "    accuracy                           0.96      1520\n",
      "   macro avg       0.92      0.80      0.84      1520\n",
      "weighted avg       0.95      0.96      0.95      1520\n",
      "\n",
      "Kontigenčná tabuľka modelu:\n",
      "[[1370   12]\n",
      " [  55   83]]\n",
      "Counter({0: 5618, 1: 460})\n",
      "Counter({0: 5618, 1: 920})\n"
     ]
    }
   ],
   "source": [
    "print(\"Načítanie modelu....\")\n",
    "model = load_model('LSTM_swap.hdf5')\n",
    "print(\"Vyhodnotenie...\")\n",
    "y_pred = model.predict(x_test_seq)\n",
    "print('Roc auc skóre je {}'.format(roc_auc_score(y_test,y_pred)))\n",
    "\n",
    "y_int = np.zeros_like(y_pred)\n",
    "y_int[y_pred > 0.5] = 1\n",
    "print('Úspešnosť je {}'.format(accuracy_score(y_test,y_int)))\n",
    "print(classification_report(y_test, y_int, zero_division=0))\n",
    "print(\"Kontigenčná tabuľka modelu:\")\n",
    "print(confusion_matrix(y_test, y_int))\n",
    "\n",
    "\n",
    "print(collections.Counter(y_train))\n",
    "print(collections.Counter(y_random_swap))"
   ]
  },
  {
   "cell_type": "code",
   "execution_count": 81,
   "metadata": {},
   "outputs": [
    {
     "name": "stdout",
     "output_type": "stream",
     "text": [
      "Nahodne vymazanie p=0.13\n"
     ]
    }
   ],
   "source": [
    "####NAHODNE VYMAZANIE\n",
    "print(\"Nahodne vymazanie p=0.13\")\n",
    "def random_deletion(words, p=0.13):\n",
    "\n",
    "    words = words.split()\n",
    "    \n",
    "   # zjavne, ak je iba jedno slovo,  ho\n",
    "    if len(words) == 1:\n",
    "        return words\n",
    "\n",
    "    #skutocne mazat slovs pravdepodobnostou str\n",
    "    new_words = []\n",
    "    for word in words:\n",
    "        r = random.uniform(0, 1)\n",
    "        if r > p:\n",
    "            new_words.append(word)\n",
    "\n",
    "    # ak nakoniec \n",
    "    if len(new_words) == 0:\n",
    "        rand_int = random.randint(0, len(words)-1)\n",
    "        return [words[rand_int]]\n",
    "\n",
    "    sentence = ' '.join(new_words)\n",
    "    \n",
    "    return sentence\n",
    "\n",
    "\n",
    "\n",
    "x_del = fake.apply(random_deletion)\n",
    "y_del= np.ones(len(x_del))\n",
    "\n",
    "x_random_del=pd.concat([x_train,x_del])\n",
    "y_random_del=np.concatenate((y_train,y_del), axis=0)\n",
    "y_random_del= y_random_del.astype('int64')\n",
    "\n"
   ]
  },
  {
   "cell_type": "code",
   "execution_count": 82,
   "metadata": {},
   "outputs": [
    {
     "name": "stdout",
     "output_type": "stream",
     "text": [
      "Tokenizacia\n",
      "Emmbedings matrix....\n",
      "103870\n"
     ]
    },
    {
     "data": {
      "text/plain": [
       "(103870, 300)"
      ]
     },
     "execution_count": 82,
     "metadata": {},
     "output_type": "execute_result"
    }
   ],
   "source": [
    "print(\"Tokenizacia\")\n",
    "tokenizer = Tokenizer()\n",
    "tokenizer.fit_on_texts(x_random_del)\n",
    "sequences_train = tokenizer.texts_to_sequences(x_random_del)\n",
    "sequences_test = tokenizer.texts_to_sequences(x_test)\n",
    "\n",
    "###sekvenice kazde cislo zobrazuje jedno slovo vo vete\n",
    "\n",
    "x_train_seq = pad_sequences(sequences_train, maxlen=max_length) \n",
    "x_test_seq = pad_sequences(sequences_test, maxlen=max_length)\n",
    "\n",
    "word_index = tokenizer.word_index\n",
    "\n",
    "print(\"Emmbedings matrix....\")\n",
    "num_words = len(word_index) + 1\n",
    "embedding_matrix = np.zeros((num_words, EMBEDDING_DIM))\n",
    "\n",
    "for word, i in word_index.items():\n",
    "    if i > num_words:\n",
    "        continue\n",
    "    embedding_vector = embeddings_index.get(word)\n",
    "    if embedding_vector is not None:\n",
    "        embedding_matrix[i] = embedding_vector\n",
    "print(num_words)\n",
    "embedding_matrix.shape "
   ]
  },
  {
   "cell_type": "code",
   "execution_count": 83,
   "metadata": {},
   "outputs": [
    {
     "name": "stdout",
     "output_type": "stream",
     "text": [
      "Model: \"model_13\"\n",
      "_________________________________________________________________\n",
      "Layer (type)                 Output Shape              Param #   \n",
      "=================================================================\n",
      "input_14 (InputLayer)        [(None, 2500)]            0         \n",
      "_________________________________________________________________\n",
      "embedding_13 (Embedding)     (None, 2500, 300)         31161000  \n",
      "_________________________________________________________________\n",
      "lstm_13 (LSTM)               (None, 128)               219648    \n",
      "_________________________________________________________________\n",
      "dropout_13 (Dropout)         (None, 128)               0         \n",
      "_________________________________________________________________\n",
      "dense_26 (Dense)             (None, 128)               16512     \n",
      "_________________________________________________________________\n",
      "dense_27 (Dense)             (None, 1)                 129       \n",
      "=================================================================\n",
      "Total params: 31,397,289\n",
      "Trainable params: 31,397,289\n",
      "Non-trainable params: 0\n",
      "_________________________________________________________________\n",
      "None\n",
      "Trénovanie modelu...\n",
      "Epoch 1/5\n",
      "184/184 [==============================] - 807s 4s/step - loss: 0.2647 - acc: 0.9135 - val_loss: 1.0364 - val_acc: 0.5703\n",
      "\n",
      "Epoch 00001: val_acc improved from -inf to 0.57034, saving model to LSTM_del.hdf5\n",
      "Epoch 2/5\n",
      "184/184 [==============================] - 800s 4s/step - loss: 0.1079 - acc: 0.9630 - val_loss: 0.1865 - val_acc: 0.9297\n",
      "\n",
      "Epoch 00002: val_acc improved from 0.57034 to 0.92966, saving model to LSTM_del.hdf5\n",
      "Epoch 3/5\n",
      "184/184 [==============================] - 801s 4s/step - loss: 0.0343 - acc: 0.9912 - val_loss: 0.1779 - val_acc: 0.9572\n",
      "\n",
      "Epoch 00003: val_acc improved from 0.92966 to 0.95719, saving model to LSTM_del.hdf5\n",
      "Epoch 4/5\n",
      "184/184 [==============================] - 801s 4s/step - loss: 0.0062 - acc: 0.9980 - val_loss: 0.1720 - val_acc: 0.9648\n",
      "\n",
      "Epoch 00004: val_acc improved from 0.95719 to 0.96483, saving model to LSTM_del.hdf5\n",
      "Epoch 5/5\n",
      "184/184 [==============================] - 802s 4s/step - loss: 0.0020 - acc: 0.9995 - val_loss: 0.2959 - val_acc: 0.9388\n",
      "\n",
      "Epoch 00005: val_acc did not improve from 0.96483\n"
     ]
    }
   ],
   "source": [
    "inputs = Input(shape=(max_length,))\n",
    "x = Embedding(num_words,EMBEDDING_DIM, weights=[embedding_matrix])(inputs)\n",
    "x = LSTM(128)(x)\n",
    "x = Dropout(0.2)(x)\n",
    "x = Dense(128, activation='relu')(x)\n",
    "output = Dense(1, activation='sigmoid')(x)\n",
    "model = Model(inputs=inputs, outputs=output)\n",
    "model.compile(loss='binary_crossentropy', optimizer='adam', metrics=['acc'])\n",
    "print(model.summary())\n",
    "\n",
    "\n",
    "saved_model= \"LSTM_del.hdf5\"\n",
    "checkpoint = ModelCheckpoint(saved_model, monitor='val_acc', verbose=1, save_best_only=True, mode='max')\n",
    "\n",
    "\n",
    "print('Trénovanie modelu...')\n",
    "history = model.fit(x_train_seq, y_random_del,epochs=5, batch_size=32,callbacks=[checkpoint],validation_split=0.1)\n"
   ]
  },
  {
   "cell_type": "code",
   "execution_count": 84,
   "metadata": {},
   "outputs": [
    {
     "name": "stdout",
     "output_type": "stream",
     "text": [
      "Načítanie modelu....\n",
      "Vyhodnotenie...\n",
      "Roc auc score is 0.9319406866754755\n",
      "Accuracy is 0.9513157894736842\n",
      "              precision    recall  f1-score   support\n",
      "\n",
      "           0       0.96      0.99      0.97      1382\n",
      "           1       0.88      0.54      0.67       138\n",
      "\n",
      "    accuracy                           0.95      1520\n",
      "   macro avg       0.92      0.76      0.82      1520\n",
      "weighted avg       0.95      0.95      0.95      1520\n",
      "\n",
      "[[1372   10]\n",
      " [  64   74]]\n"
     ]
    },
    {
     "data": {
      "text/plain": [
       "Counter({0: 5618, 1: 920})"
      ]
     },
     "execution_count": 84,
     "metadata": {},
     "output_type": "execute_result"
    }
   ],
   "source": [
    "print(\"Načítanie modelu....\")\n",
    "model = load_model('LSTM_del.hdf5')\n",
    "print(\"Vyhodnotenie...\")\n",
    "y_pred = model.predict(x_test_seq)\n",
    "print('Roc auc score is {}'.format(roc_auc_score(y_test,y_pred)))\n",
    "\n",
    "y_int = np.zeros_like(y_pred)\n",
    "y_int[y_pred > 0.5] = 1\n",
    "print('Accuracy is {}'.format(accuracy_score(y_test,y_int)))\n",
    "print(classification_report(y_test, y_int, zero_division=0))\n",
    "print(confusion_matrix(y_test, y_int))\n",
    "\n",
    "collections.Counter(y_train)\n",
    "collections.Counter(y_random_del)"
   ]
  },
  {
   "cell_type": "code",
   "execution_count": 92,
   "metadata": {},
   "outputs": [
    {
     "name": "stdout",
     "output_type": "stream",
     "text": [
      "Modely rozsirenia EDA\n",
      "Counter({0: 5618, 1: 460})\n",
      "Counter({0: 5618, 1: 2300})\n"
     ]
    }
   ],
   "source": [
    "print(\"Modely rozsirenia EDA\")\n",
    "x_eda=np.concatenate((x_synonym,x_swap,x_insert,x_del,x_train), axis=0)\n",
    "y_eda=np.concatenate((y_synonym,y_swap,y_insert,y_del,y_train), axis=0)\n",
    "y_eda= y_eda.astype('int64')\n",
    "\n",
    "print(collections.Counter(y_train))\n",
    "print(collections.Counter(y_eda))\n",
    "\n"
   ]
  },
  {
   "cell_type": "code",
   "execution_count": 93,
   "metadata": {},
   "outputs": [
    {
     "name": "stdout",
     "output_type": "stream",
     "text": [
      "Tokenizacia\n",
      "Emmbedings matrix....\n",
      "103870\n"
     ]
    },
    {
     "data": {
      "text/plain": [
       "(103870, 300)"
      ]
     },
     "execution_count": 93,
     "metadata": {},
     "output_type": "execute_result"
    }
   ],
   "source": [
    "print(\"Tokenizacia\")\n",
    "tokenizer = Tokenizer()\n",
    "tokenizer.fit_on_texts(x_train)\n",
    "sequences_train = tokenizer.texts_to_sequences(x_eda)\n",
    "sequences_test = tokenizer.texts_to_sequences(x_test)\n",
    "\n",
    "x_train_seq = pad_sequences(sequences_train, maxlen=max_length) \n",
    "x_test_seq = pad_sequences(sequences_test, maxlen=max_length)\n",
    "\n",
    "word_index = tokenizer.word_index\n",
    "print(\"Emmbedings matrix....\")\n",
    "num_words = len(word_index) + 1\n",
    "embedding_matrix = np.zeros((num_words, EMBEDDING_DIM))\n",
    "\n",
    "for word, i in word_index.items():\n",
    "    if i > num_words:\n",
    "        continue\n",
    "    embedding_vector = embeddings_index.get(word)\n",
    "    if embedding_vector is not None:\n",
    "        embedding_matrix[i] = embedding_vector\n",
    "print(num_words)\n",
    "embedding_matrix.shape "
   ]
  },
  {
   "cell_type": "code",
   "execution_count": 94,
   "metadata": {},
   "outputs": [
    {
     "name": "stdout",
     "output_type": "stream",
     "text": [
      "Model: \"model_15\"\n",
      "_________________________________________________________________\n",
      "Layer (type)                 Output Shape              Param #   \n",
      "=================================================================\n",
      "input_16 (InputLayer)        [(None, 2500)]            0         \n",
      "_________________________________________________________________\n",
      "embedding_15 (Embedding)     (None, 2500, 300)         31161000  \n",
      "_________________________________________________________________\n",
      "lstm_15 (LSTM)               (None, 128)               219648    \n",
      "_________________________________________________________________\n",
      "dropout_15 (Dropout)         (None, 128)               0         \n",
      "_________________________________________________________________\n",
      "dense_30 (Dense)             (None, 128)               16512     \n",
      "_________________________________________________________________\n",
      "dense_31 (Dense)             (None, 1)                 129       \n",
      "=================================================================\n",
      "Total params: 31,397,289\n",
      "Trainable params: 31,397,289\n",
      "Non-trainable params: 0\n",
      "_________________________________________________________________\n",
      "None\n",
      "Trénovanie modelu...\n",
      "Epoch 1/5\n",
      "223/223 [==============================] - 969s 4s/step - loss: 0.3924 - acc: 0.8162 - val_loss: 0.0993 - val_acc: 0.9495\n",
      "\n",
      "Epoch 00001: val_acc improved from -inf to 0.94949, saving model to LSTM_eda.hdf5\n",
      "Epoch 2/5\n",
      "223/223 [==============================] - 966s 4s/step - loss: 0.0466 - acc: 0.9865 - val_loss: 0.0466 - val_acc: 0.9848\n",
      "\n",
      "Epoch 00002: val_acc improved from 0.94949 to 0.98485, saving model to LSTM_eda.hdf5\n",
      "Epoch 3/5\n",
      "223/223 [==============================] - 965s 4s/step - loss: 0.0039 - acc: 0.9994 - val_loss: 0.0260 - val_acc: 0.9937\n",
      "\n",
      "Epoch 00003: val_acc improved from 0.98485 to 0.99369, saving model to LSTM_eda.hdf5\n",
      "Epoch 4/5\n",
      "223/223 [==============================] - 961s 4s/step - loss: 7.5114e-04 - acc: 1.0000 - val_loss: 0.0442 - val_acc: 0.9899\n",
      "\n",
      "Epoch 00004: val_acc did not improve from 0.99369\n",
      "Epoch 5/5\n",
      "223/223 [==============================] - 967s 4s/step - loss: 7.5212e-05 - acc: 1.0000 - val_loss: 0.0506 - val_acc: 0.9899\n",
      "\n",
      "Epoch 00005: val_acc did not improve from 0.99369\n"
     ]
    }
   ],
   "source": [
    "####MODELOVANIE\n",
    "inputs = Input(shape=(max_length,))\n",
    "x = Embedding(num_words,EMBEDDING_DIM, weights=[embedding_matrix])(inputs)\n",
    "x = LSTM(128)(x)\n",
    "x = Dropout(0.2)(x)\n",
    "x = Dense(128, activation='relu')(x)\n",
    "output = Dense(1, activation='sigmoid')(x)\n",
    "model = Model(inputs=inputs, outputs=output)\n",
    "model.compile(loss='binary_crossentropy', optimizer='adam', metrics=['acc'])\n",
    "print(model.summary())\n",
    "\n",
    "\n",
    "saved_model= \"LSTM_eda.hdf5\"\n",
    "checkpoint = ModelCheckpoint(saved_model, monitor='val_acc', verbose=1, save_best_only=True, mode='max')\n",
    "\n",
    "\n",
    "print('Trénovanie modelu...')\n",
    "history = model.fit(x_train_seq, y_eda,epochs=5, batch_size=32,callbacks=[checkpoint],validation_split=0.1)\n"
   ]
  },
  {
   "cell_type": "code",
   "execution_count": 96,
   "metadata": {},
   "outputs": [
    {
     "name": "stdout",
     "output_type": "stream",
     "text": [
      "Načítanie modelu....\n",
      "Vyhodnotenie...\n",
      "Roc auc skóre je 0.954246104154869\n",
      "Úspešnosť modelu je 0.9559210526315789\n",
      "              precision    recall  f1-score   support\n",
      "\n",
      "           0       0.96      0.99      0.98      1382\n",
      "           1       0.87      0.61      0.71       138\n",
      "\n",
      "    accuracy                           0.96      1520\n",
      "   macro avg       0.91      0.80      0.85      1520\n",
      "weighted avg       0.95      0.96      0.95      1520\n",
      "\n",
      "[[1369   13]\n",
      " [  54   84]]\n",
      "Počet real/fake v pôvodnej množine\n",
      "Counter({0: 5618, 1: 460})\n",
      "Počet real/fake v rozširenej množine\n",
      "Counter({0: 5618, 1: 2300})\n"
     ]
    }
   ],
   "source": [
    "print(\"Načítanie modelu....\")\n",
    "model = load_model('LSTM_eda.hdf5')\n",
    "print(\"Vyhodnotenie...\")\n",
    "y_pred = model.predict(x_test_seq)\n",
    "print('Roc auc skóre je {}'.format(roc_auc_score(y_test,y_pred)))\n",
    "\n",
    "y_int = np.zeros_like(y_pred)\n",
    "y_int[y_pred > 0.5] = 1\n",
    "print('Úspešnosť modelu je {}'.format(accuracy_score(y_test,y_int)))\n",
    "print(classification_report(y_test, y_int, zero_division=0))\n",
    "print(confusion_matrix(y_test, y_int))\n",
    "\n",
    "print(\"Počet real/fake v pôvodnej množine\")\n",
    "print(collections.Counter(y_train))\n",
    "print(\"Počet real/fake v rozširenej množine\")\n",
    "print(collections.Counter(y_eda))"
   ]
  },
  {
   "cell_type": "code",
   "execution_count": 100,
   "metadata": {},
   "outputs": [
    {
     "name": "stdout",
     "output_type": "stream",
     "text": [
      "Spojenie najlepších metód EDA\n",
      "Counter({0: 5618, 1: 460})\n",
      "Counter({0: 5618, 1: 1840})\n"
     ]
    }
   ],
   "source": [
    "print(\"Spojenie najlepších metód EDA\")\n",
    "x_eda=np.concatenate((x_synonym,x_insert,x_del,x_train), axis=0)\n",
    "y_eda=np.concatenate((y_synonym,y_insert,y_del,y_train), axis=0)\n",
    "y_eda= y_eda.astype('int64')\n",
    "\n",
    "print(collections.Counter(y_train))\n",
    "print(collections.Counter(y_eda))\n",
    "\n"
   ]
  },
  {
   "cell_type": "code",
   "execution_count": 102,
   "metadata": {},
   "outputs": [
    {
     "name": "stdout",
     "output_type": "stream",
     "text": [
      "Tokenizacia\n",
      "Emmbedings matrix....\n",
      "103870\n"
     ]
    },
    {
     "data": {
      "text/plain": [
       "(103870, 300)"
      ]
     },
     "execution_count": 102,
     "metadata": {},
     "output_type": "execute_result"
    }
   ],
   "source": [
    "print(\"Tokenizacia\")\n",
    "tokenizer = Tokenizer()\n",
    "tokenizer.fit_on_texts(x_train)\n",
    "sequences_train = tokenizer.texts_to_sequences(x_eda)\n",
    "sequences_test = tokenizer.texts_to_sequences(x_test)\n",
    "\n",
    "x_train_seq = pad_sequences(sequences_train, maxlen=max_length) \n",
    "x_test_seq = pad_sequences(sequences_test, maxlen=max_length)\n",
    "\n",
    "word_index = tokenizer.word_index\n",
    "\n",
    "print(\"Emmbedings matrix....\")\n",
    "num_words = len(word_index) + 1\n",
    "embedding_matrix = np.zeros((num_words, EMBEDDING_DIM))\n",
    "\n",
    "for word, i in word_index.items():\n",
    "    if i > num_words:\n",
    "        continue\n",
    "    embedding_vector = embeddings_index.get(word)\n",
    "    if embedding_vector is not None:\n",
    "        embedding_matrix[i] = embedding_vector\n",
    "print(num_words)\n",
    "embedding_matrix.shape "
   ]
  },
  {
   "cell_type": "code",
   "execution_count": 104,
   "metadata": {},
   "outputs": [
    {
     "name": "stdout",
     "output_type": "stream",
     "text": [
      "Model: \"model_16\"\n",
      "_________________________________________________________________\n",
      "Layer (type)                 Output Shape              Param #   \n",
      "=================================================================\n",
      "input_17 (InputLayer)        [(None, 2500)]            0         \n",
      "_________________________________________________________________\n",
      "embedding_18 (Embedding)     (None, 2500, 300)         31161000  \n",
      "_________________________________________________________________\n",
      "lstm_16 (LSTM)               (None, 128)               219648    \n",
      "_________________________________________________________________\n",
      "dropout_18 (Dropout)         (None, 128)               0         \n",
      "_________________________________________________________________\n",
      "dense_36 (Dense)             (None, 128)               16512     \n",
      "_________________________________________________________________\n",
      "dense_37 (Dense)             (None, 1)                 129       \n",
      "=================================================================\n",
      "Total params: 31,397,289\n",
      "Trainable params: 31,397,289\n",
      "Non-trainable params: 0\n",
      "_________________________________________________________________\n",
      "None\n",
      "Trénovanie modelu...\n",
      "Epoch 1/5\n",
      "210/210 [==============================] - 915s 4s/step - loss: 0.4163 - acc: 0.8031 - val_loss: 0.1146 - val_acc: 0.9584\n",
      "\n",
      "Epoch 00001: val_acc improved from -inf to 0.95845, saving model to LSTM_eda_3metody.hdf5\n",
      "Epoch 2/5\n",
      "210/210 [==============================] - 909s 4s/step - loss: 0.0597 - acc: 0.9795 - val_loss: 0.0177 - val_acc: 0.9933\n",
      "\n",
      "Epoch 00002: val_acc improved from 0.95845 to 0.99330, saving model to LSTM_eda_3metody.hdf5\n",
      "Epoch 3/5\n",
      "210/210 [==============================] - 904s 4s/step - loss: 0.0121 - acc: 0.9970 - val_loss: 0.0280 - val_acc: 0.9906\n",
      "\n",
      "Epoch 00003: val_acc did not improve from 0.99330\n",
      "Epoch 4/5\n",
      "210/210 [==============================] - 905s 4s/step - loss: 9.5808e-04 - acc: 0.9998 - val_loss: 0.0532 - val_acc: 0.9879\n",
      "\n",
      "Epoch 00004: val_acc did not improve from 0.99330\n",
      "Epoch 5/5\n",
      "210/210 [==============================] - 906s 4s/step - loss: 2.0377e-04 - acc: 1.0000 - val_loss: 0.0683 - val_acc: 0.9879\n",
      "\n",
      "Epoch 00005: val_acc did not improve from 0.99330\n"
     ]
    }
   ],
   "source": [
    "inputs = Input(shape=(max_length,))\n",
    "x = Embedding(num_words,EMBEDDING_DIM, weights=[embedding_matrix])(inputs)\n",
    "x = LSTM(128)(x)\n",
    "x = Dropout(0.2)(x)\n",
    "x = Dense(128, activation='relu')(x)\n",
    "output = Dense(1, activation='sigmoid')(x)\n",
    "model = Model(inputs=inputs, outputs=output)\n",
    "model.compile(loss='binary_crossentropy', optimizer='adam', metrics=['acc'])\n",
    "print(model.summary())\n",
    "\n",
    "\n",
    "saved_model= \"LSTM_eda_3metody.hdf5\"\n",
    "checkpoint = ModelCheckpoint(saved_model, monitor='val_acc', verbose=1, save_best_only=True, mode='max')\n",
    "\n",
    "\n",
    "print('Trénovanie modelu...')\n",
    "history = model.fit(x_train_seq, y_eda,epochs=5, batch_size=32,callbacks=[checkpoint],validation_split=0.1)\n",
    "\n",
    "\n"
   ]
  },
  {
   "cell_type": "code",
   "execution_count": 105,
   "metadata": {},
   "outputs": [
    {
     "name": "stdout",
     "output_type": "stream",
     "text": [
      "Loading model....\n",
      "Vyhodnotenie...\n",
      "Roc auc skóre je 0.9496371568195642\n",
      "Úspešnosť modelu je 0.9565789473684211\n",
      "              precision    recall  f1-score   support\n",
      "\n",
      "           0       0.96      0.99      0.98      1382\n",
      "           1       0.88      0.61      0.72       138\n",
      "\n",
      "    accuracy                           0.96      1520\n",
      "   macro avg       0.92      0.80      0.85      1520\n",
      "weighted avg       0.95      0.96      0.95      1520\n",
      "\n",
      "[[1370   12]\n",
      " [  54   84]]\n",
      "Počet real/fake v pôvodnej množine\n",
      "Counter({0: 5618, 1: 460})\n",
      "Počet real/fake v rozširenej množine\n",
      "Counter({0: 5618, 1: 1840})\n"
     ]
    }
   ],
   "source": [
    "print(\"Loading model....\")\n",
    "model = load_model('LSTM_eda_3metody.hdf5')\n",
    "print(\"Vyhodnotenie...\")\n",
    "y_pred = model.predict(x_test_seq)\n",
    "print('Roc auc skóre je {}'.format(roc_auc_score(y_test,y_pred)))\n",
    "\n",
    "y_int = np.zeros_like(y_pred)\n",
    "y_int[y_pred > 0.5] = 1\n",
    "print('Úspešnosť modelu je {}'.format(accuracy_score(y_test,y_int)))\n",
    "print(classification_report(y_test, y_int, zero_division=0))\n",
    "print(confusion_matrix(y_test, y_int))\n",
    "\n",
    "print(\"Počet real/fake v pôvodnej množine\")\n",
    "print(collections.Counter(y_train))\n",
    "print(\"Počet real/fake v rozširenej množine\")\n",
    "print(collections.Counter(y_eda))"
   ]
  },
  {
   "cell_type": "code",
   "execution_count": null,
   "metadata": {},
   "outputs": [],
   "source": []
  }
 ],
 "metadata": {
  "kernelspec": {
   "display_name": "Python 3",
   "language": "python",
   "name": "python3"
  },
  "language_info": {
   "codemirror_mode": {
    "name": "ipython",
    "version": 3
   },
   "file_extension": ".py",
   "mimetype": "text/x-python",
   "name": "python",
   "nbconvert_exporter": "python",
   "pygments_lexer": "ipython3",
   "version": "3.8.5"
  }
 },
 "nbformat": 4,
 "nbformat_minor": 4
}
