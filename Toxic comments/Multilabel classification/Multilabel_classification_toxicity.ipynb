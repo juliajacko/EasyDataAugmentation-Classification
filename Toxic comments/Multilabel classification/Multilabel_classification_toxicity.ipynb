{
 "cells": [
  {
   "cell_type": "code",
   "execution_count": 1,
   "metadata": {},
   "outputs": [
    {
     "name": "stderr",
     "output_type": "stream",
     "text": [
      "[nltk_data] Downloading package wordnet to\n",
      "[nltk_data]     C:\\Users\\User\\AppData\\Roaming\\nltk_data...\n",
      "[nltk_data]   Package wordnet is already up-to-date!\n",
      "[nltk_data] Downloading package stopwords to\n",
      "[nltk_data]     C:\\Users\\User\\AppData\\Roaming\\nltk_data...\n",
      "[nltk_data]   Package stopwords is already up-to-date!\n"
     ]
    }
   ],
   "source": [
    "import pandas  as pd\n",
    "import numpy as np\n",
    "import os\n",
    "import nltk\n",
    "nltk.download('wordnet')\n",
    "nltk.download('stopwords')\n",
    "import seaborn as sns\n",
    "import matplotlib.pyplot as plt\n",
    "from nltk.corpus import stopwords\n",
    "from sklearn.model_selection import train_test_split\n",
    "from keras.preprocessing.text import Tokenizer\n",
    "from keras.preprocessing.sequence import pad_sequences\n",
    "from keras.models import Sequential\n",
    "from keras.optimizers import Adam\n",
    "from keras.layers import Embedding, Flatten, Input,MaxPooling1D,Dense, Dropout ,Conv1D\n",
    "from sklearn.metrics import classification_report, confusion_matrix\n",
    "from keras.callbacks import EarlyStopping, ModelCheckpoint\n",
    "from keras.models import load_model\n",
    "from sklearn.metrics import roc_auc_score\n",
    "from nltk.corpus import wordnet \n",
    "import random\n",
    "from sklearn.metrics import classification_report, multilabel_confusion_matrix, accuracy_score"
   ]
  },
  {
   "cell_type": "code",
   "execution_count": 2,
   "metadata": {},
   "outputs": [
    {
     "name": "stdout",
     "output_type": "stream",
     "text": [
      "Loading data...\n"
     ]
    }
   ],
   "source": [
    "print('Loading data...')\n",
    "data = pd.read_csv(r'train.csv')\n",
    "test_data = pd.read_csv(r\"test.csv\")\n",
    "test_labels = pd.read_csv(r\"test_labels.csv\")"
   ]
  },
  {
   "cell_type": "code",
   "execution_count": 3,
   "metadata": {},
   "outputs": [],
   "source": [
    "test_data = test_data.merge(test_labels, how=\"right\")\n",
    "test_data_new = test_data[test_data['toxic']!=-1].reset_index(drop=True)\n"
   ]
  },
  {
   "cell_type": "code",
   "execution_count": 4,
   "metadata": {},
   "outputs": [],
   "source": [
    "classes = [\"toxic\", \"severe_toxic\", \"obscene\", \"threat\", \"insult\", \"identity_hate\"]"
   ]
  },
  {
   "cell_type": "code",
   "execution_count": 5,
   "metadata": {},
   "outputs": [],
   "source": [
    "y=test_data_new.drop([\"id\",\"comment_text\"], axis=1)\n",
    "y_train=data.drop([\"id\",\"comment_text\"], axis=1)"
   ]
  },
  {
   "cell_type": "code",
   "execution_count": 6,
   "metadata": {},
   "outputs": [],
   "source": [
    "train_sentences = data.comment_text\n",
    "test_sentences = test_data_new.comment_text"
   ]
  },
  {
   "cell_type": "code",
   "execution_count": 7,
   "metadata": {},
   "outputs": [
    {
     "data": {
      "text/html": [
       "<div>\n",
       "<style scoped>\n",
       "    .dataframe tbody tr th:only-of-type {\n",
       "        vertical-align: middle;\n",
       "    }\n",
       "\n",
       "    .dataframe tbody tr th {\n",
       "        vertical-align: top;\n",
       "    }\n",
       "\n",
       "    .dataframe thead th {\n",
       "        text-align: right;\n",
       "    }\n",
       "</style>\n",
       "<table border=\"1\" class=\"dataframe\">\n",
       "  <thead>\n",
       "    <tr style=\"text-align: right;\">\n",
       "      <th></th>\n",
       "      <th>id</th>\n",
       "      <th>comment_text</th>\n",
       "      <th>toxic</th>\n",
       "      <th>severe_toxic</th>\n",
       "      <th>obscene</th>\n",
       "      <th>threat</th>\n",
       "      <th>insult</th>\n",
       "      <th>identity_hate</th>\n",
       "    </tr>\n",
       "  </thead>\n",
       "  <tbody>\n",
       "    <tr>\n",
       "      <th>0</th>\n",
       "      <td>0000997932d777bf</td>\n",
       "      <td>Explanation\\nWhy the edits made under my usern...</td>\n",
       "      <td>0</td>\n",
       "      <td>0</td>\n",
       "      <td>0</td>\n",
       "      <td>0</td>\n",
       "      <td>0</td>\n",
       "      <td>0</td>\n",
       "    </tr>\n",
       "    <tr>\n",
       "      <th>1</th>\n",
       "      <td>000103f0d9cfb60f</td>\n",
       "      <td>D'aww! He matches this background colour I'm s...</td>\n",
       "      <td>0</td>\n",
       "      <td>0</td>\n",
       "      <td>0</td>\n",
       "      <td>0</td>\n",
       "      <td>0</td>\n",
       "      <td>0</td>\n",
       "    </tr>\n",
       "    <tr>\n",
       "      <th>2</th>\n",
       "      <td>000113f07ec002fd</td>\n",
       "      <td>Hey man, I'm really not trying to edit war. It...</td>\n",
       "      <td>0</td>\n",
       "      <td>0</td>\n",
       "      <td>0</td>\n",
       "      <td>0</td>\n",
       "      <td>0</td>\n",
       "      <td>0</td>\n",
       "    </tr>\n",
       "    <tr>\n",
       "      <th>3</th>\n",
       "      <td>0001b41b1c6bb37e</td>\n",
       "      <td>\"\\nMore\\nI can't make any real suggestions on ...</td>\n",
       "      <td>0</td>\n",
       "      <td>0</td>\n",
       "      <td>0</td>\n",
       "      <td>0</td>\n",
       "      <td>0</td>\n",
       "      <td>0</td>\n",
       "    </tr>\n",
       "    <tr>\n",
       "      <th>4</th>\n",
       "      <td>0001d958c54c6e35</td>\n",
       "      <td>You, sir, are my hero. Any chance you remember...</td>\n",
       "      <td>0</td>\n",
       "      <td>0</td>\n",
       "      <td>0</td>\n",
       "      <td>0</td>\n",
       "      <td>0</td>\n",
       "      <td>0</td>\n",
       "    </tr>\n",
       "  </tbody>\n",
       "</table>\n",
       "</div>"
      ],
      "text/plain": [
       "                 id                                       comment_text  toxic  \\\n",
       "0  0000997932d777bf  Explanation\\nWhy the edits made under my usern...      0   \n",
       "1  000103f0d9cfb60f  D'aww! He matches this background colour I'm s...      0   \n",
       "2  000113f07ec002fd  Hey man, I'm really not trying to edit war. It...      0   \n",
       "3  0001b41b1c6bb37e  \"\\nMore\\nI can't make any real suggestions on ...      0   \n",
       "4  0001d958c54c6e35  You, sir, are my hero. Any chance you remember...      0   \n",
       "\n",
       "   severe_toxic  obscene  threat  insult  identity_hate  \n",
       "0             0        0       0       0              0  \n",
       "1             0        0       0       0              0  \n",
       "2             0        0       0       0              0  \n",
       "3             0        0       0       0              0  \n",
       "4             0        0       0       0              0  "
      ]
     },
     "execution_count": 7,
     "metadata": {},
     "output_type": "execute_result"
    }
   ],
   "source": [
    "data.head()"
   ]
  },
  {
   "cell_type": "code",
   "execution_count": 8,
   "metadata": {},
   "outputs": [
    {
     "name": "stderr",
     "output_type": "stream",
     "text": [
      "C:\\Users\\User\\anaconda3\\lib\\site-packages\\seaborn\\_decorators.py:36: FutureWarning: Pass the following variables as keyword args: x, y. From version 0.12, the only valid positional argument will be `data`, and passing other arguments without an explicit keyword will result in an error or misinterpretation.\n",
      "  warnings.warn(\n"
     ]
    },
    {
     "data": {
      "image/png": "[encoded data removed]",
      "text/plain": [
       "<Figure size 720x576 with 1 Axes>"
      ]
     },
     "metadata": {
      "needs_background": "light"
     },
     "output_type": "display_data"
    }
   ],
   "source": [
    "colors_list = [\"green\", \"yellow\", \"purple\",\n",
    "               \"blood\", \"deep blue\", \"brown\", \"azure\"]\n",
    "\n",
    "palette= sns.xkcd_palette(colors_list)\n",
    "\n",
    "x=data.iloc[:,2:].sum()\n",
    "\n",
    "\n",
    "plt.figure(figsize=(10,8))\n",
    "ax= sns.barplot(x.index, x.values, alpha=0.8, palette=palette)\n",
    "plt.ylabel('Počet komentárov', fontsize=18)\n",
    "plt.xlabel('Typ toxicity ', fontsize=18)\n",
    "\n",
    "rects = ax.patches\n",
    "labels = x.values\n",
    "for rect, label in zip(rects, labels):\n",
    "    height = rect.get_height()\n",
    "    ax.text(rect.get_x() + rect.get_width()/2, height + 5, label, ha='center', va='bottom')\n",
    "\n",
    "plt.show()"
   ]
  },
  {
   "cell_type": "code",
   "execution_count": 9,
   "metadata": {},
   "outputs": [],
   "source": [
    "####Príprava dát do vhodnej podoby pre algotimus\n",
    "EMBEDDING_DIM = 300 \n",
    "max_features = 50000 ###jedinecnych slov\n",
    "max_length = 510  ###maximalna dlzka sekvencií"
   ]
  },
  {
   "cell_type": "code",
   "execution_count": 10,
   "metadata": {},
   "outputs": [],
   "source": [
    "###nacitanie slovnika GloVe\n",
    "EMBEDDING_FILE = 'glove.840B.300d.txt' \n",
    "embeddings_index = {}\n",
    "f = open(os.path.join('',EMBEDDING_FILE), encoding = \"utf-8\")\n",
    "for line in f:\n",
    "    values = line.split(' ')\n",
    "    word = values[0]\n",
    "    coefs = np.asarray(values[1:])\n",
    "    embeddings_index[word] = coefs\n",
    "f.close()"
   ]
  },
  {
   "cell_type": "code",
   "execution_count": 11,
   "metadata": {},
   "outputs": [
    {
     "name": "stdout",
     "output_type": "stream",
     "text": [
      "Tokenizacia\n"
     ]
    }
   ],
   "source": [
    "print(\"Tokenizacia\")\n",
    "tokenizer = Tokenizer(num_words=max_features)\n",
    "tokenizer.fit_on_texts(list(train_sentences))\n",
    "###kazda veta je sekvencia tvorená z čísel, ktoré charakterizujú slovo v texte\n",
    "sequences_train = tokenizer.texts_to_sequences(train_sentences)\n",
    "sequences_test = tokenizer.texts_to_sequences(test_sentences)"
   ]
  },
  {
   "cell_type": "code",
   "execution_count": 12,
   "metadata": {},
   "outputs": [],
   "source": [
    "##zarovnanie sekvencí na rovnakú veľkosť\n",
    "x_train_seq = pad_sequences(sequences_train, maxlen=max_length) \n",
    "x_test_seq = pad_sequences(sequences_test, maxlen=max_length)"
   ]
  },
  {
   "cell_type": "code",
   "execution_count": 13,
   "metadata": {},
   "outputs": [
    {
     "name": "stdout",
     "output_type": "stream",
     "text": [
      "Emmbedings matrix....\n",
      "210338\n"
     ]
    },
    {
     "data": {
      "text/plain": [
       "(210338, 300)"
      ]
     },
     "execution_count": 13,
     "metadata": {},
     "output_type": "execute_result"
    }
   ],
   "source": [
    "word_index = tokenizer.word_index\n",
    "print(\"Emmbedings matrix....\")\n",
    "num_words = len(word_index) + 1\n",
    "embedding_matrix = np.zeros((num_words, EMBEDDING_DIM))\n",
    "\n",
    "for word, i in word_index.items():\n",
    "    if i > num_words:\n",
    "        continue\n",
    "    embedding_vector = embeddings_index.get(word)\n",
    "    if embedding_vector is not None:\n",
    "        embedding_matrix[i] = embedding_vector\n",
    "print(num_words)\n",
    "embedding_matrix.shape "
   ]
  },
  {
   "cell_type": "code",
   "execution_count": 15,
   "metadata": {},
   "outputs": [
    {
     "name": "stdout",
     "output_type": "stream",
     "text": [
      "Model: \"sequential_1\"\n",
      "_________________________________________________________________\n",
      "Layer (type)                 Output Shape              Param #   \n",
      "=================================================================\n",
      "embedding_1 (Embedding)      (None, 510, 300)          63101400  \n",
      "_________________________________________________________________\n",
      "conv1d_1 (Conv1D)            (None, 510, 64)           19264     \n",
      "_________________________________________________________________\n",
      "max_pooling1d_1 (MaxPooling1 (None, 255, 64)           0         \n",
      "_________________________________________________________________\n",
      "flatten_1 (Flatten)          (None, 16320)             0         \n",
      "_________________________________________________________________\n",
      "dropout_1 (Dropout)          (None, 16320)             0         \n",
      "_________________________________________________________________\n",
      "dense_2 (Dense)              (None, 128)               2089088   \n",
      "_________________________________________________________________\n",
      "dense_3 (Dense)              (None, 6)                 774       \n",
      "=================================================================\n",
      "Total params: 65,210,526\n",
      "Trainable params: 65,210,526\n",
      "Non-trainable params: 0\n",
      "_________________________________________________________________\n"
     ]
    }
   ],
   "source": [
    "model = Sequential()\n",
    "e = Embedding(num_words,  EMBEDDING_DIM, weights=[embedding_matrix], input_length=max_length)\n",
    "model.add(e)\n",
    "model.add(Conv1D(filters=64, kernel_size=1, padding='valid', activation='relu'))\n",
    "model.add(MaxPooling1D(2))\n",
    "model.add(Flatten())\n",
    "model.add(Dropout(0.2))\n",
    "model.add(Dense(128, activation='relu'))\n",
    "model.add(Dense(6, activation='sigmoid'))\n",
    "model.compile(loss='binary_crossentropy', optimizer='adam', metrics=['acc'])\n",
    "model.summary()"
   ]
  },
  {
   "cell_type": "code",
   "execution_count": 16,
   "metadata": {},
   "outputs": [
    {
     "data": {
      "image/png": "[encoded data removed]",
      "text/plain": [
       "<IPython.core.display.Image object>"
      ]
     },
     "execution_count": 16,
     "metadata": {},
     "output_type": "execute_result"
    }
   ],
   "source": [
    "import graphviz\n",
    "from tensorflow.keras import utils\n",
    "import pydot\n",
    "import pydotplus\n",
    "from keras.utils import plot_model\n",
    "plot_model(model, to_file='model.png', show_shapes=True, show_layer_names=True)"
   ]
  },
  {
   "cell_type": "code",
   "execution_count": 17,
   "metadata": {},
   "outputs": [
    {
     "name": "stdout",
     "output_type": "stream",
     "text": [
      "Trénovanie modelu...\n",
      "Epoch 1/3\n",
      "4488/4488 [==============================] - 3450s 768ms/step - loss: 0.0771 - acc: 0.8464 - val_loss: 0.0524 - val_acc: 0.9931\n",
      "\n",
      "Epoch 00001: val_acc improved from -inf to 0.99311, saving model to model.hdf5\n",
      "Epoch 2/3\n",
      "4488/4488 [==============================] - 3283s 731ms/step - loss: 0.0432 - acc: 0.9663 - val_loss: 0.0540 - val_acc: 0.9898\n",
      "\n",
      "Epoch 00002: val_acc did not improve from 0.99311\n",
      "Epoch 3/3\n",
      "4488/4488 [==============================] - 3286s 732ms/step - loss: 0.0348 - acc: 0.9352 - val_loss: 0.0623 - val_acc: 0.9415\n",
      "\n",
      "Epoch 00003: val_acc did not improve from 0.99311\n"
     ]
    }
   ],
   "source": [
    "saved_model= \"model.hdf5\"\n",
    "checkpoint = ModelCheckpoint(saved_model, monitor='val_acc', verbose=1, save_best_only=True, mode='max')\n",
    "print('Trénovanie modelu...')\n",
    "history = model.fit(x_train_seq, y_train,epochs=3, batch_size=32,callbacks=[checkpoint],validation_split=0.1)\n"
   ]
  },
  {
   "cell_type": "code",
   "execution_count": 18,
   "metadata": {},
   "outputs": [
    {
     "name": "stdout",
     "output_type": "stream",
     "text": [
      "Vyhodnotenie...\n",
      "Roc auc score is 0.9677199064062849\n",
      "Accuracy is 0.8688299102816593\n",
      "              precision    recall  f1-score   support\n",
      "\n",
      "           0       0.55      0.83      0.66      6090\n",
      "           1       0.31      0.42      0.36       367\n",
      "           2       0.60      0.76      0.67      3691\n",
      "           3       0.30      0.05      0.09       211\n",
      "           4       0.55      0.70      0.61      3427\n",
      "           5       0.53      0.29      0.37       712\n",
      "\n",
      "   micro avg       0.55      0.74      0.63     14498\n",
      "   macro avg       0.47      0.51      0.46     14498\n",
      "weighted avg       0.55      0.74      0.62     14498\n",
      " samples avg       0.07      0.07      0.07     14498\n",
      "\n",
      "[[[53656  4232]\n",
      "  [ 1016  5074]]\n",
      "\n",
      " [[63272   339]\n",
      "  [  212   155]]\n",
      "\n",
      " [[58370  1917]\n",
      "  [  874  2817]]\n",
      "\n",
      " [[63741    26]\n",
      "  [  200    11]]\n",
      "\n",
      " [[58557  1994]\n",
      "  [ 1031  2396]]\n",
      "\n",
      " [[63085   181]\n",
      "  [  507   205]]]\n"
     ]
    }
   ],
   "source": [
    "######VYHODNOTENIE\n",
    "print(\"Vyhodnotenie...\")\n",
    "\n",
    "y_pred = model.predict(x_test_seq)\n",
    "print('Roc auc score is {}'.format(roc_auc_score(y,y_pred)))\n",
    "y_int = np.zeros_like(y_pred)\n",
    "y_int[y_pred > 0.5] = 1\n",
    "print('Accuracy is {}'.format(accuracy_score(y,y_int)))\n",
    "print(classification_report(y, y_int, zero_division=0))\n",
    "print(multilabel_confusion_matrix(y, y_int))"
   ]
  },
  {
   "cell_type": "markdown",
   "metadata": {},
   "source": [
    "<h4>Nahradenie synonymami<h4>"
   ]
  },
  {
   "cell_type": "code",
   "execution_count": 40,
   "metadata": {},
   "outputs": [],
   "source": [
    "#####EDA \n",
    "###Nahradenie synonymami, definujeme počet slov 4, ktoré sa majú nahradiť synonymami\n",
    "stop_words = []\n",
    "for w in stopwords.words('english'):\n",
    "    stop_words.append(w)\n",
    "\n",
    "def get_synonyms(word):\n",
    "    synonyms = set()\n",
    "    \n",
    "    for syn in wordnet.synsets(word):\n",
    "        for l in syn.lemmas():\n",
    "            synonym = l.name().replace(\"_\", \" \").replace(\"-\", \" \").lower()\n",
    "            synonym = \"\".join([char for char in synonym if char in ' qwertyuiopasdfghjklzxcvbnm'])\n",
    "            synonyms.add(synonym) \n",
    "    if word in synonyms:\n",
    "        synonyms.remove(word)\n",
    "    \n",
    "    return list(synonyms)\n",
    "def synonym_replacement(words, n=4):\n",
    "    \n",
    "    words = words.split()\n",
    "    \n",
    "    new_words = words.copy()\n",
    "    random_word_list = list(set([word for word in words if word not in stop_words]))\n",
    "    random.shuffle(random_word_list)\n",
    "    num_replaced = 0\n",
    "    \n",
    "    for random_word in random_word_list:\n",
    "        synonyms = get_synonyms(random_word)\n",
    "        \n",
    "        if len(synonyms) >= 1:\n",
    "            synonym = random.choice(list(synonyms))\n",
    "            new_words = [synonym if word == random_word else word for word in new_words]\n",
    "            num_replaced += 1\n",
    "        \n",
    "        if num_replaced >= n: \n",
    "            break\n",
    "\n",
    "    sentence = ' '.join(new_words)\n",
    "\n",
    "    return sentence"
   ]
  },
  {
   "cell_type": "code",
   "execution_count": 41,
   "metadata": {},
   "outputs": [],
   "source": [
    "###definujeme mnozinu, ktorá vyjadruje len texty troch najmenej početných tried teda, several_toxic,treat, identity_hate\n",
    "toxic=train_sentences[(y_train.severe_toxic == 1) | (y_train.threat == 1) | (y_train.identity_hate == 1)]\n",
    "###aplikujeme funkciu na nahradenie synonym\n",
    "x_syn = toxic.apply(synonym_replacement)"
   ]
  },
  {
   "cell_type": "code",
   "execution_count": 42,
   "metadata": {},
   "outputs": [],
   "source": [
    "#pridáme hodnotenie 1 pre všetky nové komentáre\n",
    "y_syn=y_train[(y_train.severe_toxic == 1) | (y_train.threat == 1) | (y_train.identity_hate == 1)]"
   ]
  },
  {
   "cell_type": "code",
   "execution_count": 43,
   "metadata": {},
   "outputs": [],
   "source": [
    "#spojime pôvodnú množinu a a novú vytvorenú množinu\n",
    "x_syn=pd.concat([train_sentences,x_syn])\n",
    "y_syn=pd.concat([y_train,y_syn])"
   ]
  },
  {
   "cell_type": "code",
   "execution_count": 44,
   "metadata": {},
   "outputs": [
    {
     "name": "stdout",
     "output_type": "stream",
     "text": [
      "Pocet nových vytvorených toxických komentárov\n",
      "2987\n",
      "Počet toxických komentárov v celej množine pred rozšírením\n",
      "16225\n",
      "Počet toxických komentárov v celej množine po rozšírení\n",
      "19212\n"
     ]
    }
   ],
   "source": [
    "print(\"Pocet nových vytvorených toxických komentárov\")\n",
    "print(len(toxic))\n",
    "\n",
    "print(\"Počet toxických komentárov v celej množine pred rozšírením\")\n",
    "povodnetoxic=train_sentences[y_train.T[(y_train.T == 1)].any()]\n",
    "print(len(povodnetoxic))\n",
    "\n",
    "print(\"Počet toxických komentárov v celej množine po rozšírení\")\n",
    "novetoxic=x_syn[y_syn.T[(y_syn.T == 1)].any()]\n",
    "print(len(novetoxic))\n",
    "\n"
   ]
  },
  {
   "cell_type": "code",
   "execution_count": 45,
   "metadata": {},
   "outputs": [
    {
     "name": "stdout",
     "output_type": "stream",
     "text": [
      "Tokenizacia\n"
     ]
    }
   ],
   "source": [
    "###spojenú množinu musíme upraviť do vhondje podoby pre model, lebo je vo forme slovnej reprezentácie\n",
    "print(\"Tokenizacia\")\n",
    "tokenizer = Tokenizer(max_features)\n",
    "tokenizer.fit_on_texts(x_syn)\n",
    "sequences_train = tokenizer.texts_to_sequences(x_syn)\n",
    "sequences_test = tokenizer.texts_to_sequences(test_sentences)\n",
    "\n",
    "x_train_seq = pad_sequences(sequences_train, maxlen=max_length) \n",
    "x_test_seq = pad_sequences(sequences_test, maxlen=max_length)"
   ]
  },
  {
   "cell_type": "code",
   "execution_count": 46,
   "metadata": {},
   "outputs": [
    {
     "name": "stdout",
     "output_type": "stream",
     "text": [
      "Najdenych 210882 jedinecnych tokenov.\n",
      "Emmbedings matrix....\n",
      "210883\n"
     ]
    },
    {
     "data": {
      "text/plain": [
       "(210883, 300)"
      ]
     },
     "execution_count": 46,
     "metadata": {},
     "output_type": "execute_result"
    }
   ],
   "source": [
    "word_index = tokenizer.word_index\n",
    "print('Najdenych %s jedinecnych tokenov.' %len (word_index))\n",
    "\n",
    "print(\"Emmbedings matrix....\")\n",
    "num_words = len(word_index) + 1\n",
    "embedding_matrix = np.zeros((num_words, EMBEDDING_DIM))\n",
    "\n",
    "for word, i in word_index.items():\n",
    "    if i > num_words:\n",
    "        continue\n",
    "    embedding_vector = embeddings_index.get(word)\n",
    "    if embedding_vector is not None:\n",
    "        embedding_matrix[i] = embedding_vector\n",
    "print(num_words)\n",
    "embedding_matrix.shape "
   ]
  },
  {
   "cell_type": "code",
   "execution_count": 47,
   "metadata": {},
   "outputs": [
    {
     "name": "stdout",
     "output_type": "stream",
     "text": [
      "Model: \"sequential_6\"\n",
      "_________________________________________________________________\n",
      "Layer (type)                 Output Shape              Param #   \n",
      "=================================================================\n",
      "embedding_6 (Embedding)      (None, 510, 300)          63264900  \n",
      "_________________________________________________________________\n",
      "conv1d_6 (Conv1D)            (None, 510, 64)           19264     \n",
      "_________________________________________________________________\n",
      "max_pooling1d_6 (MaxPooling1 (None, 255, 64)           0         \n",
      "_________________________________________________________________\n",
      "flatten_6 (Flatten)          (None, 16320)             0         \n",
      "_________________________________________________________________\n",
      "dropout_6 (Dropout)          (None, 16320)             0         \n",
      "_________________________________________________________________\n",
      "dense_12 (Dense)             (None, 128)               2089088   \n",
      "_________________________________________________________________\n",
      "dense_13 (Dense)             (None, 6)                 774       \n",
      "=================================================================\n",
      "Total params: 65,374,026\n",
      "Trainable params: 65,374,026\n",
      "Non-trainable params: 0\n",
      "_________________________________________________________________\n",
      "Training model...\n",
      "Epoch 1/3\n",
      "4572/4572 [==============================] - 3267s 714ms/step - loss: 0.0722 - acc: 0.8839 - val_loss: 0.2034 - val_acc: 0.9859\n",
      "\n",
      "Epoch 00001: val_acc improved from -inf to 0.98585, saving model to model_syn.hdf5\n",
      "Epoch 2/3\n",
      "4572/4572 [==============================] - 3356s 734ms/step - loss: 0.0424 - acc: 0.9663 - val_loss: 0.1899 - val_acc: 0.9850\n",
      "\n",
      "Epoch 00002: val_acc did not improve from 0.98585\n",
      "Epoch 3/3\n",
      "4572/4572 [==============================] - 3241s 709ms/step - loss: 0.0338 - acc: 0.9117 - val_loss: 0.2187 - val_acc: 0.9400\n",
      "\n",
      "Epoch 00003: val_acc did not improve from 0.98585\n"
     ]
    }
   ],
   "source": [
    "model = Sequential()\n",
    "e = Embedding(num_words,  EMBEDDING_DIM, weights=[embedding_matrix], input_length=max_length)\n",
    "model.add(e)\n",
    "model.add(Conv1D(filters=64, kernel_size=1, padding='valid', activation='relu'))\n",
    "model.add(MaxPooling1D(2))\n",
    "model.add(Flatten())\n",
    "model.add(Dropout(0.2))\n",
    "model.add(Dense(128, activation='relu'))\n",
    "model.add(Dense(6, activation='sigmoid'))\n",
    "model.compile(loss='binary_crossentropy', optimizer='adam', metrics=['acc'])\n",
    "model.summary()\n",
    "saved_model= \"model_syn.hdf5\"\n",
    "checkpoint = ModelCheckpoint(saved_model, monitor='val_acc', verbose=1, save_best_only=True, mode='max')\n",
    "\n",
    "print('Training model...')\n",
    "history = model.fit(x_train_seq, y_syn,epochs=3, batch_size=32,callbacks=[checkpoint],validation_split=0.1)"
   ]
  },
  {
   "cell_type": "code",
   "execution_count": 48,
   "metadata": {},
   "outputs": [
    {
     "name": "stdout",
     "output_type": "stream",
     "text": [
      "Vyhodnotenie...\n",
      "Roc auc skore je 0.9705240458815898\n",
      "Úspešnosť je 0.8674544374628779\n",
      "              precision    recall  f1-score   support\n",
      "\n",
      "           0       0.53      0.88      0.66      6090\n",
      "           1       0.39      0.19      0.26       367\n",
      "           2       0.62      0.78      0.69      3691\n",
      "           3       0.00      0.00      0.00       211\n",
      "           4       0.61      0.66      0.63      3427\n",
      "           5       0.61      0.13      0.22       712\n",
      "\n",
      "   micro avg       0.57      0.73      0.64     14498\n",
      "   macro avg       0.46      0.44      0.41     14498\n",
      "weighted avg       0.57      0.73      0.62     14498\n",
      " samples avg       0.08      0.07      0.07     14498\n",
      "\n",
      "[[[53161  4727]\n",
      "  [  750  5340]]\n",
      "\n",
      " [[63500   111]\n",
      "  [  297    70]]\n",
      "\n",
      " [[58563  1724]\n",
      "  [  830  2861]]\n",
      "\n",
      " [[63766     1]\n",
      "  [  211     0]]\n",
      "\n",
      " [[59090  1461]\n",
      "  [ 1167  2260]]\n",
      "\n",
      " [[63205    61]\n",
      "  [  616    96]]]\n"
     ]
    }
   ],
   "source": [
    "######VYHODNOTENIE\n",
    "print(\"Vyhodnotenie...\")\n",
    "model = load_model('model_syn.hdf5')\n",
    "y_pred = model.predict(x_test_seq)\n",
    "print('Roc auc skore je {}'.format(roc_auc_score(y,y_pred)))\n",
    "y_int = np.zeros_like(y_pred)\n",
    "y_int[y_pred > 0.5] = 1\n",
    "print('Úspešnosť je {}'.format(accuracy_score(y,y_int)))\n",
    "print(classification_report(y, y_int, zero_division=0))\n",
    "print(multilabel_confusion_matrix(y, y_int))"
   ]
  },
  {
   "cell_type": "code",
   "execution_count": 58,
   "metadata": {},
   "outputs": [],
   "source": [
    "#kedže v predchádzajúcom modeli sme nedosiahli zlepšenie zmenili sme parameter \n",
    "###Nahradenie synonymami, definujeme počet slov 6, ktoré sa majú nahradiť synonymami\n",
    "def get_synonyms(word):\n",
    "    synonyms = set()\n",
    "    \n",
    "    for syn in wordnet.synsets(word):\n",
    "        for l in syn.lemmas():\n",
    "            synonym = l.name().replace(\"_\", \" \").replace(\"-\", \" \").lower()\n",
    "            synonym = \"\".join([char for char in synonym if char in ' qwertyuiopasdfghjklzxcvbnm'])\n",
    "            synonyms.add(synonym) \n",
    "    if word in synonyms:\n",
    "        synonyms.remove(word)\n",
    "    \n",
    "    return list(synonyms)\n",
    "def synonym_replacement(words, n=6):\n",
    "    \n",
    "    words = words.split()\n",
    "    \n",
    "    new_words = words.copy()\n",
    "    random_word_list = list(set([word for word in words if word not in stop_words]))\n",
    "    random.shuffle(random_word_list)\n",
    "    num_replaced = 0\n",
    "    \n",
    "    for random_word in random_word_list:\n",
    "        synonyms = get_synonyms(random_word)\n",
    "        \n",
    "        if len(synonyms) >= 1:\n",
    "            synonym = random.choice(list(synonyms))\n",
    "            new_words = [synonym if word == random_word else word for word in new_words]\n",
    "            num_replaced += 1\n",
    "        \n",
    "        if num_replaced >= n: #only replace up to n words\n",
    "            break\n",
    "\n",
    "    sentence = ' '.join(new_words)\n",
    "\n",
    "    return sentence\n",
    "\n",
    "###definujeme mnozinu, ktorá vyjadruje len texty troch najmenej početných tried teda, several_toxic,treat, identity_hate\n",
    "toxic=train_sentences[(y_train.severe_toxic == 1) | (y_train.threat == 1) | (y_train.identity_hate == 1)]\n",
    "###aplikujeme funkciu na nahradenie synonym\n",
    "x_syn = toxic.apply(synonym_replacement)\n",
    "#spojime pôvodnú množinu a a novú vytvorenú množinu\n",
    "x_syn=pd.concat([train_sentences,x_syn])\n",
    "y_syn=pd.concat([y_train,y_syn])"
   ]
  },
  {
   "cell_type": "code",
   "execution_count": 60,
   "metadata": {},
   "outputs": [
    {
     "name": "stdout",
     "output_type": "stream",
     "text": [
      "Tokenizacia\n",
      "Emmbedings matrix....\n",
      "210995\n"
     ]
    },
    {
     "data": {
      "text/plain": [
       "(210995, 300)"
      ]
     },
     "execution_count": 60,
     "metadata": {},
     "output_type": "execute_result"
    }
   ],
   "source": [
    "###spojenú množinu musíme upraviť do vhondje podoby pre model, lebo je vo forme slovnej reprezentácie\n",
    "print(\"Tokenizacia\")\n",
    "tokenizer = Tokenizer(max_features)\n",
    "tokenizer.fit_on_texts(x_syn)\n",
    "sequences_train = tokenizer.texts_to_sequences(x_syn)\n",
    "sequences_test = tokenizer.texts_to_sequences(test_sentences)\n",
    "\n",
    "x_train_seq = pad_sequences(sequences_train, maxlen=max_length) \n",
    "x_test_seq = pad_sequences(sequences_test, maxlen=max_length)\n",
    "word_index = tokenizer.word_index\n",
    "\n",
    "print(\"Emmbedings matrix....\")\n",
    "num_words = len(word_index) + 1\n",
    "embedding_matrix = np.zeros((num_words, EMBEDDING_DIM))\n",
    "\n",
    "for word, i in word_index.items():\n",
    "    if i > num_words:\n",
    "        continue\n",
    "    embedding_vector = embeddings_index.get(word)\n",
    "    if embedding_vector is not None:\n",
    "        embedding_matrix[i] = embedding_vector\n",
    "print(num_words)\n",
    "embedding_matrix.shape "
   ]
  },
  {
   "cell_type": "code",
   "execution_count": 61,
   "metadata": {},
   "outputs": [
    {
     "name": "stdout",
     "output_type": "stream",
     "text": [
      "Model: \"sequential_9\"\n",
      "_________________________________________________________________\n",
      "Layer (type)                 Output Shape              Param #   \n",
      "=================================================================\n",
      "embedding_9 (Embedding)      (None, 510, 300)          63298500  \n",
      "_________________________________________________________________\n",
      "conv1d_9 (Conv1D)            (None, 510, 64)           19264     \n",
      "_________________________________________________________________\n",
      "max_pooling1d_9 (MaxPooling1 (None, 255, 64)           0         \n",
      "_________________________________________________________________\n",
      "flatten_9 (Flatten)          (None, 16320)             0         \n",
      "_________________________________________________________________\n",
      "dropout_9 (Dropout)          (None, 16320)             0         \n",
      "_________________________________________________________________\n",
      "dense_18 (Dense)             (None, 128)               2089088   \n",
      "_________________________________________________________________\n",
      "dense_19 (Dense)             (None, 6)                 774       \n",
      "=================================================================\n",
      "Total params: 65,407,626\n",
      "Trainable params: 65,407,626\n",
      "Non-trainable params: 0\n",
      "_________________________________________________________________\n",
      "Training model...\n",
      "Epoch 1/3\n",
      "4572/4572 [==============================] - 3135s 685ms/step - loss: 0.0723 - acc: 0.8701 - val_loss: 0.1882 - val_acc: 0.9742\n",
      "\n",
      "Epoch 00001: val_acc improved from -inf to 0.97422, saving model to model_syn6.hdf5\n",
      "Epoch 2/3\n",
      "4572/4572 [==============================] - 3162s 692ms/step - loss: 0.0431 - acc: 0.9778 - val_loss: 0.2295 - val_acc: 0.9891\n",
      "\n",
      "Epoch 00002: val_acc improved from 0.97422 to 0.98911, saving model to model_syn6.hdf5\n",
      "Epoch 3/3\n",
      "4572/4572 [==============================] - 3243s 709ms/step - loss: 0.0348 - acc: 0.8837 - val_loss: 0.2598 - val_acc: 0.9657\n",
      "\n",
      "Epoch 00003: val_acc did not improve from 0.98911\n"
     ]
    }
   ],
   "source": [
    "model = Sequential()\n",
    "e = Embedding(num_words,  EMBEDDING_DIM, weights=[embedding_matrix], input_length=max_length)\n",
    "model.add(e)\n",
    "model.add(Conv1D(filters=64, kernel_size=1, padding='valid', activation='relu'))\n",
    "model.add(MaxPooling1D(2))\n",
    "model.add(Flatten())\n",
    "model.add(Dropout(0.2))\n",
    "model.add(Dense(128, activation='relu'))\n",
    "model.add(Dense(6, activation='sigmoid'))\n",
    "model.compile(loss='binary_crossentropy', optimizer='adam', metrics=['acc'])\n",
    "model.summary()\n",
    "saved_model= \"model_syn6.hdf5\"\n",
    "checkpoint = ModelCheckpoint(saved_model, monitor='val_acc', verbose=1, save_best_only=True, mode='max')\n",
    "\n",
    "print('Training model...')\n",
    "history = model.fit(x_train_seq, y_syn,epochs=3, batch_size=32,callbacks=[checkpoint],validation_split=0.1)"
   ]
  },
  {
   "cell_type": "code",
   "execution_count": 62,
   "metadata": {},
   "outputs": [
    {
     "name": "stdout",
     "output_type": "stream",
     "text": [
      "Vyhodnotenie...\n",
      "Roc auc skore je 0.969352462040925\n",
      "Úspešnosť je 0.8853981055987996\n",
      "              precision    recall  f1-score   support\n",
      "\n",
      "           0       0.61      0.79      0.68      6090\n",
      "           1       0.39      0.36      0.37       367\n",
      "           2       0.69      0.69      0.69      3691\n",
      "           3       0.00      0.00      0.00       211\n",
      "           4       0.69      0.54      0.60      3427\n",
      "           5       0.73      0.20      0.31       712\n",
      "\n",
      "   micro avg       0.64      0.65      0.64     14498\n",
      "   macro avg       0.52      0.43      0.44     14498\n",
      "weighted avg       0.64      0.65      0.63     14498\n",
      " samples avg       0.07      0.06      0.06     14498\n",
      "\n",
      "[[[54763  3125]\n",
      "  [ 1301  4789]]\n",
      "\n",
      " [[63400   211]\n",
      "  [  234   133]]\n",
      "\n",
      " [[59162  1125]\n",
      "  [ 1147  2544]]\n",
      "\n",
      " [[63767     0]\n",
      "  [  211     0]]\n",
      "\n",
      " [[59722   829]\n",
      "  [ 1591  1836]]\n",
      "\n",
      " [[63214    52]\n",
      "  [  570   142]]]\n"
     ]
    }
   ],
   "source": [
    "######VYHODNOTENIE\n",
    "print(\"Vyhodnotenie...\")\n",
    "model = load_model('model_syn6.hdf5')\n",
    "y_pred = model.predict(x_test_seq)\n",
    "print('Roc auc skore je {}'.format(roc_auc_score(y,y_pred)))\n",
    "y_int = np.zeros_like(y_pred)\n",
    "y_int[y_pred > 0.5] = 1\n",
    "print('Úspešnosť je {}'.format(accuracy_score(y,y_int)))\n",
    "print(classification_report(y, y_int, zero_division=0))\n",
    "print(multilabel_confusion_matrix(y, y_int))"
   ]
  },
  {
   "cell_type": "markdown",
   "metadata": {},
   "source": [
    "<h4>Nahodné vymazanie <h4>"
   ]
  },
  {
   "cell_type": "code",
   "execution_count": 49,
   "metadata": {},
   "outputs": [],
   "source": [
    "####NAHODNE VYMAZANIE\n",
    "\n",
    "def random_deletion(words, p=0.15):\n",
    "    words = words.split()\n",
    "     # zjavne, ak je iba jedno slovo,  nevymazeme ho\n",
    "    if len(words) == 1:\n",
    "        return words\n",
    "    \n",
    "    new_words = []\n",
    "    for word in words:\n",
    "        r = random.uniform(0, 1)\n",
    "        if r > p:\n",
    "            new_words.append(word)\n",
    "\n",
    "    if len(new_words) == 0:\n",
    "        rand_int = random.randint(0, len(words)-1)\n",
    "        return [words[rand_int]]\n",
    "\n",
    "    sentence = ' '.join(new_words)\n",
    "    \n",
    "    return sentence\n",
    "###opakujeme rovnaký postup ako v predchádzajúcej metóde\n",
    "toxic=train_sentences[(y_train.severe_toxic == 1) | (y_train.threat == 1) | (y_train.identity_hate == 1)]\n",
    "x_del = toxic.apply(random_deletion)\n",
    "y_del=y_train[(y_train.severe_toxic == 1) | (y_train.threat == 1) | (y_train.identity_hate == 1)]\n",
    "x_random_del=pd.concat([train_sentences,x_del])\n",
    "y_random_del=pd.concat([y_train,y_del])\n"
   ]
  },
  {
   "cell_type": "code",
   "execution_count": 50,
   "metadata": {},
   "outputs": [
    {
     "name": "stdout",
     "output_type": "stream",
     "text": [
      "Tokenizacia\n",
      "Emmbedings matrix....\n",
      "210883\n"
     ]
    },
    {
     "data": {
      "text/plain": [
       "(210883, 300)"
      ]
     },
     "execution_count": 50,
     "metadata": {},
     "output_type": "execute_result"
    }
   ],
   "source": [
    "print(\"Tokenizacia\")\n",
    "tokenizer = Tokenizer(max_features)\n",
    "tokenizer.fit_on_texts(x_syn)\n",
    "\n",
    "sequences_train = tokenizer.texts_to_sequences(x_random_del)\n",
    "sequences_test = tokenizer.texts_to_sequences(test_sentences)\n",
    "\n",
    "x_train_seq = pad_sequences(sequences_train, maxlen=max_length) \n",
    "x_test_seq = pad_sequences(sequences_test, maxlen=max_length)\n",
    "\n",
    "word_index = tokenizer.word_index\n",
    "\n",
    "print(\"Emmbedings matrix....\")\n",
    "num_words = len(word_index) + 1\n",
    "embedding_matrix = np.zeros((num_words, EMBEDDING_DIM))\n",
    "\n",
    "for word, i in word_index.items():\n",
    "    if i > num_words:\n",
    "        continue\n",
    "    embedding_vector = embeddings_index.get(word)\n",
    "    if embedding_vector is not None:\n",
    "        embedding_matrix[i] = embedding_vector\n",
    "print(num_words)\n",
    "embedding_matrix.shape \n"
   ]
  },
  {
   "cell_type": "code",
   "execution_count": 51,
   "metadata": {},
   "outputs": [
    {
     "name": "stdout",
     "output_type": "stream",
     "text": [
      "Model: \"sequential_7\"\n",
      "_________________________________________________________________\n",
      "Layer (type)                 Output Shape              Param #   \n",
      "=================================================================\n",
      "embedding_7 (Embedding)      (None, 510, 300)          63264900  \n",
      "_________________________________________________________________\n",
      "conv1d_7 (Conv1D)            (None, 510, 64)           19264     \n",
      "_________________________________________________________________\n",
      "max_pooling1d_7 (MaxPooling1 (None, 255, 64)           0         \n",
      "_________________________________________________________________\n",
      "flatten_7 (Flatten)          (None, 16320)             0         \n",
      "_________________________________________________________________\n",
      "dropout_7 (Dropout)          (None, 16320)             0         \n",
      "_________________________________________________________________\n",
      "dense_14 (Dense)             (None, 128)               2089088   \n",
      "_________________________________________________________________\n",
      "dense_15 (Dense)             (None, 6)                 774       \n",
      "=================================================================\n",
      "Total params: 65,374,026\n",
      "Trainable params: 65,374,026\n",
      "Non-trainable params: 0\n",
      "_________________________________________________________________\n"
     ]
    }
   ],
   "source": [
    "model = Sequential()\n",
    "e = Embedding(num_words,  EMBEDDING_DIM, weights=[embedding_matrix], input_length=max_length)\n",
    "model.add(e)\n",
    "model.add(Conv1D(filters=64, kernel_size=1, padding='valid', activation='relu'))\n",
    "model.add(MaxPooling1D(2))\n",
    "model.add(Flatten())\n",
    "model.add(Dropout(0.2))\n",
    "model.add(Dense(128, activation='relu'))\n",
    "model.add(Dense(6, activation='sigmoid'))\n",
    "model.compile(loss='binary_crossentropy', optimizer='adam', metrics=['acc'])\n",
    "model.summary()"
   ]
  },
  {
   "cell_type": "code",
   "execution_count": 52,
   "metadata": {},
   "outputs": [
    {
     "name": "stdout",
     "output_type": "stream",
     "text": [
      "Training model...\n",
      "Epoch 1/3\n",
      "4572/4572 [==============================] - 3123s 683ms/step - loss: 0.0764 - acc: 0.8648 - val_loss: 0.1568 - val_acc: 0.9772\n",
      "\n",
      "Epoch 00001: val_acc improved from -inf to 0.97718, saving model to model_del.hdf5\n",
      "Epoch 2/3\n",
      "4572/4572 [==============================] - 3344s 731ms/step - loss: 0.0430 - acc: 0.9661 - val_loss: 0.1485 - val_acc: 0.9740\n",
      "\n",
      "Epoch 00002: val_acc did not improve from 0.97718\n",
      "Epoch 3/3\n",
      "4572/4572 [==============================] - 3195s 699ms/step - loss: 0.0345 - acc: 0.9230 - val_loss: 0.1450 - val_acc: 0.9230\n",
      "\n",
      "Epoch 00003: val_acc did not improve from 0.97718\n"
     ]
    }
   ],
   "source": [
    "saved_model = \"model_del.hdf5\"\n",
    "checkpoint = ModelCheckpoint(saved_model, monitor='val_acc', verbose=1, save_best_only=True, mode='max')\n",
    "\n",
    "print('Training model...')\n",
    "history = model.fit(x_train_seq, y_random_del,epochs=3, batch_size=32,callbacks=[checkpoint],validation_split=0.1)\n"
   ]
  },
  {
   "cell_type": "code",
   "execution_count": 54,
   "metadata": {},
   "outputs": [
    {
     "name": "stdout",
     "output_type": "stream",
     "text": [
      "Vyhodnotenie...\n",
      "Roc auc skore je 0.9656277744413778\n",
      "Úspešnosť je 0.8698615148957454\n",
      "              precision    recall  f1-score   support\n",
      "\n",
      "           0       0.54      0.86      0.67      6090\n",
      "           1       0.35      0.35      0.35       367\n",
      "           2       0.63      0.77      0.70      3691\n",
      "           3       0.00      0.00      0.00       211\n",
      "           4       0.54      0.73      0.62      3427\n",
      "           5       0.00      0.00      0.00       712\n",
      "\n",
      "   micro avg       0.56      0.74      0.64     14498\n",
      "   macro avg       0.34      0.45      0.39     14498\n",
      "weighted avg       0.53      0.74      0.61     14498\n",
      " samples avg       0.07      0.07      0.07     14498\n",
      "\n",
      "[[[53501  4387]\n",
      "  [  841  5249]]\n",
      "\n",
      " [[63375   236]\n",
      "  [  238   129]]\n",
      "\n",
      " [[58649  1638]\n",
      "  [  850  2841]]\n",
      "\n",
      " [[63767     0]\n",
      "  [  211     0]]\n",
      "\n",
      " [[58395  2156]\n",
      "  [  932  2495]]\n",
      "\n",
      " [[63263     3]\n",
      "  [  712     0]]]\n"
     ]
    }
   ],
   "source": [
    "######VYHODNOTENIE\n",
    "print(\"Vyhodnotenie...\")\n",
    "model = load_model('model_del.hdf5')\n",
    "y_pred = model.predict(x_test_seq)\n",
    "print('Roc auc skore je {}'.format(roc_auc_score(y,y_pred)))\n",
    "y_int = np.zeros_like(y_pred)\n",
    "y_int[y_pred > 0.5] = 1\n",
    "print('Úspešnosť je {}'.format(accuracy_score(y,y_int)))\n",
    "print(classification_report(y, y_int, zero_division=0))\n",
    "print(multilabel_confusion_matrix(y, y_int))\n"
   ]
  }
 ],
 "metadata": {
  "kernelspec": {
   "display_name": "Python 3",
   "language": "python",
   "name": "python3"
  },
  "language_info": {
   "codemirror_mode": {
    "name": "ipython",
    "version": 3
   },
   "file_extension": ".py",
   "mimetype": "text/x-python",
   "name": "python",
   "nbconvert_exporter": "python",
   "pygments_lexer": "ipython3",
   "version": "3.8.5"
  }
 },
 "nbformat": 4,
 "nbformat_minor": 4
}
